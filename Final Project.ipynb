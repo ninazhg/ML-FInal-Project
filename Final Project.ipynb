{
 "cells": [
  {
   "cell_type": "code",
   "execution_count": 216,
   "id": "0d2fd751-85b8-4c4a-b0bd-ecd864f59678",
   "metadata": {},
   "outputs": [],
   "source": [
    "import numpy as np\n",
    "import pandas as pd\n",
    "import sys\n",
    "import matplotlib.pyplot as plt"
   ]
  },
  {
   "cell_type": "markdown",
   "id": "0dffb796-1509-46e1-97be-25cb54668757",
   "metadata": {},
   "source": [
    "## EDA"
   ]
  },
  {
   "cell_type": "code",
   "execution_count": 299,
   "id": "12c54366-bfd5-4439-8ef0-95b6b1191739",
   "metadata": {},
   "outputs": [],
   "source": [
    "pd.set_option('display.max_columns', None)"
   ]
  },
  {
   "cell_type": "code",
   "execution_count": 300,
   "id": "5f21b09c-a740-4f5c-bead-1df605c44cb2",
   "metadata": {},
   "outputs": [
    {
     "data": {
      "text/html": [
       "<div>\n",
       "<style scoped>\n",
       "    .dataframe tbody tr th:only-of-type {\n",
       "        vertical-align: middle;\n",
       "    }\n",
       "\n",
       "    .dataframe tbody tr th {\n",
       "        vertical-align: top;\n",
       "    }\n",
       "\n",
       "    .dataframe thead th {\n",
       "        text-align: right;\n",
       "    }\n",
       "</style>\n",
       "<table border=\"1\" class=\"dataframe\">\n",
       "  <thead>\n",
       "    <tr style=\"text-align: right;\">\n",
       "      <th></th>\n",
       "      <th>age</th>\n",
       "      <th>sex</th>\n",
       "      <th>on_thyroxine</th>\n",
       "      <th>query_on_thyroxine</th>\n",
       "      <th>on_antithyroid_meds</th>\n",
       "      <th>sick</th>\n",
       "      <th>pregnant</th>\n",
       "      <th>thyroid_surgery</th>\n",
       "      <th>I131_treatment</th>\n",
       "      <th>query_hypothyroid</th>\n",
       "      <th>query_hyperthyroid</th>\n",
       "      <th>lithium</th>\n",
       "      <th>goitre</th>\n",
       "      <th>tumor</th>\n",
       "      <th>hypopituitary</th>\n",
       "      <th>psych</th>\n",
       "      <th>TSH_measured</th>\n",
       "      <th>TSH</th>\n",
       "      <th>T3_measured</th>\n",
       "      <th>T3</th>\n",
       "      <th>TT4_measured</th>\n",
       "      <th>TT4</th>\n",
       "      <th>T4U_measured</th>\n",
       "      <th>T4U</th>\n",
       "      <th>FTI_measured</th>\n",
       "      <th>FTI</th>\n",
       "      <th>TBG_measured</th>\n",
       "      <th>TBG</th>\n",
       "      <th>referral_source</th>\n",
       "      <th>target</th>\n",
       "      <th>patient_id</th>\n",
       "    </tr>\n",
       "  </thead>\n",
       "  <tbody>\n",
       "    <tr>\n",
       "      <th>0</th>\n",
       "      <td>29</td>\n",
       "      <td>F</td>\n",
       "      <td>f</td>\n",
       "      <td>f</td>\n",
       "      <td>f</td>\n",
       "      <td>f</td>\n",
       "      <td>f</td>\n",
       "      <td>f</td>\n",
       "      <td>f</td>\n",
       "      <td>t</td>\n",
       "      <td>f</td>\n",
       "      <td>f</td>\n",
       "      <td>f</td>\n",
       "      <td>f</td>\n",
       "      <td>f</td>\n",
       "      <td>f</td>\n",
       "      <td>t</td>\n",
       "      <td>0.3</td>\n",
       "      <td>f</td>\n",
       "      <td>NaN</td>\n",
       "      <td>f</td>\n",
       "      <td>NaN</td>\n",
       "      <td>f</td>\n",
       "      <td>NaN</td>\n",
       "      <td>f</td>\n",
       "      <td>NaN</td>\n",
       "      <td>f</td>\n",
       "      <td>NaN</td>\n",
       "      <td>other</td>\n",
       "      <td>-</td>\n",
       "      <td>840801013</td>\n",
       "    </tr>\n",
       "    <tr>\n",
       "      <th>1</th>\n",
       "      <td>29</td>\n",
       "      <td>F</td>\n",
       "      <td>f</td>\n",
       "      <td>f</td>\n",
       "      <td>f</td>\n",
       "      <td>f</td>\n",
       "      <td>f</td>\n",
       "      <td>f</td>\n",
       "      <td>f</td>\n",
       "      <td>f</td>\n",
       "      <td>f</td>\n",
       "      <td>f</td>\n",
       "      <td>f</td>\n",
       "      <td>f</td>\n",
       "      <td>f</td>\n",
       "      <td>f</td>\n",
       "      <td>t</td>\n",
       "      <td>1.6</td>\n",
       "      <td>t</td>\n",
       "      <td>1.9</td>\n",
       "      <td>t</td>\n",
       "      <td>128.0</td>\n",
       "      <td>f</td>\n",
       "      <td>NaN</td>\n",
       "      <td>f</td>\n",
       "      <td>NaN</td>\n",
       "      <td>f</td>\n",
       "      <td>NaN</td>\n",
       "      <td>other</td>\n",
       "      <td>-</td>\n",
       "      <td>840801014</td>\n",
       "    </tr>\n",
       "    <tr>\n",
       "      <th>2</th>\n",
       "      <td>41</td>\n",
       "      <td>F</td>\n",
       "      <td>f</td>\n",
       "      <td>f</td>\n",
       "      <td>f</td>\n",
       "      <td>f</td>\n",
       "      <td>f</td>\n",
       "      <td>f</td>\n",
       "      <td>f</td>\n",
       "      <td>f</td>\n",
       "      <td>t</td>\n",
       "      <td>f</td>\n",
       "      <td>f</td>\n",
       "      <td>f</td>\n",
       "      <td>f</td>\n",
       "      <td>f</td>\n",
       "      <td>f</td>\n",
       "      <td>NaN</td>\n",
       "      <td>f</td>\n",
       "      <td>NaN</td>\n",
       "      <td>f</td>\n",
       "      <td>NaN</td>\n",
       "      <td>f</td>\n",
       "      <td>NaN</td>\n",
       "      <td>f</td>\n",
       "      <td>NaN</td>\n",
       "      <td>t</td>\n",
       "      <td>11.0</td>\n",
       "      <td>other</td>\n",
       "      <td>-</td>\n",
       "      <td>840801042</td>\n",
       "    </tr>\n",
       "    <tr>\n",
       "      <th>3</th>\n",
       "      <td>36</td>\n",
       "      <td>F</td>\n",
       "      <td>f</td>\n",
       "      <td>f</td>\n",
       "      <td>f</td>\n",
       "      <td>f</td>\n",
       "      <td>f</td>\n",
       "      <td>f</td>\n",
       "      <td>f</td>\n",
       "      <td>f</td>\n",
       "      <td>f</td>\n",
       "      <td>f</td>\n",
       "      <td>f</td>\n",
       "      <td>f</td>\n",
       "      <td>f</td>\n",
       "      <td>f</td>\n",
       "      <td>f</td>\n",
       "      <td>NaN</td>\n",
       "      <td>f</td>\n",
       "      <td>NaN</td>\n",
       "      <td>f</td>\n",
       "      <td>NaN</td>\n",
       "      <td>f</td>\n",
       "      <td>NaN</td>\n",
       "      <td>f</td>\n",
       "      <td>NaN</td>\n",
       "      <td>t</td>\n",
       "      <td>26.0</td>\n",
       "      <td>other</td>\n",
       "      <td>-</td>\n",
       "      <td>840803046</td>\n",
       "    </tr>\n",
       "    <tr>\n",
       "      <th>4</th>\n",
       "      <td>32</td>\n",
       "      <td>F</td>\n",
       "      <td>f</td>\n",
       "      <td>f</td>\n",
       "      <td>f</td>\n",
       "      <td>f</td>\n",
       "      <td>f</td>\n",
       "      <td>f</td>\n",
       "      <td>f</td>\n",
       "      <td>f</td>\n",
       "      <td>f</td>\n",
       "      <td>f</td>\n",
       "      <td>f</td>\n",
       "      <td>f</td>\n",
       "      <td>f</td>\n",
       "      <td>f</td>\n",
       "      <td>f</td>\n",
       "      <td>NaN</td>\n",
       "      <td>f</td>\n",
       "      <td>NaN</td>\n",
       "      <td>f</td>\n",
       "      <td>NaN</td>\n",
       "      <td>f</td>\n",
       "      <td>NaN</td>\n",
       "      <td>f</td>\n",
       "      <td>NaN</td>\n",
       "      <td>t</td>\n",
       "      <td>36.0</td>\n",
       "      <td>other</td>\n",
       "      <td>S</td>\n",
       "      <td>840803047</td>\n",
       "    </tr>\n",
       "  </tbody>\n",
       "</table>\n",
       "</div>"
      ],
      "text/plain": [
       "   age sex on_thyroxine query_on_thyroxine on_antithyroid_meds sick pregnant  \\\n",
       "0   29   F            f                  f                   f    f        f   \n",
       "1   29   F            f                  f                   f    f        f   \n",
       "2   41   F            f                  f                   f    f        f   \n",
       "3   36   F            f                  f                   f    f        f   \n",
       "4   32   F            f                  f                   f    f        f   \n",
       "\n",
       "  thyroid_surgery I131_treatment query_hypothyroid query_hyperthyroid lithium  \\\n",
       "0               f              f                 t                  f       f   \n",
       "1               f              f                 f                  f       f   \n",
       "2               f              f                 f                  t       f   \n",
       "3               f              f                 f                  f       f   \n",
       "4               f              f                 f                  f       f   \n",
       "\n",
       "  goitre tumor hypopituitary psych TSH_measured  TSH T3_measured   T3  \\\n",
       "0      f     f             f     f            t  0.3           f  NaN   \n",
       "1      f     f             f     f            t  1.6           t  1.9   \n",
       "2      f     f             f     f            f  NaN           f  NaN   \n",
       "3      f     f             f     f            f  NaN           f  NaN   \n",
       "4      f     f             f     f            f  NaN           f  NaN   \n",
       "\n",
       "  TT4_measured    TT4 T4U_measured  T4U FTI_measured  FTI TBG_measured   TBG  \\\n",
       "0            f    NaN            f  NaN            f  NaN            f   NaN   \n",
       "1            t  128.0            f  NaN            f  NaN            f   NaN   \n",
       "2            f    NaN            f  NaN            f  NaN            t  11.0   \n",
       "3            f    NaN            f  NaN            f  NaN            t  26.0   \n",
       "4            f    NaN            f  NaN            f  NaN            t  36.0   \n",
       "\n",
       "  referral_source target  patient_id  \n",
       "0           other      -   840801013  \n",
       "1           other      -   840801014  \n",
       "2           other      -   840801042  \n",
       "3           other      -   840803046  \n",
       "4           other      S   840803047  "
      ]
     },
     "execution_count": 300,
     "metadata": {},
     "output_type": "execute_result"
    }
   ],
   "source": [
    "thyroid_df = pd.read_csv('thyroidDF.csv')\n",
    "thyroid_df.head()"
   ]
  },
  {
   "cell_type": "code",
   "execution_count": 301,
   "id": "d514e40b-270a-4e66-a5f0-5b16e45ac968",
   "metadata": {},
   "outputs": [
    {
     "data": {
      "text/html": [
       "<div>\n",
       "<style scoped>\n",
       "    .dataframe tbody tr th:only-of-type {\n",
       "        vertical-align: middle;\n",
       "    }\n",
       "\n",
       "    .dataframe tbody tr th {\n",
       "        vertical-align: top;\n",
       "    }\n",
       "\n",
       "    .dataframe thead th {\n",
       "        text-align: right;\n",
       "    }\n",
       "</style>\n",
       "<table border=\"1\" class=\"dataframe\">\n",
       "  <thead>\n",
       "    <tr style=\"text-align: right;\">\n",
       "      <th></th>\n",
       "      <th>age</th>\n",
       "      <th>TSH</th>\n",
       "      <th>T3</th>\n",
       "      <th>TT4</th>\n",
       "      <th>T4U</th>\n",
       "      <th>FTI</th>\n",
       "      <th>TBG</th>\n",
       "      <th>patient_id</th>\n",
       "    </tr>\n",
       "  </thead>\n",
       "  <tbody>\n",
       "    <tr>\n",
       "      <th>count</th>\n",
       "      <td>9172.000000</td>\n",
       "      <td>8330.000000</td>\n",
       "      <td>6568.000000</td>\n",
       "      <td>8730.000000</td>\n",
       "      <td>8363.000000</td>\n",
       "      <td>8370.000000</td>\n",
       "      <td>349.000000</td>\n",
       "      <td>9.172000e+03</td>\n",
       "    </tr>\n",
       "    <tr>\n",
       "      <th>mean</th>\n",
       "      <td>73.555822</td>\n",
       "      <td>5.218403</td>\n",
       "      <td>1.970629</td>\n",
       "      <td>108.700305</td>\n",
       "      <td>0.976056</td>\n",
       "      <td>113.640746</td>\n",
       "      <td>29.870057</td>\n",
       "      <td>8.529473e+08</td>\n",
       "    </tr>\n",
       "    <tr>\n",
       "      <th>std</th>\n",
       "      <td>1183.976718</td>\n",
       "      <td>24.184006</td>\n",
       "      <td>0.887579</td>\n",
       "      <td>37.522670</td>\n",
       "      <td>0.200360</td>\n",
       "      <td>41.551650</td>\n",
       "      <td>21.080504</td>\n",
       "      <td>7.581969e+06</td>\n",
       "    </tr>\n",
       "    <tr>\n",
       "      <th>min</th>\n",
       "      <td>1.000000</td>\n",
       "      <td>0.005000</td>\n",
       "      <td>0.050000</td>\n",
       "      <td>2.000000</td>\n",
       "      <td>0.170000</td>\n",
       "      <td>1.400000</td>\n",
       "      <td>0.100000</td>\n",
       "      <td>8.408010e+08</td>\n",
       "    </tr>\n",
       "    <tr>\n",
       "      <th>25%</th>\n",
       "      <td>37.000000</td>\n",
       "      <td>0.460000</td>\n",
       "      <td>1.500000</td>\n",
       "      <td>87.000000</td>\n",
       "      <td>0.860000</td>\n",
       "      <td>93.000000</td>\n",
       "      <td>21.000000</td>\n",
       "      <td>8.504090e+08</td>\n",
       "    </tr>\n",
       "    <tr>\n",
       "      <th>50%</th>\n",
       "      <td>55.000000</td>\n",
       "      <td>1.400000</td>\n",
       "      <td>1.900000</td>\n",
       "      <td>104.000000</td>\n",
       "      <td>0.960000</td>\n",
       "      <td>109.000000</td>\n",
       "      <td>26.000000</td>\n",
       "      <td>8.510040e+08</td>\n",
       "    </tr>\n",
       "    <tr>\n",
       "      <th>75%</th>\n",
       "      <td>68.000000</td>\n",
       "      <td>2.700000</td>\n",
       "      <td>2.300000</td>\n",
       "      <td>126.000000</td>\n",
       "      <td>1.065000</td>\n",
       "      <td>128.000000</td>\n",
       "      <td>31.000000</td>\n",
       "      <td>8.607110e+08</td>\n",
       "    </tr>\n",
       "    <tr>\n",
       "      <th>max</th>\n",
       "      <td>65526.000000</td>\n",
       "      <td>530.000000</td>\n",
       "      <td>18.000000</td>\n",
       "      <td>600.000000</td>\n",
       "      <td>2.330000</td>\n",
       "      <td>881.000000</td>\n",
       "      <td>200.000000</td>\n",
       "      <td>8.701190e+08</td>\n",
       "    </tr>\n",
       "  </tbody>\n",
       "</table>\n",
       "</div>"
      ],
      "text/plain": [
       "                age          TSH           T3          TT4          T4U  \\\n",
       "count   9172.000000  8330.000000  6568.000000  8730.000000  8363.000000   \n",
       "mean      73.555822     5.218403     1.970629   108.700305     0.976056   \n",
       "std     1183.976718    24.184006     0.887579    37.522670     0.200360   \n",
       "min        1.000000     0.005000     0.050000     2.000000     0.170000   \n",
       "25%       37.000000     0.460000     1.500000    87.000000     0.860000   \n",
       "50%       55.000000     1.400000     1.900000   104.000000     0.960000   \n",
       "75%       68.000000     2.700000     2.300000   126.000000     1.065000   \n",
       "max    65526.000000   530.000000    18.000000   600.000000     2.330000   \n",
       "\n",
       "               FTI         TBG    patient_id  \n",
       "count  8370.000000  349.000000  9.172000e+03  \n",
       "mean    113.640746   29.870057  8.529473e+08  \n",
       "std      41.551650   21.080504  7.581969e+06  \n",
       "min       1.400000    0.100000  8.408010e+08  \n",
       "25%      93.000000   21.000000  8.504090e+08  \n",
       "50%     109.000000   26.000000  8.510040e+08  \n",
       "75%     128.000000   31.000000  8.607110e+08  \n",
       "max     881.000000  200.000000  8.701190e+08  "
      ]
     },
     "execution_count": 301,
     "metadata": {},
     "output_type": "execute_result"
    }
   ],
   "source": [
    "thyroid_df.describe()"
   ]
  },
  {
   "cell_type": "code",
   "execution_count": 302,
   "id": "05168d76-8695-4e19-a6b2-16949c40ff76",
   "metadata": {},
   "outputs": [
    {
     "data": {
      "text/plain": [
       "(9172, 31)"
      ]
     },
     "execution_count": 302,
     "metadata": {},
     "output_type": "execute_result"
    }
   ],
   "source": [
    "thyroid_df.shape"
   ]
  },
  {
   "cell_type": "code",
   "execution_count": 303,
   "id": "68dfcb8c-1ae4-42e8-96dc-c56b6f6143e6",
   "metadata": {},
   "outputs": [
    {
     "data": {
      "text/plain": [
       "sex\n",
       "F    6073\n",
       "M    2792\n",
       "Name: count, dtype: int64"
      ]
     },
     "execution_count": 303,
     "metadata": {},
     "output_type": "execute_result"
    }
   ],
   "source": [
    "thyroid_df[\"sex\"].value_counts()"
   ]
  },
  {
   "cell_type": "code",
   "execution_count": 304,
   "id": "83d85431-d33d-4eb9-a610-000f60ba9b33",
   "metadata": {},
   "outputs": [
    {
     "data": {
      "text/plain": [
       "target\n",
       "-      6771\n",
       "A       147\n",
       "AK       46\n",
       "B        21\n",
       "C         6\n",
       "C|I      12\n",
       "D         8\n",
       "D|R       1\n",
       "E         1\n",
       "F       233\n",
       "FK        6\n",
       "G       359\n",
       "GI       10\n",
       "GK       49\n",
       "GKJ       1\n",
       "H|K       8\n",
       "I       346\n",
       "J        30\n",
       "K       436\n",
       "KJ       11\n",
       "L       115\n",
       "LJ        1\n",
       "M       111\n",
       "MI        2\n",
       "MK       16\n",
       "N       110\n",
       "O        14\n",
       "OI        1\n",
       "P         5\n",
       "Q        14\n",
       "R       196\n",
       "S        85\n",
       "Name: count, dtype: int64"
      ]
     },
     "execution_count": 304,
     "metadata": {},
     "output_type": "execute_result"
    }
   ],
   "source": [
    "thyroid_df[\"target\"].value_counts().sort_index()"
   ]
  },
  {
   "cell_type": "code",
   "execution_count": 305,
   "id": "fa5cf864-794f-41ed-a2bb-0ccc46f328c7",
   "metadata": {},
   "outputs": [],
   "source": [
    "#classify thyroid conditions as negative, hyperthyroid, or hypothyroid\n",
    "thyroid_df = thyroid_df[thyroid_df['target'].isin(['-', 'A', 'AK', 'B', 'C', 'C|I', 'D', 'D|R', 'E', 'F', 'FK', 'G', 'GI', 'GK', 'GKJ', 'H', 'H|K'])]\n",
    "mapping = {'-':'Negative',\n",
    "           'A':'Hyperthyroid','AK':'Hyperthyroid','B':'Hyperthyroid', 'C':'Hyperthyroid', 'C|I':'Hyperthyroid', 'D':'Hyperthyroid', 'D|R':'Hyperthyroid',\n",
    "           'E':'Hypothyroid', 'F':'Hypothyroid', 'FK':'Hypothyroid', 'G':'Hypothyroid', 'GI':'Hypothyroid', \"GK\": 'Hypothyroid',  'GKJ':'Hypothyroid', 'H':'Hypothyroid', 'H|K':'Hypothyroid'\n",
    "          }\n",
    "thyroid_df['target'] = thyroid_df['target'].map(mapping)"
   ]
  },
  {
   "cell_type": "code",
   "execution_count": 306,
   "id": "fac3a916-76b0-4528-8bc0-ed67d298e1ab",
   "metadata": {},
   "outputs": [
    {
     "data": {
      "text/plain": [
       "(7679, 31)"
      ]
     },
     "execution_count": 306,
     "metadata": {},
     "output_type": "execute_result"
    }
   ],
   "source": [
    "thyroid_df.shape"
   ]
  },
  {
   "cell_type": "code",
   "execution_count": 307,
   "id": "82117957-196d-4c07-85da-7b1237214dff",
   "metadata": {},
   "outputs": [
    {
     "data": {
      "text/plain": [
       "target\n",
       "Negative        6771\n",
       "Hypothyroid      667\n",
       "Hyperthyroid     241\n",
       "Name: count, dtype: int64"
      ]
     },
     "execution_count": 307,
     "metadata": {},
     "output_type": "execute_result"
    }
   ],
   "source": [
    "thyroid_df[\"target\"].value_counts()"
   ]
  },
  {
   "cell_type": "code",
   "execution_count": 308,
   "id": "2d9d813d-6579-4946-9781-0353da38ef76",
   "metadata": {},
   "outputs": [
    {
     "name": "stdout",
     "output_type": "stream",
     "text": [
      "<class 'pandas.core.frame.DataFrame'>\n",
      "Index: 7679 entries, 0 to 9171\n",
      "Data columns (total 31 columns):\n",
      " #   Column               Non-Null Count  Dtype  \n",
      "---  ------               --------------  -----  \n",
      " 0   age                  7679 non-null   int64  \n",
      " 1   sex                  7425 non-null   object \n",
      " 2   on_thyroxine         7679 non-null   object \n",
      " 3   query_on_thyroxine   7679 non-null   object \n",
      " 4   on_antithyroid_meds  7679 non-null   object \n",
      " 5   sick                 7679 non-null   object \n",
      " 6   pregnant             7679 non-null   object \n",
      " 7   thyroid_surgery      7679 non-null   object \n",
      " 8   I131_treatment       7679 non-null   object \n",
      " 9   query_hypothyroid    7679 non-null   object \n",
      " 10  query_hyperthyroid   7679 non-null   object \n",
      " 11  lithium              7679 non-null   object \n",
      " 12  goitre               7679 non-null   object \n",
      " 13  tumor                7679 non-null   object \n",
      " 14  hypopituitary        7679 non-null   object \n",
      " 15  psych                7679 non-null   object \n",
      " 16  TSH_measured         7679 non-null   object \n",
      " 17  TSH                  6955 non-null   float64\n",
      " 18  T3_measured          7679 non-null   object \n",
      " 19  T3                   5470 non-null   float64\n",
      " 20  TT4_measured         7679 non-null   object \n",
      " 21  TT4                  7325 non-null   float64\n",
      " 22  T4U_measured         7679 non-null   object \n",
      " 23  T4U                  6998 non-null   float64\n",
      " 24  FTI_measured         7679 non-null   object \n",
      " 25  FTI                  7005 non-null   float64\n",
      " 26  TBG_measured         7679 non-null   object \n",
      " 27  TBG                  259 non-null    float64\n",
      " 28  referral_source      7679 non-null   object \n",
      " 29  target               7679 non-null   object \n",
      " 30  patient_id           7679 non-null   int64  \n",
      "dtypes: float64(6), int64(2), object(23)\n",
      "memory usage: 1.9+ MB\n"
     ]
    }
   ],
   "source": [
    "thyroid_df.info()"
   ]
  },
  {
   "cell_type": "code",
   "execution_count": 309,
   "id": "539b27e9-7d81-4b47-a9e5-61aa83250dc3",
   "metadata": {},
   "outputs": [
    {
     "data": {
      "text/html": [
       "<div>\n",
       "<style scoped>\n",
       "    .dataframe tbody tr th:only-of-type {\n",
       "        vertical-align: middle;\n",
       "    }\n",
       "\n",
       "    .dataframe tbody tr th {\n",
       "        vertical-align: top;\n",
       "    }\n",
       "\n",
       "    .dataframe thead th {\n",
       "        text-align: right;\n",
       "    }\n",
       "</style>\n",
       "<table border=\"1\" class=\"dataframe\">\n",
       "  <thead>\n",
       "    <tr style=\"text-align: right;\">\n",
       "      <th></th>\n",
       "      <th>age</th>\n",
       "      <th>TSH</th>\n",
       "      <th>T3</th>\n",
       "      <th>TT4</th>\n",
       "      <th>T4U</th>\n",
       "      <th>FTI</th>\n",
       "      <th>TBG</th>\n",
       "      <th>patient_id</th>\n",
       "    </tr>\n",
       "  </thead>\n",
       "  <tbody>\n",
       "    <tr>\n",
       "      <th>count</th>\n",
       "      <td>7679.000000</td>\n",
       "      <td>6955.000000</td>\n",
       "      <td>5470.000000</td>\n",
       "      <td>7325.000000</td>\n",
       "      <td>6998.000000</td>\n",
       "      <td>7005.000000</td>\n",
       "      <td>259.000000</td>\n",
       "      <td>7.679000e+03</td>\n",
       "    </tr>\n",
       "    <tr>\n",
       "      <th>mean</th>\n",
       "      <td>77.640839</td>\n",
       "      <td>5.500684</td>\n",
       "      <td>2.010773</td>\n",
       "      <td>105.497565</td>\n",
       "      <td>0.967297</td>\n",
       "      <td>110.941312</td>\n",
       "      <td>22.955019</td>\n",
       "      <td>8.529532e+08</td>\n",
       "    </tr>\n",
       "    <tr>\n",
       "      <th>std</th>\n",
       "      <td>1293.909497</td>\n",
       "      <td>25.978304</td>\n",
       "      <td>0.818738</td>\n",
       "      <td>33.125317</td>\n",
       "      <td>0.164388</td>\n",
       "      <td>37.167537</td>\n",
       "      <td>6.088392</td>\n",
       "      <td>7.556839e+06</td>\n",
       "    </tr>\n",
       "    <tr>\n",
       "      <th>min</th>\n",
       "      <td>1.000000</td>\n",
       "      <td>0.005000</td>\n",
       "      <td>0.050000</td>\n",
       "      <td>2.000000</td>\n",
       "      <td>0.190000</td>\n",
       "      <td>1.400000</td>\n",
       "      <td>0.100000</td>\n",
       "      <td>8.408010e+08</td>\n",
       "    </tr>\n",
       "    <tr>\n",
       "      <th>25%</th>\n",
       "      <td>37.000000</td>\n",
       "      <td>0.550000</td>\n",
       "      <td>1.600000</td>\n",
       "      <td>87.000000</td>\n",
       "      <td>0.870000</td>\n",
       "      <td>93.000000</td>\n",
       "      <td>20.000000</td>\n",
       "      <td>8.504100e+08</td>\n",
       "    </tr>\n",
       "    <tr>\n",
       "      <th>50%</th>\n",
       "      <td>55.000000</td>\n",
       "      <td>1.400000</td>\n",
       "      <td>1.900000</td>\n",
       "      <td>103.000000</td>\n",
       "      <td>0.960000</td>\n",
       "      <td>108.000000</td>\n",
       "      <td>23.000000</td>\n",
       "      <td>8.510040e+08</td>\n",
       "    </tr>\n",
       "    <tr>\n",
       "      <th>75%</th>\n",
       "      <td>67.000000</td>\n",
       "      <td>2.700000</td>\n",
       "      <td>2.300000</td>\n",
       "      <td>121.000000</td>\n",
       "      <td>1.060000</td>\n",
       "      <td>125.000000</td>\n",
       "      <td>27.000000</td>\n",
       "      <td>8.607110e+08</td>\n",
       "    </tr>\n",
       "    <tr>\n",
       "      <th>max</th>\n",
       "      <td>65526.000000</td>\n",
       "      <td>530.000000</td>\n",
       "      <td>18.000000</td>\n",
       "      <td>430.000000</td>\n",
       "      <td>2.120000</td>\n",
       "      <td>839.000000</td>\n",
       "      <td>45.000000</td>\n",
       "      <td>8.701190e+08</td>\n",
       "    </tr>\n",
       "  </tbody>\n",
       "</table>\n",
       "</div>"
      ],
      "text/plain": [
       "                age          TSH           T3          TT4          T4U  \\\n",
       "count   7679.000000  6955.000000  5470.000000  7325.000000  6998.000000   \n",
       "mean      77.640839     5.500684     2.010773   105.497565     0.967297   \n",
       "std     1293.909497    25.978304     0.818738    33.125317     0.164388   \n",
       "min        1.000000     0.005000     0.050000     2.000000     0.190000   \n",
       "25%       37.000000     0.550000     1.600000    87.000000     0.870000   \n",
       "50%       55.000000     1.400000     1.900000   103.000000     0.960000   \n",
       "75%       67.000000     2.700000     2.300000   121.000000     1.060000   \n",
       "max    65526.000000   530.000000    18.000000   430.000000     2.120000   \n",
       "\n",
       "               FTI         TBG    patient_id  \n",
       "count  7005.000000  259.000000  7.679000e+03  \n",
       "mean    110.941312   22.955019  8.529532e+08  \n",
       "std      37.167537    6.088392  7.556839e+06  \n",
       "min       1.400000    0.100000  8.408010e+08  \n",
       "25%      93.000000   20.000000  8.504100e+08  \n",
       "50%     108.000000   23.000000  8.510040e+08  \n",
       "75%     125.000000   27.000000  8.607110e+08  \n",
       "max     839.000000   45.000000  8.701190e+08  "
      ]
     },
     "execution_count": 309,
     "metadata": {},
     "output_type": "execute_result"
    }
   ],
   "source": [
    "thyroid_df.describe()"
   ]
  },
  {
   "cell_type": "code",
   "execution_count": 310,
   "id": "f0629b19-57df-4475-8d99-47e8aa21ab74",
   "metadata": {},
   "outputs": [
    {
     "data": {
      "text/html": [
       "<div>\n",
       "<style scoped>\n",
       "    .dataframe tbody tr th:only-of-type {\n",
       "        vertical-align: middle;\n",
       "    }\n",
       "\n",
       "    .dataframe tbody tr th {\n",
       "        vertical-align: top;\n",
       "    }\n",
       "\n",
       "    .dataframe thead th {\n",
       "        text-align: right;\n",
       "    }\n",
       "</style>\n",
       "<table border=\"1\" class=\"dataframe\">\n",
       "  <thead>\n",
       "    <tr style=\"text-align: right;\">\n",
       "      <th></th>\n",
       "      <th>age</th>\n",
       "      <th>sex</th>\n",
       "      <th>on_thyroxine</th>\n",
       "      <th>query_on_thyroxine</th>\n",
       "      <th>on_antithyroid_meds</th>\n",
       "      <th>sick</th>\n",
       "      <th>pregnant</th>\n",
       "      <th>thyroid_surgery</th>\n",
       "      <th>I131_treatment</th>\n",
       "      <th>query_hypothyroid</th>\n",
       "      <th>query_hyperthyroid</th>\n",
       "      <th>lithium</th>\n",
       "      <th>goitre</th>\n",
       "      <th>tumor</th>\n",
       "      <th>hypopituitary</th>\n",
       "      <th>psych</th>\n",
       "      <th>TSH_measured</th>\n",
       "      <th>TSH</th>\n",
       "      <th>T3_measured</th>\n",
       "      <th>T3</th>\n",
       "      <th>TT4_measured</th>\n",
       "      <th>TT4</th>\n",
       "      <th>T4U_measured</th>\n",
       "      <th>T4U</th>\n",
       "      <th>FTI_measured</th>\n",
       "      <th>FTI</th>\n",
       "      <th>TBG_measured</th>\n",
       "      <th>TBG</th>\n",
       "      <th>referral_source</th>\n",
       "      <th>target</th>\n",
       "      <th>patient_id</th>\n",
       "    </tr>\n",
       "  </thead>\n",
       "  <tbody>\n",
       "    <tr>\n",
       "      <th>2976</th>\n",
       "      <td>455</td>\n",
       "      <td>F</td>\n",
       "      <td>f</td>\n",
       "      <td>f</td>\n",
       "      <td>f</td>\n",
       "      <td>f</td>\n",
       "      <td>f</td>\n",
       "      <td>f</td>\n",
       "      <td>f</td>\n",
       "      <td>f</td>\n",
       "      <td>f</td>\n",
       "      <td>f</td>\n",
       "      <td>f</td>\n",
       "      <td>f</td>\n",
       "      <td>f</td>\n",
       "      <td>f</td>\n",
       "      <td>t</td>\n",
       "      <td>1.10</td>\n",
       "      <td>t</td>\n",
       "      <td>2.0</td>\n",
       "      <td>t</td>\n",
       "      <td>118.0</td>\n",
       "      <td>t</td>\n",
       "      <td>1.13</td>\n",
       "      <td>t</td>\n",
       "      <td>104.0</td>\n",
       "      <td>f</td>\n",
       "      <td>NaN</td>\n",
       "      <td>SVI</td>\n",
       "      <td>Negative</td>\n",
       "      <td>850530001</td>\n",
       "    </tr>\n",
       "    <tr>\n",
       "      <th>5710</th>\n",
       "      <td>65511</td>\n",
       "      <td>M</td>\n",
       "      <td>f</td>\n",
       "      <td>f</td>\n",
       "      <td>f</td>\n",
       "      <td>f</td>\n",
       "      <td>f</td>\n",
       "      <td>f</td>\n",
       "      <td>f</td>\n",
       "      <td>f</td>\n",
       "      <td>f</td>\n",
       "      <td>f</td>\n",
       "      <td>f</td>\n",
       "      <td>f</td>\n",
       "      <td>f</td>\n",
       "      <td>f</td>\n",
       "      <td>t</td>\n",
       "      <td>0.38</td>\n",
       "      <td>t</td>\n",
       "      <td>2.0</td>\n",
       "      <td>t</td>\n",
       "      <td>113.0</td>\n",
       "      <td>t</td>\n",
       "      <td>1.08</td>\n",
       "      <td>t</td>\n",
       "      <td>104.0</td>\n",
       "      <td>f</td>\n",
       "      <td>NaN</td>\n",
       "      <td>other</td>\n",
       "      <td>Negative</td>\n",
       "      <td>860210008</td>\n",
       "    </tr>\n",
       "    <tr>\n",
       "      <th>6392</th>\n",
       "      <td>65512</td>\n",
       "      <td>M</td>\n",
       "      <td>f</td>\n",
       "      <td>f</td>\n",
       "      <td>f</td>\n",
       "      <td>f</td>\n",
       "      <td>f</td>\n",
       "      <td>f</td>\n",
       "      <td>f</td>\n",
       "      <td>f</td>\n",
       "      <td>t</td>\n",
       "      <td>f</td>\n",
       "      <td>f</td>\n",
       "      <td>f</td>\n",
       "      <td>f</td>\n",
       "      <td>f</td>\n",
       "      <td>t</td>\n",
       "      <td>0.03</td>\n",
       "      <td>t</td>\n",
       "      <td>2.8</td>\n",
       "      <td>t</td>\n",
       "      <td>112.0</td>\n",
       "      <td>t</td>\n",
       "      <td>0.84</td>\n",
       "      <td>t</td>\n",
       "      <td>133.0</td>\n",
       "      <td>f</td>\n",
       "      <td>NaN</td>\n",
       "      <td>other</td>\n",
       "      <td>Negative</td>\n",
       "      <td>860403050</td>\n",
       "    </tr>\n",
       "    <tr>\n",
       "      <th>8105</th>\n",
       "      <td>65526</td>\n",
       "      <td>F</td>\n",
       "      <td>f</td>\n",
       "      <td>f</td>\n",
       "      <td>f</td>\n",
       "      <td>f</td>\n",
       "      <td>f</td>\n",
       "      <td>f</td>\n",
       "      <td>f</td>\n",
       "      <td>f</td>\n",
       "      <td>f</td>\n",
       "      <td>f</td>\n",
       "      <td>f</td>\n",
       "      <td>f</td>\n",
       "      <td>f</td>\n",
       "      <td>f</td>\n",
       "      <td>t</td>\n",
       "      <td>1.50</td>\n",
       "      <td>f</td>\n",
       "      <td>NaN</td>\n",
       "      <td>t</td>\n",
       "      <td>132.0</td>\n",
       "      <td>t</td>\n",
       "      <td>1.02</td>\n",
       "      <td>t</td>\n",
       "      <td>129.0</td>\n",
       "      <td>f</td>\n",
       "      <td>NaN</td>\n",
       "      <td>other</td>\n",
       "      <td>Negative</td>\n",
       "      <td>861014041</td>\n",
       "    </tr>\n",
       "  </tbody>\n",
       "</table>\n",
       "</div>"
      ],
      "text/plain": [
       "        age sex on_thyroxine query_on_thyroxine on_antithyroid_meds sick  \\\n",
       "2976    455   F            f                  f                   f    f   \n",
       "5710  65511   M            f                  f                   f    f   \n",
       "6392  65512   M            f                  f                   f    f   \n",
       "8105  65526   F            f                  f                   f    f   \n",
       "\n",
       "     pregnant thyroid_surgery I131_treatment query_hypothyroid  \\\n",
       "2976        f               f              f                 f   \n",
       "5710        f               f              f                 f   \n",
       "6392        f               f              f                 f   \n",
       "8105        f               f              f                 f   \n",
       "\n",
       "     query_hyperthyroid lithium goitre tumor hypopituitary psych TSH_measured  \\\n",
       "2976                  f       f      f     f             f     f            t   \n",
       "5710                  f       f      f     f             f     f            t   \n",
       "6392                  t       f      f     f             f     f            t   \n",
       "8105                  f       f      f     f             f     f            t   \n",
       "\n",
       "       TSH T3_measured   T3 TT4_measured    TT4 T4U_measured   T4U  \\\n",
       "2976  1.10           t  2.0            t  118.0            t  1.13   \n",
       "5710  0.38           t  2.0            t  113.0            t  1.08   \n",
       "6392  0.03           t  2.8            t  112.0            t  0.84   \n",
       "8105  1.50           f  NaN            t  132.0            t  1.02   \n",
       "\n",
       "     FTI_measured    FTI TBG_measured  TBG referral_source    target  \\\n",
       "2976            t  104.0            f  NaN             SVI  Negative   \n",
       "5710            t  104.0            f  NaN           other  Negative   \n",
       "6392            t  133.0            f  NaN           other  Negative   \n",
       "8105            t  129.0            f  NaN           other  Negative   \n",
       "\n",
       "      patient_id  \n",
       "2976   850530001  \n",
       "5710   860210008  \n",
       "6392   860403050  \n",
       "8105   861014041  "
      ]
     },
     "execution_count": 310,
     "metadata": {},
     "output_type": "execute_result"
    }
   ],
   "source": [
    "#check for age outliers\n",
    "thyroid_df[thyroid_df['age'] > 100]"
   ]
  },
  {
   "cell_type": "code",
   "execution_count": 311,
   "id": "a07a5c7e-ba3e-42a1-b61c-91d9a4a7dbad",
   "metadata": {},
   "outputs": [
    {
     "data": {
      "text/plain": [
       "age                       0\n",
       "sex                     254\n",
       "on_thyroxine              0\n",
       "query_on_thyroxine        0\n",
       "on_antithyroid_meds       0\n",
       "sick                      0\n",
       "pregnant                  0\n",
       "thyroid_surgery           0\n",
       "I131_treatment            0\n",
       "query_hypothyroid         0\n",
       "query_hyperthyroid        0\n",
       "lithium                   0\n",
       "goitre                    0\n",
       "tumor                     0\n",
       "hypopituitary             0\n",
       "psych                     0\n",
       "TSH_measured              0\n",
       "TSH                     724\n",
       "T3_measured               0\n",
       "T3                     2209\n",
       "TT4_measured              0\n",
       "TT4                     354\n",
       "T4U_measured              0\n",
       "T4U                     681\n",
       "FTI_measured              0\n",
       "FTI                     674\n",
       "TBG_measured              0\n",
       "TBG                    7420\n",
       "referral_source           0\n",
       "target                    0\n",
       "patient_id                0\n",
       "dtype: int64"
      ]
     },
     "execution_count": 311,
     "metadata": {},
     "output_type": "execute_result"
    }
   ],
   "source": [
    "#check for nulls\n",
    "null_counts = thyroid_df.isnull().sum()\n",
    "null_counts"
   ]
  },
  {
   "cell_type": "code",
   "execution_count": 312,
   "id": "dac9ca3c-1605-4201-b127-56ed7cb0de5c",
   "metadata": {},
   "outputs": [],
   "source": [
    "#drop columns not useful for analysis\n",
    "thyroid_df = thyroid_df.drop(columns = ['hypopituitary', 'TSH_measured', 'T3_measured', 'TT4_measured', 'T4U_measured', 'FTI_measured', 'TBG_measured', 'TBG', 'patient_id', 'referral_source'])"
   ]
  },
  {
   "cell_type": "code",
   "execution_count": 313,
   "id": "3e9fed10-501e-4817-bb62-07df65c3a8ec",
   "metadata": {},
   "outputs": [
    {
     "data": {
      "text/plain": [
       "(7675, 21)"
      ]
     },
     "execution_count": 313,
     "metadata": {},
     "output_type": "execute_result"
    }
   ],
   "source": [
    "#drop age outliers\n",
    "thyroid_df = thyroid_df[thyroid_df['age'] <= 100]\n",
    "thyroid_df.shape"
   ]
  },
  {
   "cell_type": "code",
   "execution_count": 314,
   "id": "9ccdaf60-2e54-46ac-b045-cd7809f2e1ac",
   "metadata": {},
   "outputs": [
    {
     "data": {
      "text/plain": [
       "(4778, 21)"
      ]
     },
     "execution_count": 314,
     "metadata": {},
     "output_type": "execute_result"
    }
   ],
   "source": [
    "#drop nulls\n",
    "thyroid_df = thyroid_df.dropna()\n",
    "thyroid_df.shape"
   ]
  },
  {
   "cell_type": "code",
   "execution_count": 315,
   "id": "6e239470-469c-4e7c-9c92-2011f8e41328",
   "metadata": {},
   "outputs": [
    {
     "data": {
      "text/html": [
       "<div>\n",
       "<style scoped>\n",
       "    .dataframe tbody tr th:only-of-type {\n",
       "        vertical-align: middle;\n",
       "    }\n",
       "\n",
       "    .dataframe tbody tr th {\n",
       "        vertical-align: top;\n",
       "    }\n",
       "\n",
       "    .dataframe thead th {\n",
       "        text-align: right;\n",
       "    }\n",
       "</style>\n",
       "<table border=\"1\" class=\"dataframe\">\n",
       "  <thead>\n",
       "    <tr style=\"text-align: right;\">\n",
       "      <th></th>\n",
       "      <th>age</th>\n",
       "      <th>sex</th>\n",
       "      <th>on_thyroxine</th>\n",
       "      <th>query_on_thyroxine</th>\n",
       "      <th>on_antithyroid_meds</th>\n",
       "      <th>sick</th>\n",
       "      <th>pregnant</th>\n",
       "      <th>thyroid_surgery</th>\n",
       "      <th>I131_treatment</th>\n",
       "      <th>query_hypothyroid</th>\n",
       "      <th>query_hyperthyroid</th>\n",
       "      <th>lithium</th>\n",
       "      <th>goitre</th>\n",
       "      <th>tumor</th>\n",
       "      <th>psych</th>\n",
       "      <th>TSH</th>\n",
       "      <th>T3</th>\n",
       "      <th>TT4</th>\n",
       "      <th>T4U</th>\n",
       "      <th>FTI</th>\n",
       "      <th>target</th>\n",
       "    </tr>\n",
       "  </thead>\n",
       "  <tbody>\n",
       "    <tr>\n",
       "      <th>19</th>\n",
       "      <td>36</td>\n",
       "      <td>F</td>\n",
       "      <td>f</td>\n",
       "      <td>f</td>\n",
       "      <td>f</td>\n",
       "      <td>f</td>\n",
       "      <td>f</td>\n",
       "      <td>f</td>\n",
       "      <td>f</td>\n",
       "      <td>t</td>\n",
       "      <td>t</td>\n",
       "      <td>f</td>\n",
       "      <td>f</td>\n",
       "      <td>f</td>\n",
       "      <td>f</td>\n",
       "      <td>1.50</td>\n",
       "      <td>2.4</td>\n",
       "      <td>90.0</td>\n",
       "      <td>1.06</td>\n",
       "      <td>85.0</td>\n",
       "      <td>Negative</td>\n",
       "    </tr>\n",
       "    <tr>\n",
       "      <th>21</th>\n",
       "      <td>40</td>\n",
       "      <td>F</td>\n",
       "      <td>f</td>\n",
       "      <td>f</td>\n",
       "      <td>f</td>\n",
       "      <td>f</td>\n",
       "      <td>f</td>\n",
       "      <td>f</td>\n",
       "      <td>f</td>\n",
       "      <td>f</td>\n",
       "      <td>f</td>\n",
       "      <td>f</td>\n",
       "      <td>f</td>\n",
       "      <td>f</td>\n",
       "      <td>f</td>\n",
       "      <td>1.20</td>\n",
       "      <td>2.3</td>\n",
       "      <td>104.0</td>\n",
       "      <td>1.08</td>\n",
       "      <td>96.0</td>\n",
       "      <td>Negative</td>\n",
       "    </tr>\n",
       "    <tr>\n",
       "      <th>22</th>\n",
       "      <td>40</td>\n",
       "      <td>F</td>\n",
       "      <td>f</td>\n",
       "      <td>f</td>\n",
       "      <td>f</td>\n",
       "      <td>f</td>\n",
       "      <td>f</td>\n",
       "      <td>f</td>\n",
       "      <td>f</td>\n",
       "      <td>f</td>\n",
       "      <td>f</td>\n",
       "      <td>f</td>\n",
       "      <td>f</td>\n",
       "      <td>f</td>\n",
       "      <td>f</td>\n",
       "      <td>5.90</td>\n",
       "      <td>2.1</td>\n",
       "      <td>88.0</td>\n",
       "      <td>0.84</td>\n",
       "      <td>105.0</td>\n",
       "      <td>Negative</td>\n",
       "    </tr>\n",
       "    <tr>\n",
       "      <th>23</th>\n",
       "      <td>77</td>\n",
       "      <td>F</td>\n",
       "      <td>f</td>\n",
       "      <td>f</td>\n",
       "      <td>f</td>\n",
       "      <td>f</td>\n",
       "      <td>f</td>\n",
       "      <td>f</td>\n",
       "      <td>f</td>\n",
       "      <td>f</td>\n",
       "      <td>f</td>\n",
       "      <td>f</td>\n",
       "      <td>f</td>\n",
       "      <td>f</td>\n",
       "      <td>f</td>\n",
       "      <td>0.05</td>\n",
       "      <td>2.4</td>\n",
       "      <td>107.0</td>\n",
       "      <td>1.13</td>\n",
       "      <td>95.0</td>\n",
       "      <td>Negative</td>\n",
       "    </tr>\n",
       "    <tr>\n",
       "      <th>27</th>\n",
       "      <td>51</td>\n",
       "      <td>F</td>\n",
       "      <td>f</td>\n",
       "      <td>f</td>\n",
       "      <td>f</td>\n",
       "      <td>f</td>\n",
       "      <td>f</td>\n",
       "      <td>f</td>\n",
       "      <td>f</td>\n",
       "      <td>f</td>\n",
       "      <td>f</td>\n",
       "      <td>f</td>\n",
       "      <td>f</td>\n",
       "      <td>f</td>\n",
       "      <td>f</td>\n",
       "      <td>0.05</td>\n",
       "      <td>2.1</td>\n",
       "      <td>93.0</td>\n",
       "      <td>0.87</td>\n",
       "      <td>106.0</td>\n",
       "      <td>Negative</td>\n",
       "    </tr>\n",
       "  </tbody>\n",
       "</table>\n",
       "</div>"
      ],
      "text/plain": [
       "    age sex on_thyroxine query_on_thyroxine on_antithyroid_meds sick pregnant  \\\n",
       "19   36   F            f                  f                   f    f        f   \n",
       "21   40   F            f                  f                   f    f        f   \n",
       "22   40   F            f                  f                   f    f        f   \n",
       "23   77   F            f                  f                   f    f        f   \n",
       "27   51   F            f                  f                   f    f        f   \n",
       "\n",
       "   thyroid_surgery I131_treatment query_hypothyroid query_hyperthyroid  \\\n",
       "19               f              f                 t                  t   \n",
       "21               f              f                 f                  f   \n",
       "22               f              f                 f                  f   \n",
       "23               f              f                 f                  f   \n",
       "27               f              f                 f                  f   \n",
       "\n",
       "   lithium goitre tumor psych   TSH   T3    TT4   T4U    FTI    target  \n",
       "19       f      f     f     f  1.50  2.4   90.0  1.06   85.0  Negative  \n",
       "21       f      f     f     f  1.20  2.3  104.0  1.08   96.0  Negative  \n",
       "22       f      f     f     f  5.90  2.1   88.0  0.84  105.0  Negative  \n",
       "23       f      f     f     f  0.05  2.4  107.0  1.13   95.0  Negative  \n",
       "27       f      f     f     f  0.05  2.1   93.0  0.87  106.0  Negative  "
      ]
     },
     "execution_count": 315,
     "metadata": {},
     "output_type": "execute_result"
    }
   ],
   "source": [
    "thyroid_df.head()"
   ]
  },
  {
   "cell_type": "code",
   "execution_count": 317,
   "id": "251cd5ce-14ce-4d0c-969c-0237ac316df5",
   "metadata": {},
   "outputs": [
    {
     "name": "stdout",
     "output_type": "stream",
     "text": [
      "<class 'pandas.core.frame.DataFrame'>\n",
      "Index: 4778 entries, 19 to 9141\n",
      "Data columns (total 21 columns):\n",
      " #   Column               Non-Null Count  Dtype \n",
      "---  ------               --------------  ----- \n",
      " 0   age                  4778 non-null   int64 \n",
      " 1   sex                  4778 non-null   int64 \n",
      " 2   on_thyroxine         4778 non-null   int64 \n",
      " 3   query_on_thyroxine   4778 non-null   int64 \n",
      " 4   on_antithyroid_meds  4778 non-null   int64 \n",
      " 5   sick                 4778 non-null   int64 \n",
      " 6   pregnant             4778 non-null   int64 \n",
      " 7   thyroid_surgery      4778 non-null   int64 \n",
      " 8   I131_treatment       4778 non-null   int64 \n",
      " 9   query_hypothyroid    4778 non-null   int64 \n",
      " 10  query_hyperthyroid   4778 non-null   int64 \n",
      " 11  lithium              4778 non-null   int64 \n",
      " 12  goitre               4778 non-null   int64 \n",
      " 13  tumor                4778 non-null   int64 \n",
      " 14  psych                4778 non-null   int64 \n",
      " 15  TSH                  4778 non-null   int64 \n",
      " 16  T3                   4778 non-null   int64 \n",
      " 17  TT4                  4778 non-null   int64 \n",
      " 18  T4U                  4778 non-null   int64 \n",
      " 19  FTI                  4778 non-null   int64 \n",
      " 20  target               4778 non-null   object\n",
      "dtypes: int64(20), object(1)\n",
      "memory usage: 821.2+ KB\n"
     ]
    }
   ],
   "source": [
    "# replacing boolean columns with 0 and 1\n",
    "from sklearn.preprocessing import LabelEncoder\n",
    "\n",
    "\n",
    "label_encoder=LabelEncoder()\n",
    "for x in thyroid_df.columns[1:20]:\n",
    "    thyroid_df[x]=label_encoder.fit_transform(thyroid_df[x])\n",
    "    #print(x)\n",
    "    \n",
    "thyroid_df.info()"
   ]
  },
  {
   "cell_type": "code",
   "execution_count": 318,
   "id": "0fb3d74b-94b6-4e18-a4bf-f1a8bacb6d70",
   "metadata": {},
   "outputs": [
    {
     "data": {
      "text/html": [
       "<div>\n",
       "<style scoped>\n",
       "    .dataframe tbody tr th:only-of-type {\n",
       "        vertical-align: middle;\n",
       "    }\n",
       "\n",
       "    .dataframe tbody tr th {\n",
       "        vertical-align: top;\n",
       "    }\n",
       "\n",
       "    .dataframe thead th {\n",
       "        text-align: right;\n",
       "    }\n",
       "</style>\n",
       "<table border=\"1\" class=\"dataframe\">\n",
       "  <thead>\n",
       "    <tr style=\"text-align: right;\">\n",
       "      <th></th>\n",
       "      <th>age</th>\n",
       "      <th>sex</th>\n",
       "      <th>on_thyroxine</th>\n",
       "      <th>query_on_thyroxine</th>\n",
       "      <th>on_antithyroid_meds</th>\n",
       "      <th>sick</th>\n",
       "      <th>pregnant</th>\n",
       "      <th>thyroid_surgery</th>\n",
       "      <th>I131_treatment</th>\n",
       "      <th>query_hypothyroid</th>\n",
       "      <th>query_hyperthyroid</th>\n",
       "      <th>lithium</th>\n",
       "      <th>goitre</th>\n",
       "      <th>tumor</th>\n",
       "      <th>psych</th>\n",
       "      <th>TSH</th>\n",
       "      <th>T3</th>\n",
       "      <th>TT4</th>\n",
       "      <th>T4U</th>\n",
       "      <th>FTI</th>\n",
       "      <th>target</th>\n",
       "    </tr>\n",
       "  </thead>\n",
       "  <tbody>\n",
       "    <tr>\n",
       "      <th>19</th>\n",
       "      <td>36</td>\n",
       "      <td>0</td>\n",
       "      <td>0</td>\n",
       "      <td>0</td>\n",
       "      <td>0</td>\n",
       "      <td>0</td>\n",
       "      <td>0</td>\n",
       "      <td>0</td>\n",
       "      <td>0</td>\n",
       "      <td>1</td>\n",
       "      <td>1</td>\n",
       "      <td>0</td>\n",
       "      <td>0</td>\n",
       "      <td>0</td>\n",
       "      <td>0</td>\n",
       "      <td>121</td>\n",
       "      <td>25</td>\n",
       "      <td>94</td>\n",
       "      <td>62</td>\n",
       "      <td>98</td>\n",
       "      <td>Negative</td>\n",
       "    </tr>\n",
       "    <tr>\n",
       "      <th>21</th>\n",
       "      <td>40</td>\n",
       "      <td>0</td>\n",
       "      <td>0</td>\n",
       "      <td>0</td>\n",
       "      <td>0</td>\n",
       "      <td>0</td>\n",
       "      <td>0</td>\n",
       "      <td>0</td>\n",
       "      <td>0</td>\n",
       "      <td>0</td>\n",
       "      <td>0</td>\n",
       "      <td>0</td>\n",
       "      <td>0</td>\n",
       "      <td>0</td>\n",
       "      <td>0</td>\n",
       "      <td>118</td>\n",
       "      <td>24</td>\n",
       "      <td>108</td>\n",
       "      <td>64</td>\n",
       "      <td>109</td>\n",
       "      <td>Negative</td>\n",
       "    </tr>\n",
       "    <tr>\n",
       "      <th>22</th>\n",
       "      <td>40</td>\n",
       "      <td>0</td>\n",
       "      <td>0</td>\n",
       "      <td>0</td>\n",
       "      <td>0</td>\n",
       "      <td>0</td>\n",
       "      <td>0</td>\n",
       "      <td>0</td>\n",
       "      <td>0</td>\n",
       "      <td>0</td>\n",
       "      <td>0</td>\n",
       "      <td>0</td>\n",
       "      <td>0</td>\n",
       "      <td>0</td>\n",
       "      <td>0</td>\n",
       "      <td>168</td>\n",
       "      <td>22</td>\n",
       "      <td>92</td>\n",
       "      <td>39</td>\n",
       "      <td>118</td>\n",
       "      <td>Negative</td>\n",
       "    </tr>\n",
       "    <tr>\n",
       "      <th>23</th>\n",
       "      <td>77</td>\n",
       "      <td>0</td>\n",
       "      <td>0</td>\n",
       "      <td>0</td>\n",
       "      <td>0</td>\n",
       "      <td>0</td>\n",
       "      <td>0</td>\n",
       "      <td>0</td>\n",
       "      <td>0</td>\n",
       "      <td>0</td>\n",
       "      <td>0</td>\n",
       "      <td>0</td>\n",
       "      <td>0</td>\n",
       "      <td>0</td>\n",
       "      <td>0</td>\n",
       "      <td>9</td>\n",
       "      <td>25</td>\n",
       "      <td>111</td>\n",
       "      <td>69</td>\n",
       "      <td>108</td>\n",
       "      <td>Negative</td>\n",
       "    </tr>\n",
       "    <tr>\n",
       "      <th>27</th>\n",
       "      <td>51</td>\n",
       "      <td>0</td>\n",
       "      <td>0</td>\n",
       "      <td>0</td>\n",
       "      <td>0</td>\n",
       "      <td>0</td>\n",
       "      <td>0</td>\n",
       "      <td>0</td>\n",
       "      <td>0</td>\n",
       "      <td>0</td>\n",
       "      <td>0</td>\n",
       "      <td>0</td>\n",
       "      <td>0</td>\n",
       "      <td>0</td>\n",
       "      <td>0</td>\n",
       "      <td>9</td>\n",
       "      <td>22</td>\n",
       "      <td>97</td>\n",
       "      <td>42</td>\n",
       "      <td>119</td>\n",
       "      <td>Negative</td>\n",
       "    </tr>\n",
       "  </tbody>\n",
       "</table>\n",
       "</div>"
      ],
      "text/plain": [
       "    age  sex  on_thyroxine  query_on_thyroxine  on_antithyroid_meds  sick  \\\n",
       "19   36    0             0                   0                    0     0   \n",
       "21   40    0             0                   0                    0     0   \n",
       "22   40    0             0                   0                    0     0   \n",
       "23   77    0             0                   0                    0     0   \n",
       "27   51    0             0                   0                    0     0   \n",
       "\n",
       "    pregnant  thyroid_surgery  I131_treatment  query_hypothyroid  \\\n",
       "19         0                0               0                  1   \n",
       "21         0                0               0                  0   \n",
       "22         0                0               0                  0   \n",
       "23         0                0               0                  0   \n",
       "27         0                0               0                  0   \n",
       "\n",
       "    query_hyperthyroid  lithium  goitre  tumor  psych  TSH  T3  TT4  T4U  FTI  \\\n",
       "19                   1        0       0      0      0  121  25   94   62   98   \n",
       "21                   0        0       0      0      0  118  24  108   64  109   \n",
       "22                   0        0       0      0      0  168  22   92   39  118   \n",
       "23                   0        0       0      0      0    9  25  111   69  108   \n",
       "27                   0        0       0      0      0    9  22   97   42  119   \n",
       "\n",
       "      target  \n",
       "19  Negative  \n",
       "21  Negative  \n",
       "22  Negative  \n",
       "23  Negative  \n",
       "27  Negative  "
      ]
     },
     "execution_count": 318,
     "metadata": {},
     "output_type": "execute_result"
    }
   ],
   "source": [
    "thyroid_df.head()"
   ]
  },
  {
   "cell_type": "code",
   "execution_count": 319,
   "id": "603ad33e-5fea-4a7d-b4f9-8520a3fe87b5",
   "metadata": {},
   "outputs": [],
   "source": [
    "negative_samples = thyroid_df[thyroid_df[\"target\"] == 'Negative']\n",
    "hypothyroid_samples = thyroid_df[thyroid_df[\"target\"] == 'Hypothyroid']\n",
    "hyperthyroid_samples = thyroid_df[thyroid_df[\"target\"] == 'Hyperthyroid']"
   ]
  },
  {
   "cell_type": "code",
   "execution_count": 320,
   "id": "52c0f1ee-8397-41f2-b40c-e6c3d7fd1a95",
   "metadata": {},
   "outputs": [],
   "source": [
    "#balance out negative class\n",
    "negative_samples_balanced = negative_samples.sample(n=1000, random_state=42)\n",
    "thyroid_df = pd.concat([negative_samples_balanced, hypothyroid_samples, hyperthyroid_samples], ignore_index=True)\n"
   ]
  },
  {
   "cell_type": "code",
   "execution_count": 325,
   "id": "38ec1ba3-1f19-4ffc-aba5-b3d18b457c82",
   "metadata": {},
   "outputs": [
    {
     "data": {
      "text/plain": [
       "(1613, 21)"
      ]
     },
     "execution_count": 325,
     "metadata": {},
     "output_type": "execute_result"
    }
   ],
   "source": [
    "thyroid_df.shape"
   ]
  },
  {
   "cell_type": "code",
   "execution_count": 321,
   "id": "70c3642f-c34a-40c2-abd1-2a0bf3712f62",
   "metadata": {},
   "outputs": [
    {
     "data": {
      "text/plain": [
       "target\n",
       "Negative        1000\n",
       "Hypothyroid      444\n",
       "Hyperthyroid     169\n",
       "Name: count, dtype: int64"
      ]
     },
     "execution_count": 321,
     "metadata": {},
     "output_type": "execute_result"
    }
   ],
   "source": [
    "thyroid_df[\"target\"].value_counts()"
   ]
  },
  {
   "cell_type": "code",
   "execution_count": 322,
   "id": "658a1d27-8b68-4414-97e4-28f5c0a994fe",
   "metadata": {},
   "outputs": [
    {
     "data": {
      "text/plain": [
       "sex\n",
       "0    1113\n",
       "1     500\n",
       "Name: count, dtype: int64"
      ]
     },
     "execution_count": 322,
     "metadata": {},
     "output_type": "execute_result"
    }
   ],
   "source": [
    "thyroid_df[\"sex\"].value_counts()"
   ]
  },
  {
   "cell_type": "code",
   "execution_count": 323,
   "id": "1ed82ba3-45dd-4136-b4b9-507d56ba5618",
   "metadata": {},
   "outputs": [
    {
     "data": {
      "text/plain": [
       "array([[<AxesSubplot:title={'center':'age'}>,\n",
       "        <AxesSubplot:title={'center':'sex'}>,\n",
       "        <AxesSubplot:title={'center':'on_thyroxine'}>,\n",
       "        <AxesSubplot:title={'center':'query_on_thyroxine'}>],\n",
       "       [<AxesSubplot:title={'center':'on_antithyroid_meds'}>,\n",
       "        <AxesSubplot:title={'center':'sick'}>,\n",
       "        <AxesSubplot:title={'center':'pregnant'}>,\n",
       "        <AxesSubplot:title={'center':'thyroid_surgery'}>],\n",
       "       [<AxesSubplot:title={'center':'I131_treatment'}>,\n",
       "        <AxesSubplot:title={'center':'query_hypothyroid'}>,\n",
       "        <AxesSubplot:title={'center':'query_hyperthyroid'}>,\n",
       "        <AxesSubplot:title={'center':'lithium'}>],\n",
       "       [<AxesSubplot:title={'center':'goitre'}>,\n",
       "        <AxesSubplot:title={'center':'tumor'}>,\n",
       "        <AxesSubplot:title={'center':'psych'}>,\n",
       "        <AxesSubplot:title={'center':'TSH'}>],\n",
       "       [<AxesSubplot:title={'center':'T3'}>,\n",
       "        <AxesSubplot:title={'center':'TT4'}>,\n",
       "        <AxesSubplot:title={'center':'T4U'}>,\n",
       "        <AxesSubplot:title={'center':'FTI'}>]], dtype=object)"
      ]
     },
     "execution_count": 323,
     "metadata": {},
     "output_type": "execute_result"
    },
    {
     "data": {
      "image/png": "[encoded data removed]",
      "text/plain": [
       "<Figure size 1500x1200 with 20 Axes>"
      ]
     },
     "metadata": {},
     "output_type": "display_data"
    }
   ],
   "source": [
    "thyroid_df.hist(figsize=(15,12))"
   ]
  },
  {
   "cell_type": "code",
   "execution_count": 324,
   "id": "c51caeac-9bee-47c7-aaf4-967e52726058",
   "metadata": {},
   "outputs": [],
   "source": [
    "thyroid_df.to_csv('thyroidDF_cleaned.csv', index=False)"
   ]
  },
  {
   "cell_type": "code",
   "execution_count": 296,
   "id": "b65e433b-c687-40cf-9c6c-a6793c7e604d",
   "metadata": {},
   "outputs": [],
   "source": [
    "X = thyroid_df.drop(columns=['target'])\n",
    "y = thyroid_df['target']"
   ]
  },
  {
   "cell_type": "code",
   "execution_count": 297,
   "id": "0bcb6c14-350e-427a-9e53-061cee02f927",
   "metadata": {},
   "outputs": [],
   "source": [
    "from sklearn.model_selection import train_test_split"
   ]
  },
  {
   "cell_type": "code",
   "execution_count": 298,
   "id": "8d6583ea-e9ab-4fee-b11c-e78b30bc5add",
   "metadata": {},
   "outputs": [],
   "source": [
    "X_train, X_test, y_train, y_test = train_test_split(X, y, test_size=0.3, random_state=42)"
   ]
  },
  {
   "cell_type": "code",
   "execution_count": 291,
   "id": "907d4172-e26b-4992-9054-6f8ec2d4904a",
   "metadata": {},
   "outputs": [
    {
     "data": {
      "text/plain": [
       "(1129, 20)"
      ]
     },
     "execution_count": 291,
     "metadata": {},
     "output_type": "execute_result"
    }
   ],
   "source": [
    "X_train.shape"
   ]
  },
  {
   "cell_type": "code",
   "execution_count": 292,
   "id": "d0a8c451-3902-4f33-87ec-ed2e49dff8ca",
   "metadata": {},
   "outputs": [
    {
     "data": {
      "text/plain": [
       "(484, 20)"
      ]
     },
     "execution_count": 292,
     "metadata": {},
     "output_type": "execute_result"
    }
   ],
   "source": [
    "X_test.shape"
   ]
  },
  {
   "cell_type": "markdown",
   "id": "cb5c31da-6c15-4b30-a7f8-0526ebf5f05e",
   "metadata": {},
   "source": [
    "## Random Forest Classifier - Base Model"
   ]
  },
  {
   "cell_type": "code",
   "execution_count": 180,
   "id": "95deff3b-65c7-4b89-a794-81e93e435d2d",
   "metadata": {},
   "outputs": [],
   "source": [
    "from sklearn.ensemble import RandomForestClassifier"
   ]
  },
  {
   "cell_type": "code",
   "execution_count": 181,
   "id": "6e515450-6164-4eab-941b-84ead96c05d3",
   "metadata": {},
   "outputs": [
    {
     "data": {
      "text/plain": [
       "RandomForestClassifier(random_state=42)"
      ]
     },
     "execution_count": 181,
     "metadata": {},
     "output_type": "execute_result"
    }
   ],
   "source": [
    "rf_model = RandomForestClassifier(random_state=42)\n",
    "rf_model.fit(X_train, y_train)"
   ]
  },
  {
   "cell_type": "code",
   "execution_count": 182,
   "id": "c8e12340-e987-4a93-a643-9caf91cdbdbc",
   "metadata": {},
   "outputs": [
    {
     "data": {
      "text/plain": [
       "array(['Negative', 'Negative', 'Negative', 'Negative', 'Negative',\n",
       "       'Negative', 'Negative', 'Negative', 'Negative', 'Negative',\n",
       "       'Negative', 'Hyperthyroid', 'Negative', 'Negative', 'Negative',\n",
       "       'Negative', 'Negative', 'Negative', 'Hypothyroid', 'Hypothyroid',\n",
       "       'Hypothyroid', 'Hypothyroid', 'Negative', 'Negative', 'Negative',\n",
       "       'Negative', 'Hypothyroid', 'Hypothyroid', 'Negative', 'Negative',\n",
       "       'Hypothyroid', 'Hyperthyroid', 'Negative', 'Negative', 'Negative',\n",
       "       'Hypothyroid', 'Hypothyroid', 'Negative', 'Negative', 'Negative',\n",
       "       'Negative', 'Hypothyroid', 'Hypothyroid', 'Negative', 'Negative',\n",
       "       'Negative', 'Negative', 'Negative', 'Negative', 'Negative',\n",
       "       'Hypothyroid', 'Negative', 'Hypothyroid', 'Negative', 'Negative',\n",
       "       'Negative', 'Negative', 'Hypothyroid', 'Negative', 'Hypothyroid',\n",
       "       'Negative', 'Hypothyroid', 'Negative', 'Negative', 'Hypothyroid',\n",
       "       'Negative', 'Negative', 'Negative', 'Negative', 'Negative',\n",
       "       'Negative', 'Hypothyroid', 'Hypothyroid', 'Hypothyroid',\n",
       "       'Negative', 'Negative', 'Hypothyroid', 'Negative', 'Negative',\n",
       "       'Hypothyroid', 'Negative', 'Negative', 'Hypothyroid', 'Negative',\n",
       "       'Negative', 'Hypothyroid', 'Negative', 'Hypothyroid', 'Negative',\n",
       "       'Negative', 'Negative', 'Hypothyroid', 'Negative', 'Hyperthyroid',\n",
       "       'Negative', 'Negative', 'Hypothyroid', 'Negative', 'Negative',\n",
       "       'Negative', 'Hypothyroid', 'Hyperthyroid', 'Negative', 'Negative',\n",
       "       'Negative', 'Negative', 'Negative', 'Negative', 'Negative',\n",
       "       'Hypothyroid', 'Negative', 'Negative', 'Negative', 'Hyperthyroid',\n",
       "       'Negative', 'Negative', 'Hypothyroid', 'Hyperthyroid',\n",
       "       'Hypothyroid', 'Negative', 'Negative', 'Hypothyroid', 'Negative',\n",
       "       'Hyperthyroid', 'Hypothyroid', 'Hyperthyroid', 'Negative',\n",
       "       'Negative', 'Hyperthyroid', 'Negative', 'Negative', 'Negative',\n",
       "       'Negative', 'Negative', 'Negative', 'Negative', 'Hypothyroid',\n",
       "       'Hypothyroid', 'Negative', 'Negative', 'Negative', 'Negative',\n",
       "       'Negative', 'Negative', 'Hypothyroid', 'Hyperthyroid',\n",
       "       'Hyperthyroid', 'Negative', 'Hypothyroid', 'Hyperthyroid',\n",
       "       'Negative', 'Negative', 'Negative', 'Negative', 'Negative',\n",
       "       'Negative', 'Hypothyroid', 'Negative', 'Negative', 'Negative',\n",
       "       'Hypothyroid', 'Negative', 'Negative', 'Negative', 'Hypothyroid',\n",
       "       'Hyperthyroid', 'Negative', 'Hypothyroid', 'Hypothyroid',\n",
       "       'Hypothyroid', 'Hyperthyroid', 'Hyperthyroid', 'Hyperthyroid',\n",
       "       'Negative', 'Hypothyroid', 'Negative', 'Negative', 'Negative',\n",
       "       'Negative', 'Hypothyroid', 'Negative', 'Hyperthyroid', 'Negative',\n",
       "       'Negative', 'Negative', 'Negative', 'Hypothyroid', 'Negative',\n",
       "       'Negative', 'Negative', 'Negative', 'Hypothyroid', 'Negative',\n",
       "       'Hypothyroid', 'Negative', 'Negative', 'Negative', 'Negative',\n",
       "       'Hypothyroid', 'Negative', 'Negative', 'Negative', 'Hypothyroid',\n",
       "       'Hypothyroid', 'Hypothyroid', 'Hyperthyroid', 'Hyperthyroid',\n",
       "       'Negative', 'Negative', 'Negative', 'Hyperthyroid', 'Negative',\n",
       "       'Negative', 'Negative', 'Negative', 'Negative', 'Negative',\n",
       "       'Negative', 'Hyperthyroid', 'Hypothyroid', 'Hypothyroid',\n",
       "       'Hypothyroid', 'Hypothyroid', 'Hyperthyroid', 'Negative',\n",
       "       'Negative', 'Hypothyroid', 'Hypothyroid', 'Negative', 'Negative',\n",
       "       'Hypothyroid', 'Negative', 'Hypothyroid', 'Negative', 'Negative',\n",
       "       'Negative', 'Negative', 'Hypothyroid', 'Negative', 'Hypothyroid',\n",
       "       'Hypothyroid', 'Negative', 'Hyperthyroid', 'Hypothyroid',\n",
       "       'Negative', 'Negative', 'Negative', 'Negative', 'Hypothyroid',\n",
       "       'Hyperthyroid', 'Hypothyroid', 'Hypothyroid', 'Negative',\n",
       "       'Hypothyroid', 'Negative', 'Negative', 'Negative', 'Negative',\n",
       "       'Negative', 'Negative', 'Negative', 'Negative', 'Hypothyroid',\n",
       "       'Negative', 'Negative', 'Negative', 'Negative', 'Hyperthyroid',\n",
       "       'Hypothyroid', 'Negative', 'Hypothyroid', 'Negative', 'Negative',\n",
       "       'Negative', 'Negative', 'Hyperthyroid', 'Hypothyroid',\n",
       "       'Hypothyroid', 'Negative', 'Hypothyroid', 'Hypothyroid',\n",
       "       'Negative', 'Negative', 'Negative', 'Negative', 'Negative',\n",
       "       'Negative', 'Negative', 'Negative', 'Hypothyroid', 'Hypothyroid',\n",
       "       'Negative', 'Hypothyroid', 'Negative', 'Negative', 'Negative',\n",
       "       'Negative', 'Negative', 'Hyperthyroid', 'Hypothyroid',\n",
       "       'Hypothyroid', 'Negative', 'Hypothyroid', 'Negative',\n",
       "       'Hypothyroid', 'Negative', 'Negative', 'Negative', 'Hypothyroid',\n",
       "       'Hypothyroid', 'Negative', 'Negative', 'Negative', 'Hyperthyroid',\n",
       "       'Negative', 'Negative', 'Negative', 'Negative', 'Negative',\n",
       "       'Hyperthyroid', 'Negative', 'Negative', 'Hypothyroid',\n",
       "       'Hypothyroid', 'Hypothyroid', 'Negative', 'Negative', 'Negative',\n",
       "       'Negative', 'Negative', 'Negative', 'Hypothyroid', 'Hypothyroid',\n",
       "       'Negative', 'Negative', 'Negative', 'Negative', 'Negative',\n",
       "       'Negative', 'Negative', 'Hypothyroid', 'Negative', 'Hypothyroid',\n",
       "       'Hyperthyroid', 'Negative', 'Negative', 'Negative', 'Hypothyroid',\n",
       "       'Hyperthyroid', 'Negative', 'Hypothyroid', 'Negative',\n",
       "       'Hypothyroid', 'Negative', 'Negative', 'Negative', 'Negative',\n",
       "       'Hypothyroid', 'Negative', 'Hypothyroid', 'Hyperthyroid',\n",
       "       'Hypothyroid', 'Negative', 'Negative', 'Hypothyroid', 'Negative',\n",
       "       'Negative', 'Negative', 'Hypothyroid', 'Hypothyroid',\n",
       "       'Hypothyroid', 'Hypothyroid', 'Negative', 'Negative', 'Negative',\n",
       "       'Negative', 'Hypothyroid', 'Negative', 'Negative', 'Negative',\n",
       "       'Hypothyroid', 'Negative', 'Negative', 'Hypothyroid',\n",
       "       'Hypothyroid', 'Hypothyroid', 'Hypothyroid', 'Hypothyroid',\n",
       "       'Negative', 'Hyperthyroid', 'Negative', 'Negative', 'Negative',\n",
       "       'Negative', 'Negative', 'Hypothyroid', 'Negative', 'Hypothyroid',\n",
       "       'Negative', 'Hypothyroid', 'Negative', 'Negative', 'Hyperthyroid',\n",
       "       'Negative', 'Hypothyroid', 'Negative', 'Negative', 'Negative',\n",
       "       'Hypothyroid', 'Negative', 'Negative', 'Negative', 'Negative',\n",
       "       'Hypothyroid', 'Negative', 'Hyperthyroid', 'Hypothyroid',\n",
       "       'Negative', 'Negative', 'Negative', 'Negative', 'Negative',\n",
       "       'Negative', 'Hypothyroid', 'Negative', 'Negative', 'Negative',\n",
       "       'Negative', 'Hyperthyroid', 'Negative', 'Negative', 'Hypothyroid',\n",
       "       'Hypothyroid', 'Hypothyroid', 'Hypothyroid', 'Negative',\n",
       "       'Negative', 'Hypothyroid', 'Negative', 'Negative', 'Negative',\n",
       "       'Negative', 'Negative', 'Negative', 'Negative', 'Negative',\n",
       "       'Hypothyroid', 'Negative', 'Negative', 'Hypothyroid', 'Negative',\n",
       "       'Negative', 'Hypothyroid', 'Negative', 'Hypothyroid', 'Negative',\n",
       "       'Negative', 'Negative', 'Negative', 'Hypothyroid', 'Negative',\n",
       "       'Negative', 'Hyperthyroid', 'Hyperthyroid', 'Hypothyroid',\n",
       "       'Negative', 'Negative', 'Hyperthyroid', 'Negative', 'Hyperthyroid',\n",
       "       'Negative', 'Hypothyroid', 'Negative', 'Negative', 'Negative',\n",
       "       'Negative', 'Negative', 'Hypothyroid', 'Negative', 'Negative',\n",
       "       'Hypothyroid', 'Negative', 'Hypothyroid', 'Hypothyroid'],\n",
       "      dtype=object)"
      ]
     },
     "execution_count": 182,
     "metadata": {},
     "output_type": "execute_result"
    }
   ],
   "source": [
    "y_pred = rf_model.predict(X_test)\n",
    "y_pred"
   ]
  },
  {
   "cell_type": "code",
   "execution_count": 183,
   "id": "15fb31a6-4e7c-455a-802e-a4dbdbad6d7d",
   "metadata": {},
   "outputs": [
    {
     "data": {
      "text/plain": [
       "array([[0.14, 0.  , 0.86],\n",
       "       [0.32, 0.06, 0.62],\n",
       "       [0.03, 0.32, 0.65],\n",
       "       ...,\n",
       "       [0.  , 0.01, 0.99],\n",
       "       [0.  , 0.94, 0.06],\n",
       "       [0.  , 0.96, 0.04]])"
      ]
     },
     "execution_count": 183,
     "metadata": {},
     "output_type": "execute_result"
    }
   ],
   "source": [
    "y_pred_proba = rf_model.predict_proba(X_test)\n",
    "y_pred_proba "
   ]
  },
  {
   "cell_type": "code",
   "execution_count": 184,
   "id": "bf99473b-57f5-4155-8518-cfd0910f26c3",
   "metadata": {},
   "outputs": [],
   "source": [
    "from sklearn.metrics import confusion_matrix, classification_report"
   ]
  },
  {
   "cell_type": "code",
   "execution_count": 185,
   "id": "93ee3f2f-330f-44bb-bb04-c6a7187e0050",
   "metadata": {},
   "outputs": [
    {
     "name": "stdout",
     "output_type": "stream",
     "text": [
      "Confusion Matrix:\n",
      "[[ 38   1   9]\n",
      " [  0 129   0]\n",
      " [  2   3 302]]\n"
     ]
    }
   ],
   "source": [
    "conf_matrix = confusion_matrix(y_test, y_pred)\n",
    "print(\"Confusion Matrix:\")\n",
    "print(conf_matrix)"
   ]
  },
  {
   "cell_type": "code",
   "execution_count": 186,
   "id": "23b336a2-12ae-4cfd-8547-4775b69ef324",
   "metadata": {},
   "outputs": [
    {
     "name": "stdout",
     "output_type": "stream",
     "text": [
      "Classification Report:\n",
      "              precision    recall  f1-score   support\n",
      "\n",
      "Hyperthyroid       0.95      0.79      0.86        48\n",
      " Hypothyroid       0.97      1.00      0.98       129\n",
      "    Negative       0.97      0.98      0.98       307\n",
      "\n",
      "    accuracy                           0.97       484\n",
      "   macro avg       0.96      0.93      0.94       484\n",
      "weighted avg       0.97      0.97      0.97       484\n",
      "\n"
     ]
    }
   ],
   "source": [
    "class_report = classification_report(y_test, y_pred)\n",
    "print(\"Classification Report:\")\n",
    "print(class_report)"
   ]
  },
  {
   "cell_type": "code",
   "execution_count": 187,
   "id": "d99ab716-91bc-4fff-b7ee-521cf538bb69",
   "metadata": {},
   "outputs": [
    {
     "name": "stdout",
     "output_type": "stream",
     "text": [
      "Classification Report for Train Data: \n",
      "               precision    recall  f1-score   support\n",
      "\n",
      "Hyperthyroid       1.00      1.00      1.00       121\n",
      " Hypothyroid       1.00      1.00      1.00       315\n",
      "    Negative       1.00      1.00      1.00       693\n",
      "\n",
      "    accuracy                           1.00      1129\n",
      "   macro avg       1.00      1.00      1.00      1129\n",
      "weighted avg       1.00      1.00      1.00      1129\n",
      "\n"
     ]
    }
   ],
   "source": [
    "# Predict on train data\n",
    "y_pred_train = rf_model.predict(X_train)\n",
    "\n",
    "class_report_train = classification_report(y_train, y_pred_train)\n",
    "print(\"Classification Report for Train Data: \\n\", class_report_train)"
   ]
  },
  {
   "cell_type": "code",
   "execution_count": 188,
   "id": "84056fed-9747-4a71-9ed1-9ec5a2a64740",
   "metadata": {},
   "outputs": [
    {
     "name": "stdout",
     "output_type": "stream",
     "text": [
      "Confusion Matrix for Train Data: \n",
      " [[121   0   0]\n",
      " [  0 315   0]\n",
      " [  0   0 693]]\n"
     ]
    }
   ],
   "source": [
    "confusion_matrix_train = confusion_matrix(y_train, y_pred_train)\n",
    "print(\"Confusion Matrix for Train Data: \\n\", confusion_matrix_train)"
   ]
  },
  {
   "cell_type": "code",
   "execution_count": 189,
   "id": "be27de0e-757c-4116-a896-1773473fd563",
   "metadata": {},
   "outputs": [
    {
     "name": "stdout",
     "output_type": "stream",
     "text": [
      "Top 5 Features:\n",
      "TSH\n",
      "FTI\n",
      "TT4\n",
      "T3\n",
      "T4U\n"
     ]
    }
   ],
   "source": [
    "feature_importances = rf_model.feature_importances_\n",
    "\n",
    "# Get indices of top 5 features\n",
    "top5_indices = feature_importances.argsort()[-5:][::-1]\n",
    "\n",
    "# Get top 5 feature names\n",
    "top5_features = X_train.columns[top5_indices]\n",
    "\n",
    "print(\"Top 5 Features:\")\n",
    "for feature in top5_features:\n",
    "    print(feature)"
   ]
  },
  {
   "cell_type": "markdown",
   "id": "eb298d6a-4e89-4441-8114-6bbcecdf6a4a",
   "metadata": {},
   "source": [
    "## LinearSVM Classifier"
   ]
  },
  {
   "cell_type": "code",
   "execution_count": 190,
   "id": "55f2effc-e45a-49d6-b785-609b343e672f",
   "metadata": {},
   "outputs": [],
   "source": [
    "from sklearn.svm import LinearSVC"
   ]
  },
  {
   "cell_type": "code",
   "execution_count": 191,
   "id": "454d3bc4-afb1-40dd-ab68-8577c66f03fa",
   "metadata": {},
   "outputs": [
    {
     "name": "stderr",
     "output_type": "stream",
     "text": [
      "/Users/admin/opt/anaconda3/lib/python3.9/site-packages/sklearn/svm/_base.py:1206: ConvergenceWarning: Liblinear failed to converge, increase the number of iterations.\n",
      "  warnings.warn(\n"
     ]
    },
    {
     "data": {
      "text/plain": [
       "LinearSVC(random_state=42)"
      ]
     },
     "execution_count": 191,
     "metadata": {},
     "output_type": "execute_result"
    }
   ],
   "source": [
    "svc_classifier = LinearSVC(random_state=42)  # Using default parameters\n",
    "svc_classifier.fit(X_train, y_train)"
   ]
  },
  {
   "cell_type": "code",
   "execution_count": 192,
   "id": "16039a21-4b69-48c1-a7e1-a03032b530f3",
   "metadata": {},
   "outputs": [
    {
     "data": {
      "text/plain": [
       "array(['Negative', 'Negative', 'Negative', 'Negative', 'Negative',\n",
       "       'Negative', 'Hyperthyroid', 'Negative', 'Negative', 'Negative',\n",
       "       'Hypothyroid', 'Hyperthyroid', 'Hyperthyroid', 'Negative',\n",
       "       'Negative', 'Negative', 'Negative', 'Negative', 'Hypothyroid',\n",
       "       'Hypothyroid', 'Hypothyroid', 'Hypothyroid', 'Negative',\n",
       "       'Negative', 'Negative', 'Negative', 'Hypothyroid', 'Hypothyroid',\n",
       "       'Negative', 'Negative', 'Hypothyroid', 'Hyperthyroid',\n",
       "       'Hyperthyroid', 'Negative', 'Negative', 'Hypothyroid',\n",
       "       'Hypothyroid', 'Negative', 'Hypothyroid', 'Hyperthyroid',\n",
       "       'Negative', 'Hypothyroid', 'Hypothyroid', 'Negative', 'Negative',\n",
       "       'Negative', 'Negative', 'Negative', 'Hyperthyroid', 'Negative',\n",
       "       'Hypothyroid', 'Hyperthyroid', 'Hypothyroid', 'Hyperthyroid',\n",
       "       'Negative', 'Hypothyroid', 'Negative', 'Hypothyroid', 'Negative',\n",
       "       'Hypothyroid', 'Negative', 'Hypothyroid', 'Hyperthyroid',\n",
       "       'Negative', 'Hypothyroid', 'Negative', 'Negative', 'Hypothyroid',\n",
       "       'Hyperthyroid', 'Negative', 'Negative', 'Hypothyroid',\n",
       "       'Hypothyroid', 'Hypothyroid', 'Negative', 'Negative',\n",
       "       'Hypothyroid', 'Negative', 'Negative', 'Hypothyroid',\n",
       "       'Hyperthyroid', 'Negative', 'Hypothyroid', 'Negative', 'Negative',\n",
       "       'Hypothyroid', 'Negative', 'Hypothyroid', 'Negative', 'Negative',\n",
       "       'Negative', 'Hypothyroid', 'Negative', 'Hyperthyroid',\n",
       "       'Hyperthyroid', 'Negative', 'Hypothyroid', 'Hyperthyroid',\n",
       "       'Negative', 'Negative', 'Hypothyroid', 'Hyperthyroid',\n",
       "       'Hyperthyroid', 'Hypothyroid', 'Negative', 'Negative',\n",
       "       'Hyperthyroid', 'Negative', 'Negative', 'Hypothyroid', 'Negative',\n",
       "       'Negative', 'Hyperthyroid', 'Hyperthyroid', 'Hypothyroid',\n",
       "       'Negative', 'Hypothyroid', 'Hyperthyroid', 'Hypothyroid',\n",
       "       'Negative', 'Hyperthyroid', 'Hypothyroid', 'Negative',\n",
       "       'Hyperthyroid', 'Hypothyroid', 'Negative', 'Hyperthyroid',\n",
       "       'Negative', 'Hyperthyroid', 'Negative', 'Hyperthyroid', 'Negative',\n",
       "       'Negative', 'Negative', 'Negative', 'Hyperthyroid', 'Hypothyroid',\n",
       "       'Hypothyroid', 'Hypothyroid', 'Negative', 'Hyperthyroid',\n",
       "       'Negative', 'Negative', 'Negative', 'Hypothyroid', 'Hyperthyroid',\n",
       "       'Hyperthyroid', 'Negative', 'Hypothyroid', 'Hyperthyroid',\n",
       "       'Negative', 'Hyperthyroid', 'Negative', 'Negative', 'Negative',\n",
       "       'Negative', 'Hypothyroid', 'Hypothyroid', 'Negative', 'Negative',\n",
       "       'Hypothyroid', 'Negative', 'Negative', 'Negative', 'Hypothyroid',\n",
       "       'Hyperthyroid', 'Negative', 'Hyperthyroid', 'Hypothyroid',\n",
       "       'Hypothyroid', 'Hyperthyroid', 'Hyperthyroid', 'Hyperthyroid',\n",
       "       'Negative', 'Hypothyroid', 'Negative', 'Hyperthyroid', 'Negative',\n",
       "       'Negative', 'Hypothyroid', 'Hyperthyroid', 'Hyperthyroid',\n",
       "       'Negative', 'Negative', 'Negative', 'Negative', 'Hypothyroid',\n",
       "       'Hypothyroid', 'Hypothyroid', 'Hyperthyroid', 'Hypothyroid',\n",
       "       'Hypothyroid', 'Negative', 'Hypothyroid', 'Hyperthyroid',\n",
       "       'Hypothyroid', 'Hypothyroid', 'Hypothyroid', 'Hypothyroid',\n",
       "       'Negative', 'Hypothyroid', 'Negative', 'Hypothyroid',\n",
       "       'Hypothyroid', 'Hypothyroid', 'Hyperthyroid', 'Hyperthyroid',\n",
       "       'Negative', 'Negative', 'Hyperthyroid', 'Hyperthyroid', 'Negative',\n",
       "       'Negative', 'Negative', 'Negative', 'Negative', 'Hyperthyroid',\n",
       "       'Negative', 'Hyperthyroid', 'Hypothyroid', 'Hypothyroid',\n",
       "       'Hypothyroid', 'Hypothyroid', 'Hyperthyroid', 'Hyperthyroid',\n",
       "       'Negative', 'Hypothyroid', 'Hypothyroid', 'Negative', 'Negative',\n",
       "       'Hypothyroid', 'Negative', 'Hypothyroid', 'Negative', 'Negative',\n",
       "       'Negative', 'Hypothyroid', 'Hypothyroid', 'Negative',\n",
       "       'Hypothyroid', 'Hypothyroid', 'Hypothyroid', 'Hyperthyroid',\n",
       "       'Hypothyroid', 'Negative', 'Negative', 'Hyperthyroid',\n",
       "       'Hyperthyroid', 'Hypothyroid', 'Hyperthyroid', 'Hypothyroid',\n",
       "       'Hypothyroid', 'Hypothyroid', 'Hypothyroid', 'Negative',\n",
       "       'Negative', 'Hypothyroid', 'Hypothyroid', 'Negative', 'Negative',\n",
       "       'Negative', 'Hypothyroid', 'Hypothyroid', 'Negative',\n",
       "       'Hypothyroid', 'Negative', 'Negative', 'Hyperthyroid',\n",
       "       'Hypothyroid', 'Negative', 'Hypothyroid', 'Negative',\n",
       "       'Hypothyroid', 'Negative', 'Negative', 'Hyperthyroid',\n",
       "       'Hypothyroid', 'Hypothyroid', 'Hyperthyroid', 'Hypothyroid',\n",
       "       'Hypothyroid', 'Negative', 'Negative', 'Negative', 'Negative',\n",
       "       'Negative', 'Hyperthyroid', 'Negative', 'Hyperthyroid',\n",
       "       'Hypothyroid', 'Hypothyroid', 'Hyperthyroid', 'Negative',\n",
       "       'Negative', 'Hyperthyroid', 'Negative', 'Negative', 'Negative',\n",
       "       'Hyperthyroid', 'Hypothyroid', 'Hypothyroid', 'Hyperthyroid',\n",
       "       'Hypothyroid', 'Negative', 'Hypothyroid', 'Negative', 'Negative',\n",
       "       'Negative', 'Hypothyroid', 'Hypothyroid', 'Hypothyroid',\n",
       "       'Negative', 'Negative', 'Hyperthyroid', 'Negative', 'Negative',\n",
       "       'Negative', 'Hypothyroid', 'Negative', 'Hyperthyroid', 'Negative',\n",
       "       'Hypothyroid', 'Hypothyroid', 'Hypothyroid', 'Hypothyroid',\n",
       "       'Negative', 'Negative', 'Negative', 'Negative', 'Negative',\n",
       "       'Negative', 'Hypothyroid', 'Hypothyroid', 'Negative', 'Negative',\n",
       "       'Negative', 'Negative', 'Negative', 'Negative', 'Negative',\n",
       "       'Hypothyroid', 'Negative', 'Hypothyroid', 'Hyperthyroid',\n",
       "       'Negative', 'Negative', 'Negative', 'Hypothyroid', 'Negative',\n",
       "       'Hyperthyroid', 'Hypothyroid', 'Hyperthyroid', 'Hypothyroid',\n",
       "       'Negative', 'Negative', 'Negative', 'Hypothyroid', 'Hypothyroid',\n",
       "       'Hypothyroid', 'Hypothyroid', 'Hyperthyroid', 'Hypothyroid',\n",
       "       'Negative', 'Negative', 'Hypothyroid', 'Negative', 'Negative',\n",
       "       'Negative', 'Hypothyroid', 'Hypothyroid', 'Hypothyroid',\n",
       "       'Hypothyroid', 'Negative', 'Negative', 'Negative', 'Negative',\n",
       "       'Hypothyroid', 'Hypothyroid', 'Negative', 'Negative',\n",
       "       'Hypothyroid', 'Negative', 'Negative', 'Hypothyroid',\n",
       "       'Hypothyroid', 'Hypothyroid', 'Hypothyroid', 'Hypothyroid',\n",
       "       'Negative', 'Hyperthyroid', 'Negative', 'Negative', 'Hypothyroid',\n",
       "       'Hypothyroid', 'Hypothyroid', 'Hypothyroid', 'Negative',\n",
       "       'Hypothyroid', 'Negative', 'Hypothyroid', 'Negative', 'Negative',\n",
       "       'Hyperthyroid', 'Negative', 'Hypothyroid', 'Hypothyroid',\n",
       "       'Negative', 'Negative', 'Hypothyroid', 'Negative', 'Negative',\n",
       "       'Negative', 'Negative', 'Hypothyroid', 'Negative', 'Hyperthyroid',\n",
       "       'Hypothyroid', 'Negative', 'Negative', 'Hypothyroid', 'Negative',\n",
       "       'Negative', 'Negative', 'Hypothyroid', 'Negative', 'Negative',\n",
       "       'Negative', 'Negative', 'Hyperthyroid', 'Negative', 'Negative',\n",
       "       'Hypothyroid', 'Hypothyroid', 'Hypothyroid', 'Hypothyroid',\n",
       "       'Negative', 'Hypothyroid', 'Hypothyroid', 'Negative', 'Negative',\n",
       "       'Negative', 'Negative', 'Hypothyroid', 'Negative', 'Negative',\n",
       "       'Negative', 'Hypothyroid', 'Hypothyroid', 'Negative',\n",
       "       'Hypothyroid', 'Negative', 'Hypothyroid', 'Hypothyroid',\n",
       "       'Negative', 'Hypothyroid', 'Negative', 'Negative', 'Negative',\n",
       "       'Negative', 'Hypothyroid', 'Hyperthyroid', 'Negative',\n",
       "       'Hyperthyroid', 'Hyperthyroid', 'Hypothyroid', 'Negative',\n",
       "       'Negative', 'Hyperthyroid', 'Negative', 'Hyperthyroid', 'Negative',\n",
       "       'Hypothyroid', 'Negative', 'Negative', 'Negative', 'Negative',\n",
       "       'Negative', 'Hypothyroid', 'Negative', 'Negative', 'Hypothyroid',\n",
       "       'Negative', 'Hypothyroid', 'Hypothyroid'], dtype=object)"
      ]
     },
     "execution_count": 192,
     "metadata": {},
     "output_type": "execute_result"
    }
   ],
   "source": [
    "# Predict on test data\n",
    "y_pred = svc_classifier.predict(X_test)\n",
    "y_pred"
   ]
  },
  {
   "cell_type": "code",
   "execution_count": 193,
   "id": "038206f5-550c-4a37-82c4-2908d8fee2eb",
   "metadata": {},
   "outputs": [
    {
     "name": "stdout",
     "output_type": "stream",
     "text": [
      "Confusion Matrix: \n",
      " [[ 41   0   7]\n",
      " [  0 128   1]\n",
      " [ 37  41 229]]\n"
     ]
    }
   ],
   "source": [
    "conf_matrix_svc = confusion_matrix(y_test, y_pred)\n",
    "print(\"Confusion Matrix: \\n\", conf_matrix_svc)"
   ]
  },
  {
   "cell_type": "code",
   "execution_count": 194,
   "id": "7e68bcd3-be13-498d-ad36-c4ae764aef1b",
   "metadata": {},
   "outputs": [
    {
     "name": "stdout",
     "output_type": "stream",
     "text": [
      "Classification Report: \n",
      "               precision    recall  f1-score   support\n",
      "\n",
      "Hyperthyroid       0.53      0.85      0.65        48\n",
      " Hypothyroid       0.76      0.99      0.86       129\n",
      "    Negative       0.97      0.75      0.84       307\n",
      "\n",
      "    accuracy                           0.82       484\n",
      "   macro avg       0.75      0.86      0.78       484\n",
      "weighted avg       0.87      0.82      0.83       484\n",
      "\n"
     ]
    }
   ],
   "source": [
    "class_report_svc = classification_report(y_test, y_pred)\n",
    "print(\"Classification Report: \\n\", class_report_svc)"
   ]
  },
  {
   "cell_type": "code",
   "execution_count": 195,
   "id": "137e9bdd-f02d-4ce6-aefd-c7ce2dfe1166",
   "metadata": {},
   "outputs": [
    {
     "name": "stdout",
     "output_type": "stream",
     "text": [
      "Classification Report for Train Data: \n",
      "               precision    recall  f1-score   support\n",
      "\n",
      "Hyperthyroid       0.61      0.93      0.74       121\n",
      " Hypothyroid       0.77      0.99      0.86       315\n",
      "    Negative       0.98      0.76      0.85       693\n",
      "\n",
      "    accuracy                           0.84      1129\n",
      "   macro avg       0.78      0.89      0.82      1129\n",
      "weighted avg       0.88      0.84      0.84      1129\n",
      "\n"
     ]
    }
   ],
   "source": [
    "# Predict on train data\n",
    "y_train_pred = svc_classifier.predict(X_train)\n",
    "\n",
    "class_report_train_svc = classification_report(y_train, y_train_pred)\n",
    "print(\"Classification Report for Train Data: \\n\", class_report_train_svc)"
   ]
  },
  {
   "cell_type": "code",
   "execution_count": 196,
   "id": "a81e8073-2bac-4e3a-ba05-41c5a99316b5",
   "metadata": {},
   "outputs": [
    {
     "name": "stdout",
     "output_type": "stream",
     "text": [
      "Confusion Matrix for Train Data: \n",
      " [[113   0   8]\n",
      " [  0 313   2]\n",
      " [ 73  96 524]]\n"
     ]
    }
   ],
   "source": [
    "confusion_matrix_train_svc = confusion_matrix(y_train, y_train_pred)\n",
    "print(\"Confusion Matrix for Train Data: \\n\", confusion_matrix_train_svc)"
   ]
  },
  {
   "cell_type": "code",
   "execution_count": 197,
   "id": "d09579ac-cbf0-4b51-97c2-8e231a77974f",
   "metadata": {},
   "outputs": [],
   "source": [
    "from sklearn.metrics import f1_score\n",
    "f1_scores_train = f1_score(y_train, y_train_pred, average=None)\n",
    "f1_scores_test = f1_score(y_test, y_pred, average=None)"
   ]
  },
  {
   "cell_type": "code",
   "execution_count": 161,
   "id": "1ba80839-ca8a-467e-8406-ef88aefcb1ef",
   "metadata": {},
   "outputs": [
    {
     "data": {
      "image/png": "[encoded data removed]",
      "text/plain": [
       "<Figure size 1000x600 with 1 Axes>"
      ]
     },
     "metadata": {},
     "output_type": "display_data"
    }
   ],
   "source": [
    "classes = np.unique(y)\n",
    "bar_width = 0.35\n",
    "index = np.arange(len(classes))\n",
    "\n",
    "plt.figure(figsize=(10, 6))\n",
    "\n",
    "plt.bar(index, f1_scores_train, bar_width, label='Train', color='skyblue')\n",
    "plt.bar(index + bar_width, f1_scores_test, bar_width, label='Test', color='lightcoral')\n",
    "\n",
    "plt.xlabel('Class')\n",
    "plt.ylabel('F1 Score')\n",
    "plt.title('F1 Score for Each Class (Train vs Test)')\n",
    "plt.xticks(index + bar_width / 2, classes)\n",
    "plt.ylim(0, 1)\n",
    "plt.legend()\n",
    "\n",
    "plt.show()"
   ]
  },
  {
   "cell_type": "markdown",
   "id": "e32b8a56-4bf5-4090-b611-156764bee2a4",
   "metadata": {},
   "source": [
    "## SVM with poly kernel"
   ]
  },
  {
   "cell_type": "code",
   "execution_count": 162,
   "id": "c9c806af-f59d-4fcd-accf-8b1cf5c8afe3",
   "metadata": {},
   "outputs": [],
   "source": [
    "from sklearn.svm import SVC"
   ]
  },
  {
   "cell_type": "code",
   "execution_count": 163,
   "id": "2eea9ff5-3abb-4124-904a-7b1802c2b0eb",
   "metadata": {},
   "outputs": [
    {
     "data": {
      "text/plain": [
       "SVC(kernel='poly', random_state=42)"
      ]
     },
     "execution_count": 163,
     "metadata": {},
     "output_type": "execute_result"
    }
   ],
   "source": [
    "svc_classifier_poly = SVC(kernel='poly', random_state=42)\n",
    "svc_classifier_poly.fit(X_train, y_train)"
   ]
  },
  {
   "cell_type": "code",
   "execution_count": 164,
   "id": "ee64d889-886c-41b8-a2e5-f21033282340",
   "metadata": {},
   "outputs": [
    {
     "data": {
      "text/plain": [
       "array(['Hypothyroid', 'Negative', 'Hyperthyroid', 'Hypothyroid',\n",
       "       'Negative', 'Hypothyroid', 'Hyperthyroid', 'Negative', 'Negative',\n",
       "       'Hyperthyroid', 'Hypothyroid', 'Negative', 'Hyperthyroid',\n",
       "       'Hypothyroid', 'Hypothyroid', 'Hypothyroid', 'Hypothyroid',\n",
       "       'Negative', 'Negative', 'Hypothyroid', 'Negative', 'Negative',\n",
       "       'Hypothyroid', 'Negative', 'Negative', 'Hypothyroid',\n",
       "       'Hyperthyroid', 'Hypothyroid', 'Negative', 'Hypothyroid',\n",
       "       'Negative', 'Hypothyroid', 'Hypothyroid', 'Hypothyroid',\n",
       "       'Hypothyroid', 'Negative', 'Negative', 'Hypothyroid',\n",
       "       'Hypothyroid', 'Hypothyroid', 'Negative', 'Negative',\n",
       "       'Hyperthyroid', 'Hypothyroid', 'Hypothyroid', 'Hypothyroid',\n",
       "       'Hypothyroid', 'Hyperthyroid', 'Negative', 'Hypothyroid',\n",
       "       'Negative', 'Hypothyroid', 'Negative', 'Negative', 'Negative',\n",
       "       'Hypothyroid', 'Hypothyroid', 'Negative', 'Hypothyroid',\n",
       "       'Hypothyroid', 'Negative', 'Hyperthyroid', 'Hyperthyroid',\n",
       "       'Hyperthyroid', 'Hypothyroid', 'Negative', 'Negative',\n",
       "       'Hyperthyroid', 'Negative', 'Negative', 'Hypothyroid',\n",
       "       'Hypothyroid', 'Hypothyroid', 'Hypothyroid', 'Negative',\n",
       "       'Hypothyroid', 'Hypothyroid', 'Hypothyroid', 'Negative',\n",
       "       'Hypothyroid', 'Negative', 'Negative', 'Negative', 'Hypothyroid',\n",
       "       'Hypothyroid', 'Negative', 'Hypothyroid', 'Negative', 'Negative',\n",
       "       'Negative', 'Hypothyroid', 'Hyperthyroid', 'Hypothyroid',\n",
       "       'Negative', 'Hypothyroid', 'Hypothyroid', 'Negative', 'Negative',\n",
       "       'Hyperthyroid', 'Negative', 'Negative', 'Negative', 'Negative',\n",
       "       'Hypothyroid', 'Hypothyroid', 'Negative', 'Hypothyroid',\n",
       "       'Hypothyroid', 'Negative', 'Negative', 'Negative', 'Negative',\n",
       "       'Negative', 'Hypothyroid', 'Hypothyroid', 'Hypothyroid',\n",
       "       'Negative', 'Negative', 'Negative', 'Negative', 'Hypothyroid',\n",
       "       'Hyperthyroid', 'Hypothyroid', 'Negative', 'Negative',\n",
       "       'Hypothyroid', 'Hypothyroid', 'Negative', 'Negative', 'Negative',\n",
       "       'Hypothyroid', 'Hyperthyroid', 'Hypothyroid', 'Hypothyroid',\n",
       "       'Negative', 'Hypothyroid', 'Hyperthyroid', 'Hyperthyroid',\n",
       "       'Negative', 'Negative', 'Negative', 'Negative', 'Hypothyroid',\n",
       "       'Negative', 'Hypothyroid', 'Hypothyroid', 'Hypothyroid',\n",
       "       'Negative', 'Negative', 'Hypothyroid', 'Negative', 'Negative',\n",
       "       'Hypothyroid', 'Hypothyroid', 'Hypothyroid', 'Hypothyroid',\n",
       "       'Negative', 'Negative', 'Negative', 'Hypothyroid', 'Negative',\n",
       "       'Negative', 'Negative', 'Hyperthyroid', 'Hypothyroid', 'Negative',\n",
       "       'Hypothyroid', 'Negative', 'Negative', 'Hyperthyroid', 'Negative',\n",
       "       'Negative', 'Hypothyroid', 'Negative', 'Negative', 'Hypothyroid',\n",
       "       'Negative', 'Hypothyroid', 'Negative', 'Hypothyroid',\n",
       "       'Hypothyroid', 'Negative', 'Hypothyroid', 'Hyperthyroid',\n",
       "       'Hypothyroid', 'Hyperthyroid', 'Negative', 'Negative', 'Negative',\n",
       "       'Negative', 'Negative', 'Negative', 'Hypothyroid', 'Negative',\n",
       "       'Negative', 'Negative', 'Hypothyroid', 'Negative', 'Hyperthyroid',\n",
       "       'Hypothyroid', 'Hypothyroid', 'Hypothyroid', 'Negative',\n",
       "       'Hyperthyroid', 'Negative', 'Hyperthyroid', 'Hyperthyroid',\n",
       "       'Negative', 'Hypothyroid', 'Negative', 'Hypothyroid', 'Negative',\n",
       "       'Negative', 'Hypothyroid', 'Hypothyroid', 'Negative',\n",
       "       'Hyperthyroid', 'Hypothyroid', 'Negative', 'Hypothyroid',\n",
       "       'Hypothyroid', 'Hypothyroid', 'Hypothyroid', 'Negative',\n",
       "       'Negative', 'Hyperthyroid', 'Hyperthyroid', 'Hypothyroid',\n",
       "       'Hypothyroid', 'Hypothyroid', 'Hypothyroid', 'Negative',\n",
       "       'Negative', 'Negative', 'Negative', 'Hyperthyroid', 'Negative',\n",
       "       'Negative', 'Negative', 'Negative', 'Hypothyroid', 'Hypothyroid',\n",
       "       'Negative', 'Hypothyroid', 'Hypothyroid', 'Negative', 'Negative',\n",
       "       'Negative', 'Negative', 'Hyperthyroid', 'Hypothyroid', 'Negative',\n",
       "       'Negative', 'Hypothyroid', 'Hypothyroid', 'Hypothyroid',\n",
       "       'Hypothyroid', 'Hypothyroid', 'Negative', 'Negative', 'Negative',\n",
       "       'Negative', 'Negative', 'Negative', 'Hyperthyroid', 'Negative',\n",
       "       'Hypothyroid', 'Negative', 'Hypothyroid', 'Negative',\n",
       "       'Hypothyroid', 'Negative', 'Hyperthyroid', 'Negative', 'Negative',\n",
       "       'Hypothyroid', 'Negative', 'Hypothyroid', 'Hypothyroid',\n",
       "       'Hypothyroid', 'Hypothyroid', 'Negative', 'Hypothyroid',\n",
       "       'Hypothyroid', 'Negative', 'Negative', 'Hypothyroid', 'Negative',\n",
       "       'Hyperthyroid', 'Negative', 'Hyperthyroid', 'Negative', 'Negative',\n",
       "       'Hyperthyroid', 'Negative', 'Negative', 'Hypothyroid', 'Negative',\n",
       "       'Negative', 'Negative', 'Hypothyroid', 'Hypothyroid', 'Negative',\n",
       "       'Negative', 'Negative', 'Negative', 'Negative', 'Hypothyroid',\n",
       "       'Hypothyroid', 'Hypothyroid', 'Negative', 'Hypothyroid',\n",
       "       'Hypothyroid', 'Hypothyroid', 'Negative', 'Hypothyroid',\n",
       "       'Hyperthyroid', 'Negative', 'Negative', 'Negative', 'Hypothyroid',\n",
       "       'Negative', 'Hyperthyroid', 'Negative', 'Hypothyroid',\n",
       "       'Hypothyroid', 'Hypothyroid', 'Hypothyroid', 'Hyperthyroid',\n",
       "       'Hypothyroid', 'Negative', 'Negative', 'Hyperthyroid',\n",
       "       'Hypothyroid'], dtype=object)"
      ]
     },
     "execution_count": 164,
     "metadata": {},
     "output_type": "execute_result"
    }
   ],
   "source": [
    "# Predict on test data\n",
    "y_pred = svc_classifier_poly.predict(X_test)\n",
    "y_pred"
   ]
  },
  {
   "cell_type": "code",
   "execution_count": 165,
   "id": "9b33dde1-3bef-4f42-8c45-9b769f598953",
   "metadata": {},
   "outputs": [
    {
     "name": "stdout",
     "output_type": "stream",
     "text": [
      "Confusion Matrix: \n",
      " [[ 38   1  10]\n",
      " [  0 129   2]\n",
      " [  1   6 147]]\n"
     ]
    }
   ],
   "source": [
    "conf_matrix_svc_poly = confusion_matrix(y_test, y_pred)\n",
    "print(\"Confusion Matrix: \\n\", conf_matrix_svc_poly)"
   ]
  },
  {
   "cell_type": "code",
   "execution_count": 166,
   "id": "0d08a468-d5c6-4618-bcf6-bcbfe8d8ba4f",
   "metadata": {},
   "outputs": [
    {
     "name": "stdout",
     "output_type": "stream",
     "text": [
      "Classification Report: \n",
      "               precision    recall  f1-score   support\n",
      "\n",
      "Hyperthyroid       0.97      0.78      0.86        49\n",
      " Hypothyroid       0.95      0.98      0.97       131\n",
      "    Negative       0.92      0.95      0.94       154\n",
      "\n",
      "    accuracy                           0.94       334\n",
      "   macro avg       0.95      0.90      0.92       334\n",
      "weighted avg       0.94      0.94      0.94       334\n",
      "\n"
     ]
    }
   ],
   "source": [
    "class_report_svc_poly = classification_report(y_test, y_pred)\n",
    "print(\"Classification Report: \\n\", class_report_svc_poly)"
   ]
  },
  {
   "cell_type": "code",
   "execution_count": 167,
   "id": "813aa61a-c6e4-429e-a25d-e089bed2bf61",
   "metadata": {},
   "outputs": [
    {
     "name": "stdout",
     "output_type": "stream",
     "text": [
      "Classification Report for Train Data: \n",
      "               precision    recall  f1-score   support\n",
      "\n",
      "Hyperthyroid       0.96      0.85      0.90       120\n",
      " Hypothyroid       0.98      0.99      0.98       313\n",
      "    Negative       0.94      0.97      0.95       346\n",
      "\n",
      "    accuracy                           0.96       779\n",
      "   macro avg       0.96      0.94      0.95       779\n",
      "weighted avg       0.96      0.96      0.96       779\n",
      "\n"
     ]
    }
   ],
   "source": [
    "# Predict on train data\n",
    "y_train_pred = svc_classifier_poly.predict(X_train)\n",
    "\n",
    "class_report_train_svc_poly = classification_report(y_train, y_train_pred)\n",
    "print(\"Classification Report for Train Data: \\n\", class_report_train_svc_poly)"
   ]
  },
  {
   "cell_type": "code",
   "execution_count": 168,
   "id": "b4aed2ec-8705-4fd7-9d3e-7e9dbf299670",
   "metadata": {},
   "outputs": [
    {
     "name": "stdout",
     "output_type": "stream",
     "text": [
      "Confusion Matrix for Train Data: \n",
      " [[102   0  18]\n",
      " [  0 309   4]\n",
      " [  4   6 336]]\n"
     ]
    }
   ],
   "source": [
    "confusion_matrix_train_svc_poly = confusion_matrix(y_train, y_train_pred)\n",
    "print(\"Confusion Matrix for Train Data: \\n\", confusion_matrix_train_svc_poly)"
   ]
  },
  {
   "cell_type": "code",
   "execution_count": 169,
   "id": "4487bb62-3b48-404b-8c1b-de6da161729e",
   "metadata": {},
   "outputs": [],
   "source": [
    "f1_scores_train = f1_score(y_train, y_train_pred, average=None)\n",
    "f1_scores_test = f1_score(y_test, y_pred, average=None)"
   ]
  },
  {
   "cell_type": "code",
   "execution_count": 170,
   "id": "66dea959-cc99-452b-a62c-8fdb56d35734",
   "metadata": {},
   "outputs": [
    {
     "data": {
      "image/png": "[encoded data removed]",
      "text/plain": [
       "<Figure size 1000x600 with 1 Axes>"
      ]
     },
     "metadata": {},
     "output_type": "display_data"
    }
   ],
   "source": [
    "classes = np.unique(y)\n",
    "bar_width = 0.35\n",
    "index = np.arange(len(classes))\n",
    "\n",
    "plt.figure(figsize=(10, 6))\n",
    "\n",
    "plt.bar(index, f1_scores_train, bar_width, label='Train', color='skyblue')\n",
    "plt.bar(index + bar_width, f1_scores_test, bar_width, label='Test', color='lightcoral')\n",
    "\n",
    "plt.xlabel('Class')\n",
    "plt.ylabel('F1 Score')\n",
    "plt.title('F1 Score for Each Class (Train vs Test)')\n",
    "plt.xticks(index + bar_width / 2, classes)\n",
    "plt.ylim(0, 1)\n",
    "plt.legend()\n",
    "\n",
    "plt.show()"
   ]
  },
  {
   "cell_type": "markdown",
   "id": "0e9efec3-890e-4d04-9fdc-216f120c67b7",
   "metadata": {},
   "source": [
    "## SVM with RBF kernel"
   ]
  },
  {
   "cell_type": "code",
   "execution_count": 127,
   "id": "277f4dad-ddda-4c58-a6eb-3772914cdf97",
   "metadata": {},
   "outputs": [
    {
     "data": {
      "text/plain": [
       "SVC(random_state=42)"
      ]
     },
     "execution_count": 127,
     "metadata": {},
     "output_type": "execute_result"
    }
   ],
   "source": [
    "svc_classifier_rbf = SVC(kernel='rbf', random_state=42)\n",
    "svc_classifier_rbf.fit(X_train, y_train)"
   ]
  },
  {
   "cell_type": "code",
   "execution_count": 128,
   "id": "0f1f5ced-632a-44a0-b414-bcee857257b9",
   "metadata": {},
   "outputs": [
    {
     "data": {
      "text/plain": [
       "array(['Negative', 'Hyperthyroid', 'Negative', 'Negative', 'Negative',\n",
       "       'Negative', 'Negative', 'Negative', 'Negative', 'Negative',\n",
       "       'Negative', 'Hyperthyroid', 'Negative', 'Negative', 'Negative',\n",
       "       'Negative', 'Negative', 'Negative', 'Hypothyroid', 'Hypothyroid',\n",
       "       'Hypothyroid', 'Hypothyroid', 'Negative', 'Negative', 'Negative',\n",
       "       'Negative', 'Hypothyroid', 'Hypothyroid', 'Negative', 'Negative',\n",
       "       'Hypothyroid', 'Hyperthyroid', 'Negative', 'Negative', 'Negative',\n",
       "       'Hypothyroid', 'Hypothyroid', 'Negative', 'Negative', 'Negative',\n",
       "       'Negative', 'Hypothyroid', 'Hypothyroid', 'Negative', 'Negative',\n",
       "       'Negative', 'Negative', 'Negative', 'Negative', 'Negative',\n",
       "       'Hypothyroid', 'Negative', 'Hypothyroid', 'Negative', 'Negative',\n",
       "       'Negative', 'Negative', 'Hypothyroid', 'Negative', 'Hypothyroid',\n",
       "       'Negative', 'Hypothyroid', 'Negative', 'Negative', 'Hypothyroid',\n",
       "       'Negative', 'Negative', 'Negative', 'Negative', 'Negative',\n",
       "       'Negative', 'Hypothyroid', 'Hypothyroid', 'Hypothyroid',\n",
       "       'Negative', 'Negative', 'Hypothyroid', 'Negative', 'Negative',\n",
       "       'Hypothyroid', 'Negative', 'Negative', 'Hypothyroid', 'Negative',\n",
       "       'Negative', 'Hypothyroid', 'Negative', 'Hypothyroid', 'Negative',\n",
       "       'Negative', 'Negative', 'Hypothyroid', 'Negative', 'Hyperthyroid',\n",
       "       'Negative', 'Negative', 'Hypothyroid', 'Negative', 'Negative',\n",
       "       'Negative', 'Hypothyroid', 'Negative', 'Negative', 'Negative',\n",
       "       'Negative', 'Negative', 'Negative', 'Negative', 'Negative',\n",
       "       'Hypothyroid', 'Negative', 'Negative', 'Negative', 'Hyperthyroid',\n",
       "       'Negative', 'Negative', 'Hypothyroid', 'Hyperthyroid',\n",
       "       'Hypothyroid', 'Negative', 'Negative', 'Hypothyroid', 'Negative',\n",
       "       'Hyperthyroid', 'Hypothyroid', 'Hyperthyroid', 'Negative',\n",
       "       'Negative', 'Hyperthyroid', 'Negative', 'Negative', 'Negative',\n",
       "       'Negative', 'Negative', 'Negative', 'Negative', 'Hypothyroid',\n",
       "       'Hypothyroid', 'Negative', 'Negative', 'Negative', 'Negative',\n",
       "       'Negative', 'Negative', 'Hypothyroid', 'Hyperthyroid',\n",
       "       'Hyperthyroid', 'Negative', 'Hypothyroid', 'Hyperthyroid',\n",
       "       'Negative', 'Negative', 'Negative', 'Negative', 'Negative',\n",
       "       'Negative', 'Hypothyroid', 'Negative', 'Negative', 'Negative',\n",
       "       'Hypothyroid', 'Negative', 'Negative', 'Negative', 'Hypothyroid',\n",
       "       'Hyperthyroid', 'Negative', 'Hypothyroid', 'Hypothyroid',\n",
       "       'Hypothyroid', 'Hyperthyroid', 'Hyperthyroid', 'Hyperthyroid',\n",
       "       'Negative', 'Hypothyroid', 'Negative', 'Negative', 'Negative',\n",
       "       'Negative', 'Hypothyroid', 'Negative', 'Hyperthyroid', 'Negative',\n",
       "       'Negative', 'Negative', 'Negative', 'Hypothyroid', 'Negative',\n",
       "       'Negative', 'Negative', 'Negative', 'Hypothyroid', 'Negative',\n",
       "       'Hypothyroid', 'Negative', 'Negative', 'Negative', 'Negative',\n",
       "       'Hypothyroid', 'Negative', 'Negative', 'Negative', 'Hypothyroid',\n",
       "       'Hypothyroid', 'Hypothyroid', 'Hyperthyroid', 'Hyperthyroid',\n",
       "       'Negative', 'Negative', 'Negative', 'Hyperthyroid', 'Negative',\n",
       "       'Negative', 'Negative', 'Negative', 'Negative', 'Negative',\n",
       "       'Negative', 'Hyperthyroid', 'Hypothyroid', 'Hypothyroid',\n",
       "       'Hypothyroid', 'Hypothyroid', 'Hyperthyroid', 'Negative',\n",
       "       'Negative', 'Hypothyroid', 'Hypothyroid', 'Negative', 'Negative',\n",
       "       'Hypothyroid', 'Negative', 'Hypothyroid', 'Negative', 'Negative',\n",
       "       'Negative', 'Negative', 'Hypothyroid', 'Negative', 'Hypothyroid',\n",
       "       'Hypothyroid', 'Negative', 'Hyperthyroid', 'Hypothyroid',\n",
       "       'Negative', 'Negative', 'Negative', 'Negative', 'Hypothyroid',\n",
       "       'Negative', 'Hypothyroid', 'Hypothyroid', 'Negative',\n",
       "       'Hypothyroid', 'Negative', 'Negative', 'Negative', 'Negative',\n",
       "       'Negative', 'Negative', 'Negative', 'Negative', 'Hypothyroid',\n",
       "       'Negative', 'Negative', 'Negative', 'Negative', 'Hyperthyroid',\n",
       "       'Hypothyroid', 'Negative', 'Hypothyroid', 'Negative', 'Negative',\n",
       "       'Negative', 'Negative', 'Hyperthyroid', 'Hypothyroid',\n",
       "       'Hypothyroid', 'Negative', 'Hypothyroid', 'Hypothyroid',\n",
       "       'Negative', 'Negative', 'Negative', 'Negative', 'Negative',\n",
       "       'Negative', 'Negative', 'Negative', 'Hypothyroid', 'Hypothyroid',\n",
       "       'Negative', 'Negative', 'Negative', 'Hyperthyroid', 'Negative',\n",
       "       'Negative', 'Negative', 'Hyperthyroid', 'Hypothyroid',\n",
       "       'Hypothyroid', 'Negative', 'Hypothyroid', 'Negative',\n",
       "       'Hypothyroid', 'Negative', 'Negative', 'Negative', 'Hypothyroid',\n",
       "       'Hypothyroid', 'Negative', 'Negative', 'Negative', 'Hyperthyroid',\n",
       "       'Negative', 'Negative', 'Negative', 'Negative', 'Negative',\n",
       "       'Hyperthyroid', 'Negative', 'Negative', 'Hypothyroid',\n",
       "       'Hypothyroid', 'Hypothyroid', 'Negative', 'Negative', 'Negative',\n",
       "       'Negative', 'Negative', 'Negative', 'Hypothyroid', 'Hypothyroid',\n",
       "       'Negative', 'Negative', 'Negative', 'Negative', 'Negative',\n",
       "       'Negative', 'Negative', 'Hypothyroid', 'Negative', 'Hypothyroid',\n",
       "       'Negative', 'Negative', 'Negative', 'Negative', 'Hypothyroid',\n",
       "       'Negative', 'Negative', 'Hypothyroid', 'Negative', 'Hypothyroid',\n",
       "       'Negative', 'Negative', 'Negative', 'Negative', 'Hypothyroid',\n",
       "       'Negative', 'Hypothyroid', 'Negative', 'Hypothyroid', 'Negative',\n",
       "       'Negative', 'Hypothyroid', 'Negative', 'Negative', 'Negative',\n",
       "       'Hypothyroid', 'Hypothyroid', 'Hypothyroid', 'Hypothyroid',\n",
       "       'Negative', 'Negative', 'Negative', 'Negative', 'Hypothyroid',\n",
       "       'Negative', 'Negative', 'Negative', 'Hypothyroid', 'Negative',\n",
       "       'Negative', 'Hypothyroid', 'Hypothyroid', 'Hypothyroid',\n",
       "       'Hypothyroid', 'Hypothyroid', 'Negative', 'Hyperthyroid',\n",
       "       'Negative', 'Negative', 'Negative', 'Negative', 'Negative',\n",
       "       'Hypothyroid', 'Negative', 'Hypothyroid', 'Negative',\n",
       "       'Hypothyroid', 'Negative', 'Negative', 'Hyperthyroid', 'Negative',\n",
       "       'Hypothyroid', 'Negative', 'Negative', 'Negative', 'Hypothyroid',\n",
       "       'Negative', 'Negative', 'Negative', 'Negative', 'Hypothyroid',\n",
       "       'Negative', 'Hyperthyroid', 'Hypothyroid', 'Negative', 'Negative',\n",
       "       'Hypothyroid', 'Negative', 'Negative', 'Negative', 'Hypothyroid',\n",
       "       'Negative', 'Negative', 'Negative', 'Negative', 'Hyperthyroid',\n",
       "       'Negative', 'Negative', 'Hypothyroid', 'Hypothyroid',\n",
       "       'Hypothyroid', 'Hypothyroid', 'Negative', 'Negative',\n",
       "       'Hypothyroid', 'Negative', 'Negative', 'Negative', 'Negative',\n",
       "       'Negative', 'Negative', 'Negative', 'Negative', 'Hypothyroid',\n",
       "       'Negative', 'Negative', 'Hypothyroid', 'Negative', 'Negative',\n",
       "       'Hypothyroid', 'Negative', 'Hypothyroid', 'Negative', 'Negative',\n",
       "       'Negative', 'Negative', 'Hypothyroid', 'Negative', 'Negative',\n",
       "       'Hyperthyroid', 'Hyperthyroid', 'Hypothyroid', 'Negative',\n",
       "       'Negative', 'Hyperthyroid', 'Negative', 'Hyperthyroid', 'Negative',\n",
       "       'Hypothyroid', 'Negative', 'Negative', 'Negative', 'Negative',\n",
       "       'Negative', 'Hypothyroid', 'Negative', 'Negative', 'Hypothyroid',\n",
       "       'Negative', 'Hypothyroid', 'Hypothyroid'], dtype=object)"
      ]
     },
     "execution_count": 128,
     "metadata": {},
     "output_type": "execute_result"
    }
   ],
   "source": [
    "# Predict on test data\n",
    "y_pred = svc_classifier_rbf.predict(X_test)\n",
    "y_pred"
   ]
  },
  {
   "cell_type": "code",
   "execution_count": 129,
   "id": "67fc3d91-8ad3-426f-b528-776b6362ccbb",
   "metadata": {},
   "outputs": [
    {
     "name": "stdout",
     "output_type": "stream",
     "text": [
      "Confusion Matrix: \n",
      " [[ 33   1  14]\n",
      " [  0 128   1]\n",
      " [  4   4 299]]\n"
     ]
    }
   ],
   "source": [
    "conf_matrix_svc_rbf = confusion_matrix(y_test, y_pred)\n",
    "print(\"Confusion Matrix: \\n\", conf_matrix_svc_rbf)"
   ]
  },
  {
   "cell_type": "code",
   "execution_count": 130,
   "id": "74e2be24-0840-4602-93bc-cee1fad6cfe1",
   "metadata": {},
   "outputs": [
    {
     "name": "stdout",
     "output_type": "stream",
     "text": [
      "Classification Report: \n",
      "               precision    recall  f1-score   support\n",
      "\n",
      "Hyperthyroid       0.89      0.69      0.78        48\n",
      " Hypothyroid       0.96      0.99      0.98       129\n",
      "    Negative       0.95      0.97      0.96       307\n",
      "\n",
      "    accuracy                           0.95       484\n",
      "   macro avg       0.94      0.88      0.91       484\n",
      "weighted avg       0.95      0.95      0.95       484\n",
      "\n"
     ]
    }
   ],
   "source": [
    "class_report_svc_rbf = classification_report(y_test, y_pred)\n",
    "print(\"Classification Report: \\n\", class_report_svc_rbf)"
   ]
  },
  {
   "cell_type": "code",
   "execution_count": 131,
   "id": "2dc56524-a3db-40e3-a9eb-1ba8c4b6da6f",
   "metadata": {},
   "outputs": [
    {
     "name": "stdout",
     "output_type": "stream",
     "text": [
      "Classification Report for Train Data: \n",
      "               precision    recall  f1-score   support\n",
      "\n",
      "Hyperthyroid       0.94      0.86      0.90       121\n",
      " Hypothyroid       0.97      0.98      0.97       315\n",
      "    Negative       0.97      0.98      0.97       693\n",
      "\n",
      "    accuracy                           0.96      1129\n",
      "   macro avg       0.96      0.94      0.95      1129\n",
      "weighted avg       0.96      0.96      0.96      1129\n",
      "\n"
     ]
    }
   ],
   "source": [
    "# Predict on train data\n",
    "y_train_pred = svc_classifier_rbf.predict(X_train)\n",
    "\n",
    "class_report_train_svc_rbf = classification_report(y_train, y_train_pred)\n",
    "print(\"Classification Report for Train Data: \\n\", class_report_train_svc_rbf)"
   ]
  },
  {
   "cell_type": "code",
   "execution_count": 132,
   "id": "65f41ac5-b24f-4a1b-96ba-7875da100eda",
   "metadata": {},
   "outputs": [
    {
     "name": "stdout",
     "output_type": "stream",
     "text": [
      "Confusion Matrix for Train Data: \n",
      " [[104   0  17]\n",
      " [  0 309   6]\n",
      " [  7  10 676]]\n"
     ]
    }
   ],
   "source": [
    "confusion_matrix_train_svc_poly = confusion_matrix(y_train, y_train_pred)\n",
    "print(\"Confusion Matrix for Train Data: \\n\", confusion_matrix_train_svc_poly)"
   ]
  },
  {
   "cell_type": "code",
   "execution_count": 133,
   "id": "2bed7517-5687-4885-bc17-e60fcff64f59",
   "metadata": {},
   "outputs": [
    {
     "data": {
      "image/png": "[encoded data removed]",
      "text/plain": [
       "<Figure size 1000x600 with 1 Axes>"
      ]
     },
     "metadata": {},
     "output_type": "display_data"
    }
   ],
   "source": [
    "classes = np.unique(y)\n",
    "bar_width = 0.35\n",
    "index = np.arange(len(classes))\n",
    "\n",
    "plt.figure(figsize=(10, 6))\n",
    "\n",
    "plt.bar(index, f1_scores_train, bar_width, label='Train', color='skyblue')\n",
    "plt.bar(index + bar_width, f1_scores_test, bar_width, label='Test', color='lightcoral')\n",
    "\n",
    "plt.xlabel('Class')\n",
    "plt.ylabel('F1 Score')\n",
    "plt.title('F1 Score for Each Class (Train vs Test)')\n",
    "plt.xticks(index + bar_width / 2, classes)\n",
    "plt.ylim(0, 1)\n",
    "plt.legend()\n",
    "\n",
    "plt.show()"
   ]
  },
  {
   "cell_type": "markdown",
   "id": "557a5f3e-735d-4ab4-a135-39b774e31bce",
   "metadata": {},
   "source": [
    "## 5. XGBoost - RandomizedSearchCV"
   ]
  },
  {
   "cell_type": "code",
   "execution_count": 253,
   "id": "02783853-4385-4d61-b2a4-a24f3dbea135",
   "metadata": {},
   "outputs": [],
   "source": [
    "# Encode target variable\n",
    "label_encoder = LabelEncoder()\n",
    "thyroid_df['target'] = label_encoder.fit_transform(thyroid_df['target'])"
   ]
  },
  {
   "cell_type": "code",
   "execution_count": 254,
   "id": "eff0622d-5baf-419b-a7cb-0770f2c75297",
   "metadata": {},
   "outputs": [
    {
     "data": {
      "text/plain": [
       "target\n",
       "2    1000\n",
       "1     444\n",
       "0     169\n",
       "Name: count, dtype: int64"
      ]
     },
     "execution_count": 254,
     "metadata": {},
     "output_type": "execute_result"
    }
   ],
   "source": [
    "thyroid_df['target'].value_counts()"
   ]
  },
  {
   "cell_type": "code",
   "execution_count": 255,
   "id": "eb5cc7c7-4da4-49c8-a3d3-86495d6bc3d8",
   "metadata": {},
   "outputs": [],
   "source": [
    "y = thyroid_df['target']"
   ]
  },
  {
   "cell_type": "code",
   "execution_count": 256,
   "id": "05927781-0ca9-405d-ba08-2fb5a9761418",
   "metadata": {},
   "outputs": [],
   "source": [
    "X_train, X_test, y_train, y_test = train_test_split(X, y, test_size=0.3, random_state=42)"
   ]
  },
  {
   "cell_type": "code",
   "execution_count": 202,
   "id": "7cd7f052-75ff-4fff-8b55-f18f4f7f11d2",
   "metadata": {},
   "outputs": [],
   "source": [
    "from xgboost import XGBClassifier\n",
    "from sklearn.model_selection import RandomizedSearchCV"
   ]
  },
  {
   "cell_type": "code",
   "execution_count": 203,
   "id": "0aa5fd22-19a9-455d-94ee-e5d49fef5c4e",
   "metadata": {},
   "outputs": [],
   "source": [
    "xgb_model = XGBClassifier(objective = 'multi:softmax', random_state=42)"
   ]
  },
  {
   "cell_type": "code",
   "execution_count": 204,
   "id": "668c4a1c-6d79-4b19-8a3a-991cbc646b1f",
   "metadata": {},
   "outputs": [],
   "source": [
    "param_dist = {\n",
    "    'n_estimators': range(100, 1001, 50),\n",
    "    'learning_rate': [0.1 * i for i in range(1, 17)],\n",
    "    'max_depth': [1, 2],\n",
    "    'gamma': [0.0] + [0.25 * i for i in range(1, 21)]\n",
    "}"
   ]
  },
  {
   "cell_type": "code",
   "execution_count": 205,
   "id": "a5724b6a-a791-4225-8c77-dafff3544ba7",
   "metadata": {},
   "outputs": [],
   "source": [
    "random_search = RandomizedSearchCV(xgb_model, param_distributions=param_dist, n_iter=100, cv=5, n_jobs=-1)"
   ]
  },
  {
   "cell_type": "code",
   "execution_count": 206,
   "id": "790fd356-b084-4226-9c26-df6ca3fd3d97",
   "metadata": {},
   "outputs": [
    {
     "name": "stderr",
     "output_type": "stream",
     "text": [
      "/Users/admin/opt/anaconda3/lib/python3.9/site-packages/pandas/core/computation/expressions.py:21: UserWarning: Pandas requires version '2.8.4' or newer of 'numexpr' (version '2.8.3' currently installed).\n",
      "  from pandas.core.computation.check import NUMEXPR_INSTALLED\n",
      "/Users/admin/opt/anaconda3/lib/python3.9/site-packages/pandas/core/computation/expressions.py:21: UserWarning: Pandas requires version '2.8.4' or newer of 'numexpr' (version '2.8.3' currently installed).\n",
      "  from pandas.core.computation.check import NUMEXPR_INSTALLED\n",
      "/Users/admin/opt/anaconda3/lib/python3.9/site-packages/pandas/core/computation/expressions.py:21: UserWarning: Pandas requires version '2.8.4' or newer of 'numexpr' (version '2.8.3' currently installed).\n",
      "  from pandas.core.computation.check import NUMEXPR_INSTALLED\n",
      "/Users/admin/opt/anaconda3/lib/python3.9/site-packages/pandas/core/computation/expressions.py:21: UserWarning: Pandas requires version '2.8.4' or newer of 'numexpr' (version '2.8.3' currently installed).\n",
      "  from pandas.core.computation.check import NUMEXPR_INSTALLED\n",
      "/Users/admin/opt/anaconda3/lib/python3.9/site-packages/pandas/core/computation/expressions.py:21: UserWarning: Pandas requires version '2.8.4' or newer of 'numexpr' (version '2.8.3' currently installed).\n",
      "  from pandas.core.computation.check import NUMEXPR_INSTALLED\n",
      "/Users/admin/opt/anaconda3/lib/python3.9/site-packages/pandas/core/arrays/masked.py:60: UserWarning: Pandas requires version '1.3.6' or newer of 'bottleneck' (version '1.3.5' currently installed).\n",
      "  from pandas.core import (\n",
      "/Users/admin/opt/anaconda3/lib/python3.9/site-packages/pandas/core/arrays/masked.py:60: UserWarning: Pandas requires version '1.3.6' or newer of 'bottleneck' (version '1.3.5' currently installed).\n",
      "  from pandas.core import (\n",
      "/Users/admin/opt/anaconda3/lib/python3.9/site-packages/pandas/core/arrays/masked.py:60: UserWarning: Pandas requires version '1.3.6' or newer of 'bottleneck' (version '1.3.5' currently installed).\n",
      "  from pandas.core import (\n",
      "/Users/admin/opt/anaconda3/lib/python3.9/site-packages/pandas/core/arrays/masked.py:60: UserWarning: Pandas requires version '1.3.6' or newer of 'bottleneck' (version '1.3.5' currently installed).\n",
      "  from pandas.core import (\n",
      "/Users/admin/opt/anaconda3/lib/python3.9/site-packages/pandas/core/computation/expressions.py:21: UserWarning: Pandas requires version '2.8.4' or newer of 'numexpr' (version '2.8.3' currently installed).\n",
      "  from pandas.core.computation.check import NUMEXPR_INSTALLED\n",
      "/Users/admin/opt/anaconda3/lib/python3.9/site-packages/pandas/core/computation/expressions.py:21: UserWarning: Pandas requires version '2.8.4' or newer of 'numexpr' (version '2.8.3' currently installed).\n",
      "  from pandas.core.computation.check import NUMEXPR_INSTALLED\n",
      "/Users/admin/opt/anaconda3/lib/python3.9/site-packages/pandas/core/arrays/masked.py:60: UserWarning: Pandas requires version '1.3.6' or newer of 'bottleneck' (version '1.3.5' currently installed).\n",
      "  from pandas.core import (\n",
      "/Users/admin/opt/anaconda3/lib/python3.9/site-packages/pandas/core/computation/expressions.py:21: UserWarning: Pandas requires version '2.8.4' or newer of 'numexpr' (version '2.8.3' currently installed).\n",
      "  from pandas.core.computation.check import NUMEXPR_INSTALLED\n",
      "/Users/admin/opt/anaconda3/lib/python3.9/site-packages/pandas/core/arrays/masked.py:60: UserWarning: Pandas requires version '1.3.6' or newer of 'bottleneck' (version '1.3.5' currently installed).\n",
      "  from pandas.core import (\n",
      "/Users/admin/opt/anaconda3/lib/python3.9/site-packages/pandas/core/arrays/masked.py:60: UserWarning: Pandas requires version '1.3.6' or newer of 'bottleneck' (version '1.3.5' currently installed).\n",
      "  from pandas.core import (\n",
      "/Users/admin/opt/anaconda3/lib/python3.9/site-packages/pandas/core/computation/expressions.py:21: UserWarning: Pandas requires version '2.8.4' or newer of 'numexpr' (version '2.8.3' currently installed).\n",
      "  from pandas.core.computation.check import NUMEXPR_INSTALLED\n",
      "/Users/admin/opt/anaconda3/lib/python3.9/site-packages/pandas/core/arrays/masked.py:60: UserWarning: Pandas requires version '1.3.6' or newer of 'bottleneck' (version '1.3.5' currently installed).\n",
      "  from pandas.core import (\n",
      "/Users/admin/opt/anaconda3/lib/python3.9/site-packages/pandas/core/arrays/masked.py:60: UserWarning: Pandas requires version '1.3.6' or newer of 'bottleneck' (version '1.3.5' currently installed).\n",
      "  from pandas.core import (\n",
      "/Users/admin/opt/anaconda3/lib/python3.9/site-packages/pandas/core/computation/expressions.py:21: UserWarning: Pandas requires version '2.8.4' or newer of 'numexpr' (version '2.8.3' currently installed).\n",
      "  from pandas.core.computation.check import NUMEXPR_INSTALLED\n",
      "/Users/admin/opt/anaconda3/lib/python3.9/site-packages/pandas/core/arrays/masked.py:60: UserWarning: Pandas requires version '1.3.6' or newer of 'bottleneck' (version '1.3.5' currently installed).\n",
      "  from pandas.core import (\n"
     ]
    },
    {
     "data": {
      "text/plain": [
       "RandomizedSearchCV(cv=5,\n",
       "                   estimator=XGBClassifier(base_score=None, booster=None,\n",
       "                                           callbacks=None,\n",
       "                                           colsample_bylevel=None,\n",
       "                                           colsample_bynode=None,\n",
       "                                           colsample_bytree=None, device=None,\n",
       "                                           early_stopping_rounds=None,\n",
       "                                           enable_categorical=False,\n",
       "                                           eval_metric=None, feature_types=None,\n",
       "                                           gamma=None, grow_policy=None,\n",
       "                                           importance_type=None,\n",
       "                                           interaction_constraints=None,\n",
       "                                           learning_rate...\n",
       "                   n_iter=100, n_jobs=-1,\n",
       "                   param_distributions={'gamma': [0.0, 0.25, 0.5, 0.75, 1.0,\n",
       "                                                  1.25, 1.5, 1.75, 2.0, 2.25,\n",
       "                                                  2.5, 2.75, 3.0, 3.25, 3.5,\n",
       "                                                  3.75, 4.0, 4.25, 4.5, 4.75,\n",
       "                                                  5.0],\n",
       "                                        'learning_rate': [0.1, 0.2,\n",
       "                                                          0.30000000000000004,\n",
       "                                                          0.4, 0.5,\n",
       "                                                          0.6000000000000001,\n",
       "                                                          0.7000000000000001,\n",
       "                                                          0.8, 0.9, 1.0, 1.1,\n",
       "                                                          1.2000000000000002,\n",
       "                                                          1.3,\n",
       "                                                          1.4000000000000001,\n",
       "                                                          1.5, 1.6],\n",
       "                                        'max_depth': [1, 2],\n",
       "                                        'n_estimators': range(100, 1001, 50)})"
      ]
     },
     "execution_count": 206,
     "metadata": {},
     "output_type": "execute_result"
    }
   ],
   "source": [
    "random_search.fit(X_train, y_train)"
   ]
  },
  {
   "cell_type": "code",
   "execution_count": 207,
   "id": "f9c31c60-a09f-4cfd-8a61-a6de30cd70ca",
   "metadata": {},
   "outputs": [
    {
     "data": {
      "text/plain": [
       "{'n_estimators': 800, 'max_depth': 2, 'learning_rate': 1.1, 'gamma': 0.5}"
      ]
     },
     "execution_count": 207,
     "metadata": {},
     "output_type": "execute_result"
    }
   ],
   "source": [
    "random_search.best_params_"
   ]
  },
  {
   "cell_type": "code",
   "execution_count": 208,
   "id": "9dbd2abf-bdd2-4b19-843c-fee849b5ca75",
   "metadata": {},
   "outputs": [],
   "source": [
    "best_model_xgb = random_search.best_estimator_"
   ]
  },
  {
   "cell_type": "code",
   "execution_count": 209,
   "id": "15a1e61f-f8fb-497e-8ed6-88494e3c2c08",
   "metadata": {},
   "outputs": [],
   "source": [
    "y_pred_xgb = best_model_xgb.predict(X_test)\n",
    "y_pred_proba_xgb = best_model_xgb.predict_proba(X_test)"
   ]
  },
  {
   "cell_type": "code",
   "execution_count": 210,
   "id": "8b2e46c4-e0dd-408d-8839-389015ec0e13",
   "metadata": {},
   "outputs": [
    {
     "name": "stdout",
     "output_type": "stream",
     "text": [
      "Confusion Matrix for XGBoost:\n",
      "[[ 39   1   8]\n",
      " [  0 128   1]\n",
      " [  3   3 301]]\n"
     ]
    }
   ],
   "source": [
    "conf_matrix_xgb = confusion_matrix(y_test, y_pred_xgb)\n",
    "print(\"Confusion Matrix for XGBoost:\")\n",
    "print(conf_matrix_xgb)"
   ]
  },
  {
   "cell_type": "code",
   "execution_count": 211,
   "id": "03a42869-e6ce-49ea-917c-d04407012417",
   "metadata": {},
   "outputs": [
    {
     "name": "stdout",
     "output_type": "stream",
     "text": [
      "Classification Report for XGBoost:\n",
      "              precision    recall  f1-score   support\n",
      "\n",
      "           0       0.93      0.81      0.87        48\n",
      "           1       0.97      0.99      0.98       129\n",
      "           2       0.97      0.98      0.98       307\n",
      "\n",
      "    accuracy                           0.97       484\n",
      "   macro avg       0.96      0.93      0.94       484\n",
      "weighted avg       0.97      0.97      0.97       484\n",
      "\n"
     ]
    }
   ],
   "source": [
    "class_report_xgb = classification_report(y_test, y_pred_xgb)\n",
    "print(\"Classification Report for XGBoost:\")\n",
    "print(class_report_xgb)"
   ]
  },
  {
   "cell_type": "code",
   "execution_count": 212,
   "id": "91981c3d-a316-427f-bb1d-8928d9ec8772",
   "metadata": {},
   "outputs": [
    {
     "name": "stdout",
     "output_type": "stream",
     "text": [
      "Classification Report for Train Data for XGBoost:\n",
      "              precision    recall  f1-score   support\n",
      "\n",
      "           0       0.96      1.00      0.98       121\n",
      "           1       0.99      1.00      1.00       315\n",
      "           2       1.00      0.99      0.99       693\n",
      "\n",
      "    accuracy                           0.99      1129\n",
      "   macro avg       0.98      1.00      0.99      1129\n",
      "weighted avg       0.99      0.99      0.99      1129\n",
      "\n"
     ]
    }
   ],
   "source": [
    "y_train_pred_xgb = best_model_xgb.predict(X_train)\n",
    "\n",
    "# Calculate classification report for train data\n",
    "train_class_report_xgb = classification_report(y_train, y_train_pred_xgb)\n",
    "print(\"Classification Report for Train Data for XGBoost:\")\n",
    "print(train_class_report_xgb)"
   ]
  },
  {
   "cell_type": "code",
   "execution_count": 213,
   "id": "2dc9ccb8-622c-4bac-a3c0-1f2cea827ab4",
   "metadata": {},
   "outputs": [
    {
     "name": "stdout",
     "output_type": "stream",
     "text": [
      "Top 5 Features for XGBoost:\n",
      "TSH\n",
      "FTI\n",
      "T3\n",
      "TT4\n",
      "tumor\n"
     ]
    }
   ],
   "source": [
    "# Get feature importances from the best model\n",
    "feature_importances_xgb = best_model_xgb.feature_importances_\n",
    "\n",
    "# Get indices of top 5 features\n",
    "top5_indices_xgb = feature_importances_xgb.argsort()[-5:][::-1]\n",
    "\n",
    "# Get top 5 feature names\n",
    "top5_features_xgb = X_train.columns[top5_indices_xgb]\n",
    "\n",
    "print(\"Top 5 Features for XGBoost:\")\n",
    "for feature in top5_features_xgb:\n",
    "    print(feature)"
   ]
  },
  {
   "cell_type": "markdown",
   "id": "a5d98da1-75d1-4a6f-ba73-589878f79a0a",
   "metadata": {},
   "source": [
    "## Neural Network"
   ]
  },
  {
   "cell_type": "code",
   "execution_count": null,
   "id": "8e56bff6-bf6d-4560-b61b-d1df2fcab3e4",
   "metadata": {},
   "outputs": [],
   "source": [
    "# from tensorflow.keras.models import Sequential\n",
    "# from tensorflow.keras.layers import Dense, Dropout\n",
    "\n",
    "# # Define the neural network model\n",
    "# model = Sequential()\n",
    "# model.add(Dense(64, input_shape=(X_train.shape[1],), activation='relu'))\n",
    "# model.add(Dropout(0.5))\n",
    "# model.add(Dense(64, activation='relu'))\n",
    "# model.add(Dropout(0.5))\n",
    "# model.add(Dense(y_train.shape[1], activation='softmax'))\n",
    "\n",
    "# # Compile the model\n",
    "# model.compile(optimizer='adam', loss='categorical_crossentropy', metrics=['accuracy'])"
   ]
  },
  {
   "cell_type": "code",
   "execution_count": null,
   "id": "e8af4b65-0a2e-4d3c-b50e-e8db061c3737",
   "metadata": {},
   "outputs": [],
   "source": []
  }
 ],
 "metadata": {
  "kernelspec": {
   "display_name": "Python 3 (ipykernel)",
   "language": "python",
   "name": "python3"
  },
  "language_info": {
   "codemirror_mode": {
    "name": "ipython",
    "version": 3
   },
   "file_extension": ".py",
   "mimetype": "text/x-python",
   "name": "python",
   "nbconvert_exporter": "python",
   "pygments_lexer": "ipython3",
   "version": "3.9.13"
  }
 },
 "nbformat": 4,
 "nbformat_minor": 5
}
