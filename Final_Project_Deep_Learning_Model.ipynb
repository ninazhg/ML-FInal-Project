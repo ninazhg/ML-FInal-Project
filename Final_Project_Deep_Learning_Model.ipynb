{
  "cells": [
    {
      "cell_type": "code",
      "source": [
        "# check current path\n",
        "import os\n",
        "print(os.getcwd())\n",
        "\n",
        "# Load the Drive helper and mount\n",
        "from google.colab import drive\n",
        "# This will prompt for authorization.\n",
        "drive.mount('/content/drive/')\n",
        "\n",
        "path_gdrive = '/content/drive/MyDrive'\n",
        "os.chdir(path_gdrive)\n",
        "print(os.getcwd())"
      ],
      "metadata": {
        "colab": {
          "base_uri": "https://localhost:8080/"
        },
        "id": "rwMnaMz_3vDm",
        "outputId": "b31d5c1e-959a-4bc5-e9b6-6cfb8d0fa29d"
      },
      "id": "rwMnaMz_3vDm",
      "execution_count": 1,
      "outputs": [
        {
          "output_type": "stream",
          "name": "stdout",
          "text": [
            "/content\n",
            "Drive already mounted at /content/drive/; to attempt to forcibly remount, call drive.mount(\"/content/drive/\", force_remount=True).\n",
            "/content/drive/MyDrive\n"
          ]
        }
      ]
    },
    {
      "cell_type": "code",
      "execution_count": 2,
      "id": "0d2fd751-85b8-4c4a-b0bd-ecd864f59678",
      "metadata": {
        "id": "0d2fd751-85b8-4c4a-b0bd-ecd864f59678"
      },
      "outputs": [],
      "source": [
        "import numpy as np\n",
        "import pandas as pd\n",
        "import sys\n",
        "import matplotlib.pyplot as plt"
      ]
    },
    {
      "cell_type": "code",
      "execution_count": 3,
      "id": "12c54366-bfd5-4439-8ef0-95b6b1191739",
      "metadata": {
        "id": "12c54366-bfd5-4439-8ef0-95b6b1191739"
      },
      "outputs": [],
      "source": [
        "pd.set_option('display.max_columns', None)"
      ]
    },
    {
      "cell_type": "code",
      "execution_count": 4,
      "id": "5f21b09c-a740-4f5c-bead-1df605c44cb2",
      "metadata": {
        "id": "5f21b09c-a740-4f5c-bead-1df605c44cb2"
      },
      "outputs": [],
      "source": [
        "thyroid_df = pd.read_csv('thyroidDF_cleaned.csv')"
      ]
    },
    {
      "cell_type": "code",
      "execution_count": 5,
      "id": "02783853-4385-4d61-b2a4-a24f3dbea135",
      "metadata": {
        "id": "02783853-4385-4d61-b2a4-a24f3dbea135"
      },
      "outputs": [],
      "source": [
        "# Encode target variable\n",
        "from sklearn.preprocessing import LabelEncoder\n",
        "\n",
        "label_encoder = LabelEncoder()\n",
        "thyroid_df['target'] = label_encoder.fit_transform(thyroid_df['target'])"
      ]
    },
    {
      "cell_type": "code",
      "execution_count": 6,
      "id": "eff0622d-5baf-419b-a7cb-0770f2c75297",
      "metadata": {
        "colab": {
          "base_uri": "https://localhost:8080/"
        },
        "id": "eff0622d-5baf-419b-a7cb-0770f2c75297",
        "outputId": "55215592-66c9-4248-e937-a95ef0121826"
      },
      "outputs": [
        {
          "output_type": "execute_result",
          "data": {
            "text/plain": [
              "target\n",
              "2    1000\n",
              "1     444\n",
              "0     169\n",
              "Name: count, dtype: int64"
            ]
          },
          "metadata": {},
          "execution_count": 6
        }
      ],
      "source": [
        "thyroid_df['target'].value_counts()"
      ]
    },
    {
      "cell_type": "code",
      "execution_count": 7,
      "id": "eb5cc7c7-4da4-49c8-a3d3-86495d6bc3d8",
      "metadata": {
        "id": "eb5cc7c7-4da4-49c8-a3d3-86495d6bc3d8"
      },
      "outputs": [],
      "source": [
        "X = thyroid_df.drop(columns=['target'])\n",
        "y = thyroid_df['target']"
      ]
    },
    {
      "cell_type": "markdown",
      "id": "44c948e0-367f-461f-98a5-c3e3660108ab",
      "metadata": {
        "id": "44c948e0-367f-461f-98a5-c3e3660108ab"
      },
      "source": [
        "## Neural Network"
      ]
    },
    {
      "cell_type": "code",
      "execution_count": 8,
      "id": "05927781-0ca9-405d-ba08-2fb5a9761418",
      "metadata": {
        "id": "05927781-0ca9-405d-ba08-2fb5a9761418"
      },
      "outputs": [],
      "source": [
        "from sklearn.model_selection import train_test_split\n",
        "from tensorflow.keras.utils import to_categorical"
      ]
    },
    {
      "cell_type": "code",
      "source": [
        "y = to_categorical(y)"
      ],
      "metadata": {
        "id": "a-VO1d7B-DSD"
      },
      "id": "a-VO1d7B-DSD",
      "execution_count": 9,
      "outputs": []
    },
    {
      "cell_type": "code",
      "source": [
        "X_train, X_test, y_train, y_test = train_test_split(X, y, test_size=0.3, random_state=42)"
      ],
      "metadata": {
        "id": "-dAndHG_85Ln"
      },
      "id": "-dAndHG_85Ln",
      "execution_count": 10,
      "outputs": []
    },
    {
      "cell_type": "code",
      "source": [
        "y_train.shape"
      ],
      "metadata": {
        "colab": {
          "base_uri": "https://localhost:8080/"
        },
        "id": "fANyzHyACNa9",
        "outputId": "aacd4686-dd17-482d-937e-5d2a245bc28a"
      },
      "id": "fANyzHyACNa9",
      "execution_count": 11,
      "outputs": [
        {
          "output_type": "execute_result",
          "data": {
            "text/plain": [
              "(1129, 3)"
            ]
          },
          "metadata": {},
          "execution_count": 11
        }
      ]
    },
    {
      "cell_type": "code",
      "source": [
        "X_train.shape[1]"
      ],
      "metadata": {
        "colab": {
          "base_uri": "https://localhost:8080/"
        },
        "id": "U0fJZy9QCb2e",
        "outputId": "bef4f53e-5708-4cb7-b5ef-865dd0cf8bf7"
      },
      "id": "U0fJZy9QCb2e",
      "execution_count": 12,
      "outputs": [
        {
          "output_type": "execute_result",
          "data": {
            "text/plain": [
              "20"
            ]
          },
          "metadata": {},
          "execution_count": 12
        }
      ]
    },
    {
      "cell_type": "code",
      "source": [
        "X_train.shape"
      ],
      "metadata": {
        "colab": {
          "base_uri": "https://localhost:8080/"
        },
        "id": "NFadkWHLGIFn",
        "outputId": "a79634f0-dd67-4e51-9e61-f2acd1d14b3f"
      },
      "id": "NFadkWHLGIFn",
      "execution_count": 13,
      "outputs": [
        {
          "output_type": "execute_result",
          "data": {
            "text/plain": [
              "(1129, 20)"
            ]
          },
          "metadata": {},
          "execution_count": 13
        }
      ]
    },
    {
      "cell_type": "code",
      "source": [
        "y_test.shape"
      ],
      "metadata": {
        "colab": {
          "base_uri": "https://localhost:8080/"
        },
        "id": "7Kb7UYPjGMGN",
        "outputId": "7d9091c8-d006-4d63-f6da-99d7ffbc8fa0"
      },
      "id": "7Kb7UYPjGMGN",
      "execution_count": 14,
      "outputs": [
        {
          "output_type": "execute_result",
          "data": {
            "text/plain": [
              "(484, 3)"
            ]
          },
          "metadata": {},
          "execution_count": 14
        }
      ]
    },
    {
      "cell_type": "code",
      "execution_count": 15,
      "id": "41342905-292a-4baf-90d3-e656a110c8ae",
      "metadata": {
        "id": "41342905-292a-4baf-90d3-e656a110c8ae"
      },
      "outputs": [],
      "source": [
        "from tensorflow.keras.models import Sequential\n",
        "from tensorflow.keras.layers import Dense, Dropout\n",
        "\n",
        "# Define the neural network model\n",
        "model = Sequential()\n",
        "model.add(Dense(128, input_shape=(X_train.shape[1],), activation='relu'))\n",
        "model.add(Dropout(0.5))\n",
        "model.add(Dense(64, activation='relu'))\n",
        "model.add(Dropout(0.5))\n",
        "model.add(Dense(units=3, activation='softmax'))\n",
        "\n",
        "# Compile the model\n",
        "model.compile(optimizer='adam', loss='categorical_crossentropy', metrics=['accuracy'])\n"
      ]
    },
    {
      "cell_type": "code",
      "source": [
        "# Print model summary\n",
        "model.summary()"
      ],
      "metadata": {
        "colab": {
          "base_uri": "https://localhost:8080/"
        },
        "id": "atQdPUo1m8xY",
        "outputId": "7a6380e7-6154-4a0f-bdab-633ab7dd5b8c"
      },
      "id": "atQdPUo1m8xY",
      "execution_count": 16,
      "outputs": [
        {
          "output_type": "stream",
          "name": "stdout",
          "text": [
            "Model: \"sequential\"\n",
            "_________________________________________________________________\n",
            " Layer (type)                Output Shape              Param #   \n",
            "=================================================================\n",
            " dense (Dense)               (None, 128)               2688      \n",
            "                                                                 \n",
            " dropout (Dropout)           (None, 128)               0         \n",
            "                                                                 \n",
            " dense_1 (Dense)             (None, 64)                8256      \n",
            "                                                                 \n",
            " dropout_1 (Dropout)         (None, 64)                0         \n",
            "                                                                 \n",
            " dense_2 (Dense)             (None, 3)                 195       \n",
            "                                                                 \n",
            "=================================================================\n",
            "Total params: 11139 (43.51 KB)\n",
            "Trainable params: 11139 (43.51 KB)\n",
            "Non-trainable params: 0 (0.00 Byte)\n",
            "_________________________________________________________________\n"
          ]
        }
      ]
    },
    {
      "cell_type": "code",
      "source": [
        "history = model.fit(X_train, y_train, epochs=20, batch_size=32, validation_data=(X_test, y_test))"
      ],
      "metadata": {
        "colab": {
          "base_uri": "https://localhost:8080/"
        },
        "id": "qp0RAHzm_UWq",
        "outputId": "81b1b256-5442-428b-b295-bf6918e35d2d"
      },
      "id": "qp0RAHzm_UWq",
      "execution_count": 17,
      "outputs": [
        {
          "output_type": "stream",
          "name": "stdout",
          "text": [
            "Epoch 1/20\n",
            "36/36 [==============================] - 3s 26ms/step - loss: 18.2365 - accuracy: 0.5545 - val_loss: 1.1184 - val_accuracy: 0.8409\n",
            "Epoch 2/20\n",
            "36/36 [==============================] - 0s 11ms/step - loss: 7.6230 - accuracy: 0.6678 - val_loss: 1.4765 - val_accuracy: 0.8161\n",
            "Epoch 3/20\n",
            "36/36 [==============================] - 0s 10ms/step - loss: 5.3159 - accuracy: 0.6900 - val_loss: 1.2057 - val_accuracy: 0.8079\n",
            "Epoch 4/20\n",
            "36/36 [==============================] - 0s 11ms/step - loss: 3.2814 - accuracy: 0.7449 - val_loss: 1.0325 - val_accuracy: 0.7934\n",
            "Epoch 5/20\n",
            "36/36 [==============================] - 0s 12ms/step - loss: 2.7428 - accuracy: 0.7378 - val_loss: 0.5500 - val_accuracy: 0.8554\n",
            "Epoch 6/20\n",
            "36/36 [==============================] - 0s 13ms/step - loss: 2.1609 - accuracy: 0.7644 - val_loss: 0.4460 - val_accuracy: 0.8554\n",
            "Epoch 7/20\n",
            "36/36 [==============================] - 1s 14ms/step - loss: 1.4417 - accuracy: 0.8034 - val_loss: 0.5076 - val_accuracy: 0.8285\n",
            "Epoch 8/20\n",
            "36/36 [==============================] - 0s 8ms/step - loss: 1.5900 - accuracy: 0.7635 - val_loss: 0.4030 - val_accuracy: 0.8698\n",
            "Epoch 9/20\n",
            "36/36 [==============================] - 0s 8ms/step - loss: 1.0898 - accuracy: 0.7998 - val_loss: 0.4126 - val_accuracy: 0.8719\n",
            "Epoch 10/20\n",
            "36/36 [==============================] - 0s 7ms/step - loss: 1.0918 - accuracy: 0.7724 - val_loss: 0.4678 - val_accuracy: 0.8533\n",
            "Epoch 11/20\n",
            "36/36 [==============================] - 0s 13ms/step - loss: 0.8199 - accuracy: 0.8016 - val_loss: 0.4617 - val_accuracy: 0.8616\n",
            "Epoch 12/20\n",
            "36/36 [==============================] - 0s 12ms/step - loss: 0.7815 - accuracy: 0.7919 - val_loss: 0.4356 - val_accuracy: 0.8988\n",
            "Epoch 13/20\n",
            "36/36 [==============================] - 0s 13ms/step - loss: 0.7296 - accuracy: 0.8016 - val_loss: 0.4664 - val_accuracy: 0.8988\n",
            "Epoch 14/20\n",
            "36/36 [==============================] - 0s 13ms/step - loss: 0.6872 - accuracy: 0.8113 - val_loss: 0.4629 - val_accuracy: 0.9008\n",
            "Epoch 15/20\n",
            "36/36 [==============================] - 0s 10ms/step - loss: 0.5972 - accuracy: 0.8211 - val_loss: 0.4672 - val_accuracy: 0.8719\n",
            "Epoch 16/20\n",
            "36/36 [==============================] - 0s 13ms/step - loss: 0.6943 - accuracy: 0.8264 - val_loss: 0.4688 - val_accuracy: 0.9029\n",
            "Epoch 17/20\n",
            "36/36 [==============================] - 1s 18ms/step - loss: 0.5649 - accuracy: 0.8246 - val_loss: 0.4714 - val_accuracy: 0.8884\n",
            "Epoch 18/20\n",
            "36/36 [==============================] - 1s 16ms/step - loss: 0.5282 - accuracy: 0.8370 - val_loss: 0.4441 - val_accuracy: 0.8905\n",
            "Epoch 19/20\n",
            "36/36 [==============================] - 0s 12ms/step - loss: 0.4818 - accuracy: 0.8388 - val_loss: 0.4407 - val_accuracy: 0.8967\n",
            "Epoch 20/20\n",
            "36/36 [==============================] - 0s 12ms/step - loss: 0.4149 - accuracy: 0.8556 - val_loss: 0.4239 - val_accuracy: 0.9008\n"
          ]
        }
      ]
    },
    {
      "cell_type": "code",
      "source": [
        "predictions = model.predict(X_test)\n",
        "predicted_labels = np.argmax(predictions, axis=1)\n",
        "true_labels = np.argmax(y_test, axis=1)"
      ],
      "metadata": {
        "colab": {
          "base_uri": "https://localhost:8080/"
        },
        "id": "kzmWIx7jnZth",
        "outputId": "e55229a2-e16b-4fbb-b564-8f04c6bed9e3"
      },
      "id": "kzmWIx7jnZth",
      "execution_count": 19,
      "outputs": [
        {
          "output_type": "stream",
          "name": "stdout",
          "text": [
            "16/16 [==============================] - 0s 4ms/step\n"
          ]
        }
      ]
    },
    {
      "cell_type": "code",
      "source": [
        "from sklearn.metrics import confusion_matrix, classification_report"
      ],
      "metadata": {
        "id": "_kmzu8McoR5E"
      },
      "id": "_kmzu8McoR5E",
      "execution_count": 20,
      "outputs": []
    },
    {
      "cell_type": "code",
      "source": [
        "conf_matrix = confusion_matrix(true_labels, predicted_labels)\n",
        "print(\"Confusion Matrix:\")\n",
        "print(conf_matrix)"
      ],
      "metadata": {
        "colab": {
          "base_uri": "https://localhost:8080/"
        },
        "id": "ex8b1cPGoVfu",
        "outputId": "16e1f5f2-c1bd-4b8c-a668-3438561b4b5e"
      },
      "id": "ex8b1cPGoVfu",
      "execution_count": 21,
      "outputs": [
        {
          "output_type": "stream",
          "name": "stdout",
          "text": [
            "Confusion Matrix:\n",
            "[[ 22   0  26]\n",
            " [  0 118  11]\n",
            " [  2   9 296]]\n"
          ]
        }
      ]
    },
    {
      "cell_type": "code",
      "source": [
        "class_report = classification_report(true_labels, predicted_labels)\n",
        "print(\"Classification Report:\")\n",
        "print(class_report)"
      ],
      "metadata": {
        "colab": {
          "base_uri": "https://localhost:8080/"
        },
        "id": "xudFFAYGn8md",
        "outputId": "089029c8-4527-4262-f8fd-86e4a63a9f07"
      },
      "id": "xudFFAYGn8md",
      "execution_count": 22,
      "outputs": [
        {
          "output_type": "stream",
          "name": "stdout",
          "text": [
            "Classification Report:\n",
            "              precision    recall  f1-score   support\n",
            "\n",
            "           0       0.92      0.46      0.61        48\n",
            "           1       0.93      0.91      0.92       129\n",
            "           2       0.89      0.96      0.92       307\n",
            "\n",
            "    accuracy                           0.90       484\n",
            "   macro avg       0.91      0.78      0.82       484\n",
            "weighted avg       0.90      0.90      0.89       484\n",
            "\n"
          ]
        }
      ]
    },
    {
      "cell_type": "code",
      "source": [
        "loss, accuracy = model.evaluate(X_test, y_test)\n"
      ],
      "metadata": {
        "colab": {
          "base_uri": "https://localhost:8080/"
        },
        "id": "_Xx93n6H_z_S",
        "outputId": "c4af3ef0-4f12-47f5-cb68-56bbd48a831c"
      },
      "id": "_Xx93n6H_z_S",
      "execution_count": 23,
      "outputs": [
        {
          "output_type": "stream",
          "name": "stdout",
          "text": [
            "16/16 [==============================] - 0s 5ms/step - loss: 0.4239 - accuracy: 0.9008\n"
          ]
        }
      ]
    },
    {
      "cell_type": "code",
      "source": [
        "print(f\"Test Loss: {loss}\")\n",
        "print(f\"Test Accuracy: {accuracy}\")"
      ],
      "metadata": {
        "colab": {
          "base_uri": "https://localhost:8080/"
        },
        "id": "xI8NgK7NALUl",
        "outputId": "d6254b22-a908-4c53-a9c9-dde0d9803db7"
      },
      "id": "xI8NgK7NALUl",
      "execution_count": 24,
      "outputs": [
        {
          "output_type": "stream",
          "name": "stdout",
          "text": [
            "Test Loss: 0.42385536432266235\n",
            "Test Accuracy: 0.9008264541625977\n"
          ]
        }
      ]
    },
    {
      "cell_type": "code",
      "source": [
        "#predict on train data\n",
        "predictions_train = model.predict(X_train)\n",
        "predicted_labels_train = np.argmax(predictions_train, axis=1)\n",
        "true_labels_train = np.argmax(y_train, axis=1)"
      ],
      "metadata": {
        "colab": {
          "base_uri": "https://localhost:8080/"
        },
        "id": "SSDanXzvpHKO",
        "outputId": "785a4f01-28ff-4f30-ab07-00d54e984119"
      },
      "id": "SSDanXzvpHKO",
      "execution_count": 25,
      "outputs": [
        {
          "output_type": "stream",
          "name": "stdout",
          "text": [
            "36/36 [==============================] - 0s 5ms/step\n"
          ]
        }
      ]
    },
    {
      "cell_type": "code",
      "source": [
        "conf_matrix = confusion_matrix(true_labels_train, predicted_labels_train)\n",
        "print(\"Confusion Matrix for train data:\")\n",
        "print(conf_matrix)"
      ],
      "metadata": {
        "colab": {
          "base_uri": "https://localhost:8080/"
        },
        "id": "QmoDLKJTpHGQ",
        "outputId": "608eca62-6b16-40b3-8c8d-65645e98bee0"
      },
      "id": "QmoDLKJTpHGQ",
      "execution_count": 26,
      "outputs": [
        {
          "output_type": "stream",
          "name": "stdout",
          "text": [
            "Confusion Matrix for train data:\n",
            "[[ 71   0  50]\n",
            " [  0 297  18]\n",
            " [  3  23 667]]\n"
          ]
        }
      ]
    },
    {
      "cell_type": "code",
      "source": [
        "class_report = classification_report(true_labels_train, predicted_labels_train)\n",
        "print(\"Classification Report for train data:\")\n",
        "print(class_report)"
      ],
      "metadata": {
        "colab": {
          "base_uri": "https://localhost:8080/"
        },
        "id": "FRWqTAkNpG_k",
        "outputId": "381a2758-a673-4e03-d2f9-6ca518843d55"
      },
      "id": "FRWqTAkNpG_k",
      "execution_count": 27,
      "outputs": [
        {
          "output_type": "stream",
          "name": "stdout",
          "text": [
            "Classification Report for train data:\n",
            "              precision    recall  f1-score   support\n",
            "\n",
            "           0       0.96      0.59      0.73       121\n",
            "           1       0.93      0.94      0.94       315\n",
            "           2       0.91      0.96      0.93       693\n",
            "\n",
            "    accuracy                           0.92      1129\n",
            "   macro avg       0.93      0.83      0.87      1129\n",
            "weighted avg       0.92      0.92      0.91      1129\n",
            "\n"
          ]
        }
      ]
    },
    {
      "cell_type": "code",
      "source": [
        "#training history\n",
        "\n",
        "fig, ax = plt.subplots(nrows=2, ncols=1, figsize=(10, 10))\n",
        "ax[0].plot(history.history['loss'], label=\"Training loss\")\n",
        "ax[0].plot(history.history['val_loss'], label=\"Validation loss\",)\n",
        "legend = ax[0].legend(loc='best', fontsize=10)\n",
        "\n",
        "ax[1].plot(history.history['accuracy'], label=\"Training accuracy\")\n",
        "ax[1].plot(history.history['val_accuracy'], label=\"Validation accuracy\")\n",
        "legend = ax[1].legend(loc='best', fontsize=10)"
      ],
      "metadata": {
        "colab": {
          "base_uri": "https://localhost:8080/",
          "height": 830
        },
        "id": "NQH_NNC_DKCB",
        "outputId": "fa6c2ed3-4b9a-4d96-e662-548814429c26"
      },
      "id": "NQH_NNC_DKCB",
      "execution_count": 28,
      "outputs": [
        {
          "output_type": "display_data",
          "data": {
            "text/plain": [
              "<Figure size 1000x1000 with 2 Axes>"
            ],
            "image/png": "[encoded data removed]"
          },
          "metadata": {}
        }
      ]
    },
    {
      "cell_type": "code",
      "source": [
        "from keras.models import load_model\n",
        "from sklearn.metrics import accuracy_score"
      ],
      "metadata": {
        "id": "VbhZXEc_HIJp"
      },
      "id": "VbhZXEc_HIJp",
      "execution_count": 29,
      "outputs": []
    },
    {
      "cell_type": "code",
      "source": [
        "# Define the combinations of (steps_per_epoch, epochs)\n",
        "combinations = [\n",
        "    (10, 32), (10, 64), (10, 128),\n",
        "    (20, 32), (20, 64), (20, 128),\n",
        "    (50, 32), (50, 64), (50, 128)\n",
        "]\n",
        "\n",
        "# Create an empty dataframe to store the accuracy for each combination\n",
        "accuracy_df = pd.DataFrame(columns=['Epochs', 'Batch Size', 'Accuracy'])\n",
        "\n",
        "# Loop through each combination\n",
        "for epochs,batch_size in combinations:\n",
        "    # Train the model with the specified parameters\n",
        "    history = model.fit(\n",
        "        X_train,\n",
        "        y_train,\n",
        "        epochs=epochs,\n",
        "        batch_size=batch_size,\n",
        "        validation_data=(X_test, y_test),\n",
        "        verbose=0  # Set verbose to 0 to suppress training logs\n",
        "    )\n",
        "\n",
        "    # Save the model after each iteration\n",
        "    model_path = f'model_steps_{batch_size}_epochs_{epochs}.h5'\n",
        "    model.save(model_path)\n",
        "\n",
        "    saved_model = load_model(model_path)\n",
        "\n",
        "    predictions = saved_model.predict(X_test)\n",
        "    loss, accuracy = model.evaluate(X_test, y_test)\n",
        "\n",
        "    accuracy_df = accuracy_df._append({'Epochs': epochs, 'Batch Size': batch_size, 'Accuracy': accuracy}, ignore_index=True)"
      ],
      "metadata": {
        "colab": {
          "base_uri": "https://localhost:8080/"
        },
        "id": "iNsfZJN-Famt",
        "outputId": "4e90ead0-45d5-450c-b4c3-3ca4ccc78bf4"
      },
      "id": "iNsfZJN-Famt",
      "execution_count": 30,
      "outputs": [
        {
          "output_type": "stream",
          "name": "stderr",
          "text": [
            "/usr/local/lib/python3.10/dist-packages/keras/src/engine/training.py:3103: UserWarning: You are saving your model as an HDF5 file via `model.save()`. This file format is considered legacy. We recommend using instead the native Keras format, e.g. `model.save('my_model.keras')`.\n",
            "  saving_api.save_model(\n"
          ]
        },
        {
          "output_type": "stream",
          "name": "stdout",
          "text": [
            "16/16 [==============================] - 0s 2ms/step\n",
            "16/16 [==============================] - 0s 2ms/step - loss: 0.3257 - accuracy: 0.9029\n"
          ]
        },
        {
          "output_type": "stream",
          "name": "stderr",
          "text": [
            "/usr/local/lib/python3.10/dist-packages/keras/src/engine/training.py:3103: UserWarning: You are saving your model as an HDF5 file via `model.save()`. This file format is considered legacy. We recommend using instead the native Keras format, e.g. `model.save('my_model.keras')`.\n",
            "  saving_api.save_model(\n"
          ]
        },
        {
          "output_type": "stream",
          "name": "stdout",
          "text": [
            "16/16 [==============================] - 0s 2ms/step\n",
            "16/16 [==============================] - 0s 2ms/step - loss: 0.2933 - accuracy: 0.9153\n"
          ]
        },
        {
          "output_type": "stream",
          "name": "stderr",
          "text": [
            "/usr/local/lib/python3.10/dist-packages/keras/src/engine/training.py:3103: UserWarning: You are saving your model as an HDF5 file via `model.save()`. This file format is considered legacy. We recommend using instead the native Keras format, e.g. `model.save('my_model.keras')`.\n",
            "  saving_api.save_model(\n"
          ]
        },
        {
          "output_type": "stream",
          "name": "stdout",
          "text": [
            "16/16 [==============================] - 0s 2ms/step\n",
            "16/16 [==============================] - 0s 3ms/step - loss: 0.2796 - accuracy: 0.9194\n"
          ]
        },
        {
          "output_type": "stream",
          "name": "stderr",
          "text": [
            "/usr/local/lib/python3.10/dist-packages/keras/src/engine/training.py:3103: UserWarning: You are saving your model as an HDF5 file via `model.save()`. This file format is considered legacy. We recommend using instead the native Keras format, e.g. `model.save('my_model.keras')`.\n",
            "  saving_api.save_model(\n"
          ]
        },
        {
          "output_type": "stream",
          "name": "stdout",
          "text": [
            "16/16 [==============================] - 0s 2ms/step\n",
            "16/16 [==============================] - 0s 2ms/step - loss: 0.2480 - accuracy: 0.9401\n"
          ]
        },
        {
          "output_type": "stream",
          "name": "stderr",
          "text": [
            "/usr/local/lib/python3.10/dist-packages/keras/src/engine/training.py:3103: UserWarning: You are saving your model as an HDF5 file via `model.save()`. This file format is considered legacy. We recommend using instead the native Keras format, e.g. `model.save('my_model.keras')`.\n",
            "  saving_api.save_model(\n"
          ]
        },
        {
          "output_type": "stream",
          "name": "stdout",
          "text": [
            "16/16 [==============================] - 0s 2ms/step\n",
            "16/16 [==============================] - 0s 2ms/step - loss: 0.2192 - accuracy: 0.9339\n"
          ]
        },
        {
          "output_type": "stream",
          "name": "stderr",
          "text": [
            "/usr/local/lib/python3.10/dist-packages/keras/src/engine/training.py:3103: UserWarning: You are saving your model as an HDF5 file via `model.save()`. This file format is considered legacy. We recommend using instead the native Keras format, e.g. `model.save('my_model.keras')`.\n",
            "  saving_api.save_model(\n"
          ]
        },
        {
          "output_type": "stream",
          "name": "stdout",
          "text": [
            "16/16 [==============================] - 0s 2ms/step\n",
            "16/16 [==============================] - 0s 2ms/step - loss: 0.2199 - accuracy: 0.9380\n"
          ]
        },
        {
          "output_type": "stream",
          "name": "stderr",
          "text": [
            "/usr/local/lib/python3.10/dist-packages/keras/src/engine/training.py:3103: UserWarning: You are saving your model as an HDF5 file via `model.save()`. This file format is considered legacy. We recommend using instead the native Keras format, e.g. `model.save('my_model.keras')`.\n",
            "  saving_api.save_model(\n"
          ]
        },
        {
          "output_type": "stream",
          "name": "stdout",
          "text": [
            "16/16 [==============================] - 0s 2ms/step\n",
            "16/16 [==============================] - 0s 2ms/step - loss: 0.2233 - accuracy: 0.9463\n"
          ]
        },
        {
          "output_type": "stream",
          "name": "stderr",
          "text": [
            "/usr/local/lib/python3.10/dist-packages/keras/src/engine/training.py:3103: UserWarning: You are saving your model as an HDF5 file via `model.save()`. This file format is considered legacy. We recommend using instead the native Keras format, e.g. `model.save('my_model.keras')`.\n",
            "  saving_api.save_model(\n"
          ]
        },
        {
          "output_type": "stream",
          "name": "stdout",
          "text": [
            "16/16 [==============================] - 0s 2ms/step\n",
            "16/16 [==============================] - 0s 3ms/step - loss: 0.2131 - accuracy: 0.9401\n"
          ]
        },
        {
          "output_type": "stream",
          "name": "stderr",
          "text": [
            "/usr/local/lib/python3.10/dist-packages/keras/src/engine/training.py:3103: UserWarning: You are saving your model as an HDF5 file via `model.save()`. This file format is considered legacy. We recommend using instead the native Keras format, e.g. `model.save('my_model.keras')`.\n",
            "  saving_api.save_model(\n"
          ]
        },
        {
          "output_type": "stream",
          "name": "stdout",
          "text": [
            "16/16 [==============================] - 0s 2ms/step\n",
            "16/16 [==============================] - 0s 2ms/step - loss: 0.2021 - accuracy: 0.9566\n"
          ]
        }
      ]
    },
    {
      "cell_type": "code",
      "source": [
        "accuracy_df"
      ],
      "metadata": {
        "colab": {
          "base_uri": "https://localhost:8080/",
          "height": 332
        },
        "id": "43xvGTKkJDrs",
        "outputId": "b5612cb8-5d0e-4e2e-8705-a3adff7b96b6"
      },
      "id": "43xvGTKkJDrs",
      "execution_count": 31,
      "outputs": [
        {
          "output_type": "execute_result",
          "data": {
            "text/plain": [
              "   Epochs  Batch Size  Accuracy\n",
              "0    10.0        32.0  0.902893\n",
              "1    10.0        64.0  0.915289\n",
              "2    10.0       128.0  0.919421\n",
              "3    20.0        32.0  0.940083\n",
              "4    20.0        64.0  0.933884\n",
              "5    20.0       128.0  0.938017\n",
              "6    50.0        32.0  0.946281\n",
              "7    50.0        64.0  0.940083\n",
              "8    50.0       128.0  0.956612"
            ],
            "text/html": [
              "\n",
              "  <div id=\"df-a974b34e-5497-4ff8-8e34-17f78e0374cb\" class=\"colab-df-container\">\n",
              "    <div>\n",
              "<style scoped>\n",
              "    .dataframe tbody tr th:only-of-type {\n",
              "        vertical-align: middle;\n",
              "    }\n",
              "\n",
              "    .dataframe tbody tr th {\n",
              "        vertical-align: top;\n",
              "    }\n",
              "\n",
              "    .dataframe thead th {\n",
              "        text-align: right;\n",
              "    }\n",
              "</style>\n",
              "<table border=\"1\" class=\"dataframe\">\n",
              "  <thead>\n",
              "    <tr style=\"text-align: right;\">\n",
              "      <th></th>\n",
              "      <th>Epochs</th>\n",
              "      <th>Batch Size</th>\n",
              "      <th>Accuracy</th>\n",
              "    </tr>\n",
              "  </thead>\n",
              "  <tbody>\n",
              "    <tr>\n",
              "      <th>0</th>\n",
              "      <td>10.0</td>\n",
              "      <td>32.0</td>\n",
              "      <td>0.902893</td>\n",
              "    </tr>\n",
              "    <tr>\n",
              "      <th>1</th>\n",
              "      <td>10.0</td>\n",
              "      <td>64.0</td>\n",
              "      <td>0.915289</td>\n",
              "    </tr>\n",
              "    <tr>\n",
              "      <th>2</th>\n",
              "      <td>10.0</td>\n",
              "      <td>128.0</td>\n",
              "      <td>0.919421</td>\n",
              "    </tr>\n",
              "    <tr>\n",
              "      <th>3</th>\n",
              "      <td>20.0</td>\n",
              "      <td>32.0</td>\n",
              "      <td>0.940083</td>\n",
              "    </tr>\n",
              "    <tr>\n",
              "      <th>4</th>\n",
              "      <td>20.0</td>\n",
              "      <td>64.0</td>\n",
              "      <td>0.933884</td>\n",
              "    </tr>\n",
              "    <tr>\n",
              "      <th>5</th>\n",
              "      <td>20.0</td>\n",
              "      <td>128.0</td>\n",
              "      <td>0.938017</td>\n",
              "    </tr>\n",
              "    <tr>\n",
              "      <th>6</th>\n",
              "      <td>50.0</td>\n",
              "      <td>32.0</td>\n",
              "      <td>0.946281</td>\n",
              "    </tr>\n",
              "    <tr>\n",
              "      <th>7</th>\n",
              "      <td>50.0</td>\n",
              "      <td>64.0</td>\n",
              "      <td>0.940083</td>\n",
              "    </tr>\n",
              "    <tr>\n",
              "      <th>8</th>\n",
              "      <td>50.0</td>\n",
              "      <td>128.0</td>\n",
              "      <td>0.956612</td>\n",
              "    </tr>\n",
              "  </tbody>\n",
              "</table>\n",
              "</div>\n",
              "    <div class=\"colab-df-buttons\">\n",
              "\n",
              "  <div class=\"colab-df-container\">\n",
              "    <button class=\"colab-df-convert\" onclick=\"convertToInteractive('df-a974b34e-5497-4ff8-8e34-17f78e0374cb')\"\n",
              "            title=\"Convert this dataframe to an interactive table.\"\n",
              "            style=\"display:none;\">\n",
              "\n",
              "  <svg xmlns=\"http://www.w3.org/2000/svg\" height=\"24px\" viewBox=\"0 -960 960 960\">\n",
              "    <path d=\"M120-120v-720h720v720H120Zm60-500h600v-160H180v160Zm220 220h160v-160H400v160Zm0 220h160v-160H400v160ZM180-400h160v-160H180v160Zm440 0h160v-160H620v160ZM180-180h160v-160H180v160Zm440 0h160v-160H620v160Z\"/>\n",
              "  </svg>\n",
              "    </button>\n",
              "\n",
              "  <style>\n",
              "    .colab-df-container {\n",
              "      display:flex;\n",
              "      gap: 12px;\n",
              "    }\n",
              "\n",
              "    .colab-df-convert {\n",
              "      background-color: #E8F0FE;\n",
              "      border: none;\n",
              "      border-radius: 50%;\n",
              "      cursor: pointer;\n",
              "      display: none;\n",
              "      fill: #1967D2;\n",
              "      height: 32px;\n",
              "      padding: 0 0 0 0;\n",
              "      width: 32px;\n",
              "    }\n",
              "\n",
              "    .colab-df-convert:hover {\n",
              "      background-color: #E2EBFA;\n",
              "      box-shadow: 0px 1px 2px rgba(60, 64, 67, 0.3), 0px 1px 3px 1px rgba(60, 64, 67, 0.15);\n",
              "      fill: #174EA6;\n",
              "    }\n",
              "\n",
              "    .colab-df-buttons div {\n",
              "      margin-bottom: 4px;\n",
              "    }\n",
              "\n",
              "    [theme=dark] .colab-df-convert {\n",
              "      background-color: #3B4455;\n",
              "      fill: #D2E3FC;\n",
              "    }\n",
              "\n",
              "    [theme=dark] .colab-df-convert:hover {\n",
              "      background-color: #434B5C;\n",
              "      box-shadow: 0px 1px 3px 1px rgba(0, 0, 0, 0.15);\n",
              "      filter: drop-shadow(0px 1px 2px rgba(0, 0, 0, 0.3));\n",
              "      fill: #FFFFFF;\n",
              "    }\n",
              "  </style>\n",
              "\n",
              "    <script>\n",
              "      const buttonEl =\n",
              "        document.querySelector('#df-a974b34e-5497-4ff8-8e34-17f78e0374cb button.colab-df-convert');\n",
              "      buttonEl.style.display =\n",
              "        google.colab.kernel.accessAllowed ? 'block' : 'none';\n",
              "\n",
              "      async function convertToInteractive(key) {\n",
              "        const element = document.querySelector('#df-a974b34e-5497-4ff8-8e34-17f78e0374cb');\n",
              "        const dataTable =\n",
              "          await google.colab.kernel.invokeFunction('convertToInteractive',\n",
              "                                                    [key], {});\n",
              "        if (!dataTable) return;\n",
              "\n",
              "        const docLinkHtml = 'Like what you see? Visit the ' +\n",
              "          '<a target=\"_blank\" href=https://colab.research.google.com/notebooks/data_table.ipynb>data table notebook</a>'\n",
              "          + ' to learn more about interactive tables.';\n",
              "        element.innerHTML = '';\n",
              "        dataTable['output_type'] = 'display_data';\n",
              "        await google.colab.output.renderOutput(dataTable, element);\n",
              "        const docLink = document.createElement('div');\n",
              "        docLink.innerHTML = docLinkHtml;\n",
              "        element.appendChild(docLink);\n",
              "      }\n",
              "    </script>\n",
              "  </div>\n",
              "\n",
              "\n",
              "<div id=\"df-7427a563-d625-41ca-9c4a-6788a1e0cf10\">\n",
              "  <button class=\"colab-df-quickchart\" onclick=\"quickchart('df-7427a563-d625-41ca-9c4a-6788a1e0cf10')\"\n",
              "            title=\"Suggest charts\"\n",
              "            style=\"display:none;\">\n",
              "\n",
              "<svg xmlns=\"http://www.w3.org/2000/svg\" height=\"24px\"viewBox=\"0 0 24 24\"\n",
              "     width=\"24px\">\n",
              "    <g>\n",
              "        <path d=\"M19 3H5c-1.1 0-2 .9-2 2v14c0 1.1.9 2 2 2h14c1.1 0 2-.9 2-2V5c0-1.1-.9-2-2-2zM9 17H7v-7h2v7zm4 0h-2V7h2v10zm4 0h-2v-4h2v4z\"/>\n",
              "    </g>\n",
              "</svg>\n",
              "  </button>\n",
              "\n",
              "<style>\n",
              "  .colab-df-quickchart {\n",
              "      --bg-color: #E8F0FE;\n",
              "      --fill-color: #1967D2;\n",
              "      --hover-bg-color: #E2EBFA;\n",
              "      --hover-fill-color: #174EA6;\n",
              "      --disabled-fill-color: #AAA;\n",
              "      --disabled-bg-color: #DDD;\n",
              "  }\n",
              "\n",
              "  [theme=dark] .colab-df-quickchart {\n",
              "      --bg-color: #3B4455;\n",
              "      --fill-color: #D2E3FC;\n",
              "      --hover-bg-color: #434B5C;\n",
              "      --hover-fill-color: #FFFFFF;\n",
              "      --disabled-bg-color: #3B4455;\n",
              "      --disabled-fill-color: #666;\n",
              "  }\n",
              "\n",
              "  .colab-df-quickchart {\n",
              "    background-color: var(--bg-color);\n",
              "    border: none;\n",
              "    border-radius: 50%;\n",
              "    cursor: pointer;\n",
              "    display: none;\n",
              "    fill: var(--fill-color);\n",
              "    height: 32px;\n",
              "    padding: 0;\n",
              "    width: 32px;\n",
              "  }\n",
              "\n",
              "  .colab-df-quickchart:hover {\n",
              "    background-color: var(--hover-bg-color);\n",
              "    box-shadow: 0 1px 2px rgba(60, 64, 67, 0.3), 0 1px 3px 1px rgba(60, 64, 67, 0.15);\n",
              "    fill: var(--button-hover-fill-color);\n",
              "  }\n",
              "\n",
              "  .colab-df-quickchart-complete:disabled,\n",
              "  .colab-df-quickchart-complete:disabled:hover {\n",
              "    background-color: var(--disabled-bg-color);\n",
              "    fill: var(--disabled-fill-color);\n",
              "    box-shadow: none;\n",
              "  }\n",
              "\n",
              "  .colab-df-spinner {\n",
              "    border: 2px solid var(--fill-color);\n",
              "    border-color: transparent;\n",
              "    border-bottom-color: var(--fill-color);\n",
              "    animation:\n",
              "      spin 1s steps(1) infinite;\n",
              "  }\n",
              "\n",
              "  @keyframes spin {\n",
              "    0% {\n",
              "      border-color: transparent;\n",
              "      border-bottom-color: var(--fill-color);\n",
              "      border-left-color: var(--fill-color);\n",
              "    }\n",
              "    20% {\n",
              "      border-color: transparent;\n",
              "      border-left-color: var(--fill-color);\n",
              "      border-top-color: var(--fill-color);\n",
              "    }\n",
              "    30% {\n",
              "      border-color: transparent;\n",
              "      border-left-color: var(--fill-color);\n",
              "      border-top-color: var(--fill-color);\n",
              "      border-right-color: var(--fill-color);\n",
              "    }\n",
              "    40% {\n",
              "      border-color: transparent;\n",
              "      border-right-color: var(--fill-color);\n",
              "      border-top-color: var(--fill-color);\n",
              "    }\n",
              "    60% {\n",
              "      border-color: transparent;\n",
              "      border-right-color: var(--fill-color);\n",
              "    }\n",
              "    80% {\n",
              "      border-color: transparent;\n",
              "      border-right-color: var(--fill-color);\n",
              "      border-bottom-color: var(--fill-color);\n",
              "    }\n",
              "    90% {\n",
              "      border-color: transparent;\n",
              "      border-bottom-color: var(--fill-color);\n",
              "    }\n",
              "  }\n",
              "</style>\n",
              "\n",
              "  <script>\n",
              "    async function quickchart(key) {\n",
              "      const quickchartButtonEl =\n",
              "        document.querySelector('#' + key + ' button');\n",
              "      quickchartButtonEl.disabled = true;  // To prevent multiple clicks.\n",
              "      quickchartButtonEl.classList.add('colab-df-spinner');\n",
              "      try {\n",
              "        const charts = await google.colab.kernel.invokeFunction(\n",
              "            'suggestCharts', [key], {});\n",
              "      } catch (error) {\n",
              "        console.error('Error during call to suggestCharts:', error);\n",
              "      }\n",
              "      quickchartButtonEl.classList.remove('colab-df-spinner');\n",
              "      quickchartButtonEl.classList.add('colab-df-quickchart-complete');\n",
              "    }\n",
              "    (() => {\n",
              "      let quickchartButtonEl =\n",
              "        document.querySelector('#df-7427a563-d625-41ca-9c4a-6788a1e0cf10 button');\n",
              "      quickchartButtonEl.style.display =\n",
              "        google.colab.kernel.accessAllowed ? 'block' : 'none';\n",
              "    })();\n",
              "  </script>\n",
              "</div>\n",
              "    </div>\n",
              "  </div>\n"
            ],
            "application/vnd.google.colaboratory.intrinsic+json": {
              "type": "dataframe",
              "variable_name": "accuracy_df",
              "summary": "{\n  \"name\": \"accuracy_df\",\n  \"rows\": 9,\n  \"fields\": [\n    {\n      \"column\": \"Epochs\",\n      \"properties\": {\n        \"dtype\": \"number\",\n        \"std\": 18.027756377319946,\n        \"min\": 10.0,\n        \"max\": 50.0,\n        \"num_unique_values\": 3,\n        \"samples\": [\n          10.0,\n          20.0,\n          50.0\n        ],\n        \"semantic_type\": \"\",\n        \"description\": \"\"\n      }\n    },\n    {\n      \"column\": \"Batch Size\",\n      \"properties\": {\n        \"dtype\": \"number\",\n        \"std\": 42.332020977033444,\n        \"min\": 32.0,\n        \"max\": 128.0,\n        \"num_unique_values\": 3,\n        \"samples\": [\n          32.0,\n          64.0,\n          128.0\n        ],\n        \"semantic_type\": \"\",\n        \"description\": \"\"\n      }\n    },\n    {\n      \"column\": \"Accuracy\",\n      \"properties\": {\n        \"dtype\": \"number\",\n        \"std\": 0.016816959648243937,\n        \"min\": 0.9028925895690918,\n        \"max\": 0.9566115736961365,\n        \"num_unique_values\": 8,\n        \"samples\": [\n          0.9152892827987671,\n          0.9380165338516235,\n          0.9028925895690918\n        ],\n        \"semantic_type\": \"\",\n        \"description\": \"\"\n      }\n    }\n  ]\n}"
            }
          },
          "metadata": {},
          "execution_count": 31
        }
      ]
    },
    {
      "cell_type": "code",
      "source": [
        "from keras.callbacks import EarlyStopping"
      ],
      "metadata": {
        "id": "HzBTC5H7PU9X"
      },
      "id": "HzBTC5H7PU9X",
      "execution_count": 32,
      "outputs": []
    },
    {
      "cell_type": "code",
      "source": [
        "early_stopping = EarlyStopping(monitor='val_loss', patience=3)"
      ],
      "metadata": {
        "id": "fJa2IYOxPWSR"
      },
      "id": "fJa2IYOxPWSR",
      "execution_count": 33,
      "outputs": []
    },
    {
      "cell_type": "code",
      "source": [
        "history = model.fit(\n",
        "    X_train,\n",
        "    y_train,\n",
        "    epochs=100,  # You can adjust the number of epochs as needed\n",
        "    validation_data=(X_test, y_test),\n",
        "    callbacks=[early_stopping]\n",
        ")"
      ],
      "metadata": {
        "colab": {
          "base_uri": "https://localhost:8080/"
        },
        "id": "6GKJQdF4PZ-l",
        "outputId": "3879b7ea-8df5-45ba-82bd-b7a0ed9551c8"
      },
      "id": "6GKJQdF4PZ-l",
      "execution_count": 34,
      "outputs": [
        {
          "output_type": "stream",
          "name": "stdout",
          "text": [
            "Epoch 1/100\n",
            "36/36 [==============================] - 0s 7ms/step - loss: 0.1220 - accuracy: 0.9601 - val_loss: 0.2266 - val_accuracy: 0.9483\n",
            "Epoch 2/100\n",
            "36/36 [==============================] - 0s 5ms/step - loss: 0.1197 - accuracy: 0.9522 - val_loss: 0.2356 - val_accuracy: 0.9318\n",
            "Epoch 3/100\n",
            "36/36 [==============================] - 0s 4ms/step - loss: 0.1826 - accuracy: 0.9389 - val_loss: 0.2020 - val_accuracy: 0.9483\n",
            "Epoch 4/100\n",
            "36/36 [==============================] - 0s 4ms/step - loss: 0.1615 - accuracy: 0.9486 - val_loss: 0.2237 - val_accuracy: 0.9215\n",
            "Epoch 5/100\n",
            "36/36 [==============================] - 0s 4ms/step - loss: 0.1588 - accuracy: 0.9398 - val_loss: 0.2200 - val_accuracy: 0.9525\n",
            "Epoch 6/100\n",
            "36/36 [==============================] - 0s 4ms/step - loss: 0.1426 - accuracy: 0.9486 - val_loss: 0.2397 - val_accuracy: 0.9442\n"
          ]
        }
      ]
    },
    {
      "cell_type": "code",
      "source": [
        "# Predict using the early-stopped model\n",
        "predictions = model.predict(X_test)\n",
        "predicted_labels = np.argmax(predictions, axis=1)\n",
        "true_labels = np.argmax(y_test, axis=1)\n",
        "\n"
      ],
      "metadata": {
        "colab": {
          "base_uri": "https://localhost:8080/"
        },
        "id": "grlnUGWdPrq3",
        "outputId": "202f8ebc-72b4-4e86-bb80-4559c1a1920b"
      },
      "id": "grlnUGWdPrq3",
      "execution_count": 36,
      "outputs": [
        {
          "output_type": "stream",
          "name": "stdout",
          "text": [
            "16/16 [==============================] - 0s 2ms/step\n"
          ]
        }
      ]
    },
    {
      "cell_type": "code",
      "source": [
        "conf_matrix = confusion_matrix(true_labels, predicted_labels)\n",
        "print(\"Confusion Matrix:\")\n",
        "print(conf_matrix)"
      ],
      "metadata": {
        "colab": {
          "base_uri": "https://localhost:8080/"
        },
        "id": "AMBpc0lwvWDX",
        "outputId": "9e8eef94-ec46-4553-fd68-d42dae0148e4"
      },
      "id": "AMBpc0lwvWDX",
      "execution_count": 37,
      "outputs": [
        {
          "output_type": "stream",
          "name": "stdout",
          "text": [
            "Confusion Matrix:\n",
            "[[ 33   1  14]\n",
            " [  0 124   5]\n",
            " [  3   4 300]]\n"
          ]
        }
      ]
    },
    {
      "cell_type": "code",
      "source": [
        "class_report = classification_report(true_labels, predicted_labels)\n",
        "print(\"Classification Report:\")\n",
        "print(class_report)\n"
      ],
      "metadata": {
        "colab": {
          "base_uri": "https://localhost:8080/"
        },
        "id": "Qp7aw_PoWdcd",
        "outputId": "93d65c94-2263-4aef-deda-cf3cf3f98d81"
      },
      "id": "Qp7aw_PoWdcd",
      "execution_count": 38,
      "outputs": [
        {
          "output_type": "stream",
          "name": "stdout",
          "text": [
            "Classification Report:\n",
            "              precision    recall  f1-score   support\n",
            "\n",
            "           0       0.92      0.69      0.79        48\n",
            "           1       0.96      0.96      0.96       129\n",
            "           2       0.94      0.98      0.96       307\n",
            "\n",
            "    accuracy                           0.94       484\n",
            "   macro avg       0.94      0.88      0.90       484\n",
            "weighted avg       0.94      0.94      0.94       484\n",
            "\n"
          ]
        }
      ]
    },
    {
      "cell_type": "code",
      "source": [
        "from sklearn.metrics import accuracy_score\n",
        "accuracy = accuracy_score(true_labels, predicted_labels)\n",
        "\n",
        "print(\"Test Data Accuracy:\", accuracy)"
      ],
      "metadata": {
        "colab": {
          "base_uri": "https://localhost:8080/"
        },
        "id": "Furx6s0kP-ot",
        "outputId": "4d1baad2-c51b-4c87-8187-7e274617732b"
      },
      "id": "Furx6s0kP-ot",
      "execution_count": 39,
      "outputs": [
        {
          "output_type": "stream",
          "name": "stdout",
          "text": [
            "Test Data Accuracy: 0.9442148760330579\n"
          ]
        }
      ]
    },
    {
      "cell_type": "code",
      "source": [
        "#predict on train data\n",
        "predictions_train = model.predict(X_train)\n",
        "predicted_labels_train = np.argmax(predictions_train, axis=1)\n",
        "true_labels_train = np.argmax(y_train, axis=1)"
      ],
      "metadata": {
        "colab": {
          "base_uri": "https://localhost:8080/"
        },
        "id": "PCOuX8e0vSUe",
        "outputId": "6d6bae41-b544-405c-9aea-d87d21f5df21"
      },
      "id": "PCOuX8e0vSUe",
      "execution_count": 40,
      "outputs": [
        {
          "output_type": "stream",
          "name": "stdout",
          "text": [
            "36/36 [==============================] - 0s 2ms/step\n"
          ]
        }
      ]
    },
    {
      "cell_type": "code",
      "source": [
        "conf_matrix = confusion_matrix(true_labels_train, predicted_labels_train)\n",
        "print(\"Confusion Matrix for train data:\")\n",
        "print(conf_matrix)"
      ],
      "metadata": {
        "colab": {
          "base_uri": "https://localhost:8080/"
        },
        "id": "mwU9F0BBvd7g",
        "outputId": "6dc393c0-3690-4afd-ec4f-c77eee50dde8"
      },
      "id": "mwU9F0BBvd7g",
      "execution_count": 41,
      "outputs": [
        {
          "output_type": "stream",
          "name": "stdout",
          "text": [
            "Confusion Matrix for train data:\n",
            "[[105   0  16]\n",
            " [  0 307   8]\n",
            " [  5   8 680]]\n"
          ]
        }
      ]
    },
    {
      "cell_type": "code",
      "source": [
        "class_report = classification_report(true_labels_train, predicted_labels_train)\n",
        "print(\"Classification Report for train data:\")\n",
        "print(class_report)"
      ],
      "metadata": {
        "colab": {
          "base_uri": "https://localhost:8080/"
        },
        "id": "we-yNHMAvhKv",
        "outputId": "77969195-10f9-46dd-97cb-4a1513840274"
      },
      "id": "we-yNHMAvhKv",
      "execution_count": 42,
      "outputs": [
        {
          "output_type": "stream",
          "name": "stdout",
          "text": [
            "Classification Report for train data:\n",
            "              precision    recall  f1-score   support\n",
            "\n",
            "           0       0.95      0.87      0.91       121\n",
            "           1       0.97      0.97      0.97       315\n",
            "           2       0.97      0.98      0.97       693\n",
            "\n",
            "    accuracy                           0.97      1129\n",
            "   macro avg       0.97      0.94      0.95      1129\n",
            "weighted avg       0.97      0.97      0.97      1129\n",
            "\n"
          ]
        }
      ]
    },
    {
      "cell_type": "code",
      "source": [
        "#training history\n",
        "\n",
        "fig, ax = plt.subplots(nrows=2, ncols=1, figsize=(10, 10))\n",
        "ax[0].plot(history.history['loss'], label=\"Training loss\")\n",
        "ax[0].plot(history.history['val_loss'], label=\"Validation loss\",)\n",
        "legend = ax[0].legend(loc='best', fontsize=10)\n",
        "\n",
        "ax[1].plot(history.history['accuracy'], label=\"Training accuracy\")\n",
        "ax[1].plot(history.history['val_accuracy'], label=\"Validation accuracy\")\n",
        "legend = ax[1].legend(loc='best', fontsize=10)"
      ],
      "metadata": {
        "colab": {
          "base_uri": "https://localhost:8080/",
          "height": 830
        },
        "id": "R_JyAjv6x4LZ",
        "outputId": "2e5ef217-47a8-477c-a265-3084957025fd"
      },
      "id": "R_JyAjv6x4LZ",
      "execution_count": 43,
      "outputs": [
        {
          "output_type": "display_data",
          "data": {
            "text/plain": [
              "<Figure size 1000x1000 with 2 Axes>"
            ],
            "image/png": "[encoded data removed]"
          },
          "metadata": {}
        }
      ]
    }
  ],
  "metadata": {
    "kernelspec": {
      "display_name": "Python 3 (ipykernel)",
      "language": "python",
      "name": "python3"
    },
    "language_info": {
      "codemirror_mode": {
        "name": "ipython",
        "version": 3
      },
      "file_extension": ".py",
      "mimetype": "text/x-python",
      "name": "python",
      "nbconvert_exporter": "python",
      "pygments_lexer": "ipython3",
      "version": "3.9.13"
    },
    "colab": {
      "provenance": []
    }
  },
  "nbformat": 4,
  "nbformat_minor": 5
}